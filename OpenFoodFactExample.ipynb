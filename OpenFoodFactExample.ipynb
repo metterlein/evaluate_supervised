{
 "cells": [
  {
   "cell_type": "markdown",
   "metadata": {},
   "source": [
    "# Abstract\n",
    "\n",
    "We demo a text classification approach based on an open dataset from https://world.openfoodfacts.org/. The goal of our talk is to categorize food items with various tags, where a particular food item is defined by a product's name, a generic name as well as a brand. For classification, we use facebooks NLP model fasttext, which provides a text classification model based on word embeddings as well as character n-gram embeddings. In a first experiment, we only use a single tag and remove additional ones from each data point. In this case, the evaluation is straight forward. However, since some classes are more closely related than others, we don't want to evaluate predictions in a binary manner as one would typically do. To this end, we implement a similarity concept and a multilabel classification approach. Additionally, we present some applications of a standardized food catalog, for instance search and recommendations."
   ]
  },
  {
   "cell_type": "code",
   "execution_count": 1,
   "metadata": {},
   "outputs": [],
   "source": [
    "import pandas as pd\n",
    "import numpy as np\n",
    "from fasttext import *\n",
    "%matplotlib inline\n",
    "import evaluation_metrics\n",
    "\n",
    "from sklearn.model_selection import train_test_split\n",
    "from sklearn.metrics import classification_report\n",
    "\n",
    "import scipy.spatial.distance as sd\n",
    "import sklearn.metrics.pairwise as pw\n",
    "import re"
   ]
  },
  {
   "cell_type": "code",
   "execution_count": 2,
   "metadata": {},
   "outputs": [],
   "source": [
    "FASTTEXT_HOME=\"/Users/evelyn.trautmann/repos/fasttext3\""
   ]
  },
  {
   "cell_type": "markdown",
   "metadata": {},
   "source": [
    "# Load Data\n",
    "\n",
    "The following classification is based on an open dataset from https://world.openfoodfacts.org/"
   ]
  },
  {
   "cell_type": "code",
   "execution_count": 3,
   "metadata": {},
   "outputs": [
    {
     "data": {
      "text/plain": [
       "product_name            324820\n",
       "generic_name             83152\n",
       "brands                  269465\n",
       "categories              329303\n",
       "categories_tags         329303\n",
       "origins                  47351\n",
       "manufacturing_places     73767\n",
       "labels                  118779\n",
       "emb_codes                52104\n",
       "countries               329099\n",
       "main_category           329297\n",
       "en_tags                 329303\n",
       "dtype: int64"
      ]
     },
     "execution_count": 3,
     "metadata": {},
     "output_type": "execute_result"
    }
   ],
   "source": [
    "df = pd.read_csv(\"data/foodcategories_single_label.csv.zip\", sep = \"\\x01\", compression=\"zip\")\n",
    "df.en_tags = df.en_tags.apply(eval)\n",
    "df = df[df.en_tags.str.len()>0]\n",
    "\n",
    "df.count()"
   ]
  },
  {
   "cell_type": "markdown",
   "metadata": {},
   "source": [
    "We want to classify tags based on product name, generic name and brand. In the first dataset we have a single tag assigned to each data point."
   ]
  },
  {
   "cell_type": "code",
   "execution_count": 4,
   "metadata": {},
   "outputs": [
    {
     "data": {
      "text/plain": [
       "(1    329303\n",
       " Name: en_tags, dtype: int64, '87 labels ')"
      ]
     },
     "execution_count": 4,
     "metadata": {},
     "output_type": "execute_result"
    }
   ],
   "source": [
    "df.en_tags.str.len().value_counts(), \"%i labels \"%len(set(np.concatenate(df.en_tags.values)))"
   ]
  },
  {
   "cell_type": "markdown",
   "metadata": {},
   "source": [
    "# Extract Train and Test Data"
   ]
  },
  {
   "cell_type": "code",
   "execution_count": 5,
   "metadata": {
    "scrolled": true
   },
   "outputs": [],
   "source": [
    "#generate features\n",
    "feature_cols = ['product_name', 'generic_name', 'brands']\n",
    "assert(df[df.en_tags.str.len()==0].shape[0]==0)\n",
    "X = df[feature_cols].fillna(\"\").apply(lambda x: \" \".join(x), axis = 1)\n",
    "y = df.en_tags"
   ]
  },
  {
   "cell_type": "code",
   "execution_count": 6,
   "metadata": {},
   "outputs": [],
   "source": [
    "# preprocess and split train and test date\n",
    "X = X.str.lower().apply(lambda x: re.sub(r'[^\\w\\s]','',x))\n",
    "\n",
    "X_train, X_test, y_train, y_test = train_test_split(X, y, test_size=0.33, random_state=42)\n",
    "\n",
    "dftrain = y_train.apply(lambda x: \" \".join([\"__label__\" + y\n",
    "                    for y in x])) + \" \" + X_train"
   ]
  },
  {
   "cell_type": "code",
   "execution_count": 7,
   "metadata": {},
   "outputs": [],
   "source": [
    "dftrain_emb = y_train.apply(lambda x: \" \".join(x)) + \" \" + X_train\n",
    "dftrain_emb.to_csv(\n",
    "    \"train_emb.csv\", index = False, sep=\";\")"
   ]
  },
  {
   "cell_type": "code",
   "execution_count": 8,
   "metadata": {},
   "outputs": [],
   "source": [
    "dftest = y_test.apply(lambda x: \" \".join([\"__label__\" + y\n",
    "                    for y in x])) + \" \" + X_test\n"
   ]
  },
  {
   "cell_type": "code",
   "execution_count": 9,
   "metadata": {},
   "outputs": [],
   "source": [
    "dftrain.to_csv(\n",
    "    \"train.csv\", index = False, sep=\";\")\n",
    "dftest.to_csv(\n",
    "    \"test.csv\", index = False, sep=\";\")"
   ]
  },
  {
   "cell_type": "markdown",
   "metadata": {},
   "source": [
    "# Train"
   ]
  },
  {
   "cell_type": "markdown",
   "metadata": {},
   "source": [
    "For classification we use fasttext, which can be either executed on command line or "
   ]
  },
  {
   "cell_type": "code",
   "execution_count": 10,
   "metadata": {},
   "outputs": [],
   "source": [
    "model_singlelabel = train_supervised(\"train.csv\",\n",
    "                lr = 0.01,\n",
    "                autotuneValidationFile = \"test.csv\",\n",
    "                autotuneDuration = 1000)\n",
    "\n",
    "model_singlelabel.save_model(\"model_singlelabel.bin\")\n",
    "# !/Users/evelyn.trautmann/repos/fasttext3/fastText/fasttext supervised \\\n",
    "#     -input \"train.csv\" -output model_singlelabel \\\n",
    "#     -autotune-validation \"test.csv\" -autotune-duration 1000"
   ]
  },
  {
   "cell_type": "code",
   "execution_count": 11,
   "metadata": {},
   "outputs": [
    {
     "name": "stdout",
     "output_type": "stream",
     "text": [
      "dim 40\r\n",
      "ws 5\r\n",
      "epoch 100\r\n",
      "minCount 1\r\n",
      "neg 5\r\n",
      "wordNgrams 3\r\n",
      "loss softmax\r\n",
      "model sup\r\n",
      "bucket 10000000\r\n",
      "minn 0\r\n",
      "maxn 0\r\n",
      "lrUpdateRate 100\r\n",
      "t 0.0001\r\n"
     ]
    }
   ],
   "source": [
    "!$FASTTEXT_HOME/fastText/fasttext dump model_singlelabel.bin args"
   ]
  },
  {
   "cell_type": "code",
   "execution_count": 12,
   "metadata": {},
   "outputs": [
    {
     "name": "stdout",
     "output_type": "stream",
     "text": [
      "N\t108669\r\n",
      "P@1\t0.782\r\n",
      "R@1\t0.782\r\n"
     ]
    }
   ],
   "source": [
    "!$FASTTEXT_HOME/fastText/fasttext test model_singlelabel.bin test.csv 1"
   ]
  },
  {
   "cell_type": "code",
   "execution_count": 13,
   "metadata": {},
   "outputs": [
    {
     "name": "stderr",
     "output_type": "stream",
     "text": [
      "\n"
     ]
    }
   ],
   "source": [
    "model = load_model(\"model_singlelabel.bin\")"
   ]
  },
  {
   "cell_type": "code",
   "execution_count": 14,
   "metadata": {},
   "outputs": [],
   "source": [
    "model_emb = train_unsupervised(\"/Users/evelyn.trautmann/projects/openfood/train_emb.csv\")"
   ]
  },
  {
   "cell_type": "code",
   "execution_count": 15,
   "metadata": {},
   "outputs": [],
   "source": [
    "# model = train_supervised(input=\"/Users/evelyn.trautmann/projects/openfood/train.csv\", \n",
    "#                          autotuneValidationFile=\"test.csv\")"
   ]
  },
  {
   "cell_type": "markdown",
   "metadata": {},
   "source": [
    "# Test"
   ]
  },
  {
   "cell_type": "code",
   "execution_count": 16,
   "metadata": {},
   "outputs": [
    {
     "data": {
      "text/plain": [
       "(108669, 0.7820905686074225, 0.7820905686074225)"
      ]
     },
     "execution_count": 16,
     "metadata": {},
     "output_type": "execute_result"
    }
   ],
   "source": [
    "model_singlelabel.test(\"test.csv\", k=1)"
   ]
  },
  {
   "cell_type": "code",
   "execution_count": 17,
   "metadata": {},
   "outputs": [
    {
     "data": {
      "text/plain": [
       "1"
      ]
     },
     "execution_count": 17,
     "metadata": {},
     "output_type": "execute_result"
    }
   ],
   "source": [
    "df_test = X_test.to_frame()\n",
    "df_test.columns = [\"feature\"]\n",
    "\n",
    "# determine number of labels\n",
    "df_test = df_test.join(y_test)\n",
    "\n",
    "K = int(df_test.en_tags.str.len().quantile(0.75))\n",
    "K"
   ]
  },
  {
   "cell_type": "markdown",
   "metadata": {},
   "source": [
    "# Single Label Evaluation "
   ]
  },
  {
   "cell_type": "code",
   "execution_count": 18,
   "metadata": {},
   "outputs": [],
   "source": [
    "df_test[\"prediction\"] = df_test.feature.apply(lambda x: model_singlelabel.predict(x))\n",
    "\n",
    "df_test[\"label_predicted\"] = df_test.prediction.str[0].str[0].str.replace(\"__label__\",\"\")\n",
    "df_test[\"confidence\"] = df_test.prediction.str[1].str[0]\n",
    "df_test[\"truth\"] = df_test.en_tags.str[0].str.replace(\"__label__\",\"\")\n"
   ]
  },
  {
   "cell_type": "code",
   "execution_count": 19,
   "metadata": {},
   "outputs": [
    {
     "name": "stderr",
     "output_type": "stream",
     "text": [
      "/usr/local/anaconda3/lib/python3.7/site-packages/sklearn/metrics/classification.py:1143: UndefinedMetricWarning: Precision and F-score are ill-defined and being set to 0.0 in labels with no predicted samples.\n",
      "  'precision', 'predicted', average, warn_for)\n"
     ]
    },
    {
     "name": "stdout",
     "output_type": "stream",
     "text": [
      "                                 precision    recall  f1-score   support\n",
      "\n",
      "            alcoholic-beverages       0.81      0.82      0.81      2683\n",
      "                     baby-foods       0.80      0.72      0.76       497\n",
      "                   bee-products       1.00      0.26      0.42        19\n",
      "                          beers       0.00      0.00      0.00         5\n",
      "                      beverages       0.50      0.20      0.28        51\n",
      "             biscuits-and-cakes       0.64      0.52      0.58       875\n",
      "                     breakfasts       0.89      0.88      0.88      5242\n",
      "                          cakes       0.53      0.42      0.47       714\n",
      "                        candies       0.74      0.26      0.38       133\n",
      "                  canned-fishes       0.76      0.75      0.76       907\n",
      "                   canned-foods       0.38      0.11      0.17       115\n",
      "       canned-plant-based-foods       0.54      0.42      0.47       138\n",
      "              carbonated-drinks       0.67      0.62      0.64       356\n",
      "                       chickens       0.90      0.93      0.92      1243\n",
      "                chips-and-fries       0.63      0.28      0.39        68\n",
      "             chocolate-biscuits       0.69      0.57      0.63       830\n",
      "                     chocolates       0.29      0.10      0.15       110\n",
      "                     condiments       0.73      0.59      0.65       472\n",
      "                        dairies       0.69      0.62      0.65      1366\n",
      "                       desserts       0.71      0.70      0.70      1557\n",
      "            dietary-supplements       0.71      0.69      0.70       567\n",
      "                 dried-products       0.62      0.60      0.61       452\n",
      "               farming-products       0.95      0.93      0.94       509\n",
      "                           fats       0.49      0.25      0.33       567\n",
      "                fermented-foods       0.78      0.80      0.79      4356\n",
      "        fermented-milk-products       0.83      0.83      0.83      4737\n",
      "         fish-and-meat-and-eggs       0.96      0.94      0.95       635\n",
      "                    fresh-foods       0.48      0.29      0.36       708\n",
      "        fresh-plant-based-foods       0.57      0.55      0.56       710\n",
      "                   frozen-foods       0.72      0.62      0.67       728\n",
      "       frozen-plant-based-foods       0.65      0.64      0.64       537\n",
      "        frozen-ready-made-meals       0.35      0.26      0.30       328\n",
      "             fruits-based-foods       0.81      0.63      0.71       144\n",
      "                      groceries       0.51      0.29      0.37       131\n",
      "                           hams       0.90      0.93      0.92      1303\n",
      "                  hot-beverages       0.00      0.00      0.00        35\n",
      "                     ice-creams       0.83      0.85      0.84      1001\n",
      "                   legume-seeds       0.82      0.79      0.80       820\n",
      "                        legumes       0.00      0.00      0.00         9\n",
      "     legumes-and-their-products       0.85      0.70      0.77       125\n",
      "                          meals       0.70      0.74      0.72      3779\n",
      "                meals-with-fish       0.84      0.72      0.77       372\n",
      "            meat-based-products       0.79      0.81      0.80      2262\n",
      "                          meats       0.82      0.82      0.82      1884\n",
      "                microwave-meals       0.50      0.01      0.02       119\n",
      "                milk-chocolates       0.00      0.00      0.00         1\n",
      "                milk-substitute       0.00      0.00      0.00         8\n",
      "                          milks       0.84      0.81      0.83      1496\n",
      "        non-alcoholic-beverages       0.49      0.43      0.46      1959\n",
      "                           nuts       0.85      0.81      0.83      1017\n",
      "            olive-tree-products       0.86      0.92      0.89      1067\n",
      "                         olives       0.91      0.94      0.93       569\n",
      "                       pastries       0.77      0.72      0.74       786\n",
      "                        pickles       0.86      0.74      0.80       343\n",
      "          plant-based-beverages       0.00      0.00      0.00         2\n",
      "              plant-based-foods       0.79      0.87      0.83     19831\n",
      "plant-based-foods-and-beverages       0.71      0.81      0.76      4589\n",
      "                      poultries       0.90      0.89      0.89       638\n",
      "                 prepared-meats       0.88      0.89      0.88      3371\n",
      "            prepared-vegetables       0.00      0.00      0.00         6\n",
      "             refrigerated-foods       0.00      0.00      0.00        52\n",
      "                         salads       0.00      0.00      0.00        58\n",
      "                 salted-spreads       0.00      0.00      0.00         3\n",
      "                   salty-snacks       0.84      0.77      0.80       865\n",
      "                         sauces       0.92      0.93      0.93      4990\n",
      "                       sausages       0.94      0.41      0.57        37\n",
      "                        seafood       0.83      0.85      0.84      2549\n",
      "                  smoked-fishes       0.00      0.00      0.00         9\n",
      "                         snacks       0.80      0.84      0.82     11678\n",
      "                          soups       0.71      0.64      0.67       452\n",
      "                        spreads       0.80      0.75      0.77      1215\n",
      "                   sweet-snacks       0.66      0.61      0.63      1012\n",
      "            sweetened-beverages       0.60      0.60      0.60      2167\n",
      "                     sweeteners       0.89      0.84      0.86       789\n",
      "                         syrups       0.63      0.36      0.46       121\n",
      "                           teas       0.00      0.00      0.00        20\n",
      "          unsweetened-beverages       0.46      0.31      0.37      1716\n",
      "                 vegetable-fats       0.00      0.00      0.00        26\n",
      "         vegetables-based-foods       0.68      0.58      0.62       582\n",
      "              wines-from-france       0.66      0.55      0.60       447\n",
      "\n",
      "                      micro avg       0.78      0.78      0.78    108670\n",
      "                      macro avg       0.61      0.53      0.55    108670\n",
      "                   weighted avg       0.77      0.78      0.78    108670\n",
      "\n"
     ]
    }
   ],
   "source": [
    "report = classification_report(df_test.truth, df_test.label_predicted)\n",
    "print(report)"
   ]
  },
  {
   "cell_type": "code",
   "execution_count": 20,
   "metadata": {
    "scrolled": true
   },
   "outputs": [],
   "source": [
    "# assertion no empty tags\n",
    "assert(len(df_test.en_tags[df_test.en_tags.str.len()==0])==0)"
   ]
  },
  {
   "cell_type": "markdown",
   "metadata": {},
   "source": [
    "# Similarity"
   ]
  },
  {
   "cell_type": "markdown",
   "metadata": {},
   "source": [
    "Sometimes the model is predicting other than the ground truth but still makes reasonable class assignments. To distinguish the reasonable assignments from the actually wrong classifications we introduce similarities between classes to count them into the accurate predicftions."
   ]
  },
  {
   "cell_type": "markdown",
   "metadata": {},
   "source": [
    "Example\n",
    "Consider followin common products\n",
    "chicken, poultries, seafood\n",
    "Given that the first two are pretty similar and the latter very different, a possible similarity matrix S could look like\n",
    "\n",
    "\n",
    "\n",
    "|Labels | chicken | poultries |seafood|\n",
    "|---------|:------------------|:-------------------|:--------------|\n",
    "|chicken | 1 | 0.9 | 0 |\n",
    "| poultries | 0.9 | 1 | 0 |\n",
    "| seafood | 0 | 0 | 1 |\n",
    "\n",
    "\n",
    "If we want to include now similarity into calculation of precision and recall, we have the nominator containing not only\n",
    "\n",
    "#[ Truth = chicken, Predicted = chicken ]\n",
    "\n",
    "but\n",
    "\n",
    "#[ Truth = chicken, Predicted = chicken ] * 1 + #[ Truth = chicken, Predicted = poultries ] * 0.9.\n",
    "\n",
    "Hence diagonal entries of confusion matrix \n",
    "\n",
    "$$ C_{ii} = \\#[Truth=i,Predicted=i]$$\n",
    "\n",
    "become \n",
    "\n",
    "$$ C_{ii} = \\sum_j \\#[Truth=i,Predicted=j]* S_{ij} $$\n",
    "\n",
    "That means, we count in all similar predictions weighted by degree of similatity.\n",
    "Technically that means we take the diagonal entris of\n",
    "\n",
    "$$\\hat{C}=C∗S\\hat{C} = C * S \\hat{C}=C∗S$$\n",
    "\n",
    "\n",
    "Where * denotes matrix product. Denominator remains the same: Row sum in case of precision, column sum in case of recall. Here we don't weight by similar entries since for denominator only the exact number of True (resp. Predicted ) counts."
   ]
  },
  {
   "cell_type": "code",
   "execution_count": 21,
   "metadata": {},
   "outputs": [
    {
     "name": "stdout",
     "output_type": "stream",
     "text": [
      "compute diffecence sets\n",
      "compute intersections\n",
      "compute onehot vectors\n",
      "CPU times: user 7min 14s, sys: 8.94 s, total: 7min 23s\n",
      "Wall time: 7min 23s\n"
     ]
    }
   ],
   "source": [
    "\n",
    "truth = [\"truth\"]\n",
    "predictions = [\"label_predicted\"]\n",
    "classes = list(set(np.concatenate(df_test[predictions + truth].apply(tuple).apply(list).values)))\n",
    "\n",
    "%time confusion = evaluation_metrics.get_confusion(df_test, classes, K, truth, predictions)\n"
   ]
  },
  {
   "cell_type": "code",
   "execution_count": 22,
   "metadata": {
    "scrolled": false
   },
   "outputs": [
    {
     "name": "stderr",
     "output_type": "stream",
     "text": [
      "/usr/local/anaconda3/lib/python3.7/site-packages/numpy/core/fromnumeric.py:56: FutureWarning: 'argmax' is deprecated, use 'idxmax' instead. The behavior of 'argmax'\n",
      "will be corrected to return the positional maximum in the future.\n",
      "Use 'series.values.argmax' to get the position of the maximum now.\n",
      "  return getattr(obj, method)(*args, **kwds)\n"
     ]
    },
    {
     "data": {
      "text/plain": [
       "meals                                      frozen-ready-made-meals\n",
       "frozen-plant-based-foods                    vegetables-based-foods\n",
       "chocolates                                         milk-chocolates\n",
       "seafood                                              canned-fishes\n",
       "plant-based-foods-and-beverages                  plant-based-foods\n",
       "teas                                                 hot-beverages\n",
       "hot-beverages                                                 teas\n",
       "olives                                                     pickles\n",
       "fruits-based-foods                          vegetables-based-foods\n",
       "fresh-plant-based-foods                     vegetables-based-foods\n",
       "pickles                                                     olives\n",
       "snacks                                                sweet-snacks\n",
       "non-alcoholic-beverages                      plant-based-beverages\n",
       "meats                                               prepared-meats\n",
       "sauces                                                   groceries\n",
       "groceries                                                   sauces\n",
       "cakes                                           biscuits-and-cakes\n",
       "frozen-ready-made-meals                                      meals\n",
       "sweetened-beverages                          plant-based-beverages\n",
       "milk-chocolates                                         chocolates\n",
       "carbonated-drinks                              sweetened-beverages\n",
       "wines-from-france                              alcoholic-beverages\n",
       "microwave-meals                            frozen-ready-made-meals\n",
       "chips-and-fries                                       salty-snacks\n",
       "chickens                                                 poultries\n",
       "plant-based-beverages                      non-alcoholic-beverages\n",
       "salted-spreads                                             spreads\n",
       "unsweetened-beverages                        plant-based-beverages\n",
       "beverages                                    unsweetened-beverages\n",
       "dairies                                    fermented-milk-products\n",
       "fermented-milk-products                                    dairies\n",
       "alcoholic-beverages                              wines-from-france\n",
       "canned-plant-based-foods                  frozen-plant-based-foods\n",
       "plant-based-foods                  plant-based-foods-and-beverages\n",
       "sweet-snacks                                                snacks\n",
       "poultries                                                 chickens\n",
       "canned-fishes                                              seafood\n",
       "vegetables-based-foods                    frozen-plant-based-foods\n",
       "prepared-meats                                               meats\n",
       "salty-snacks                                       chips-and-fries\n",
       "spreads                                             salted-spreads\n",
       "fermented-foods                            fermented-milk-products\n",
       "biscuits-and-cakes                                           cakes\n",
       "dtype: object"
      ]
     },
     "execution_count": 22,
     "metadata": {},
     "output_type": "execute_result"
    }
   ],
   "source": [
    "class_vecs = pd.Series({cl:model_emb.get_sentence_vector(cl) for cl in classes})\n",
    "\n",
    "Dst = class_vecs.apply(lambda x: class_vecs.apply(lambda y: sd.euclidean(x,y)))\n",
    "\n",
    "mask = Dst > 0.7\n",
    "Dst[mask]=np.nan\n",
    "Dst.apply(np.argmax)[Dst.max()>0.0]"
   ]
  },
  {
   "cell_type": "code",
   "execution_count": 23,
   "metadata": {},
   "outputs": [],
   "source": [
    "S = np.exp(-Dst**2).fillna(0)"
   ]
  },
  {
   "cell_type": "code",
   "execution_count": 24,
   "metadata": {},
   "outputs": [
    {
     "data": {
      "text/html": [
       "<div>\n",
       "<style scoped>\n",
       "    .dataframe tbody tr th:only-of-type {\n",
       "        vertical-align: middle;\n",
       "    }\n",
       "\n",
       "    .dataframe tbody tr th {\n",
       "        vertical-align: top;\n",
       "    }\n",
       "\n",
       "    .dataframe thead th {\n",
       "        text-align: right;\n",
       "    }\n",
       "</style>\n",
       "<table border=\"1\" class=\"dataframe\">\n",
       "  <thead>\n",
       "    <tr style=\"text-align: right;\">\n",
       "      <th></th>\n",
       "      <th>precision</th>\n",
       "      <th>recall</th>\n",
       "      <th>f1score</th>\n",
       "      <th>support</th>\n",
       "    </tr>\n",
       "  </thead>\n",
       "  <tbody>\n",
       "    <tr>\n",
       "      <th>fish-and-meat-and-eggs</th>\n",
       "      <td>0.943307</td>\n",
       "      <td>0.956869</td>\n",
       "      <td>0.950040</td>\n",
       "      <td>626.0</td>\n",
       "    </tr>\n",
       "    <tr>\n",
       "      <th>farming-products</th>\n",
       "      <td>0.933202</td>\n",
       "      <td>0.946215</td>\n",
       "      <td>0.939664</td>\n",
       "      <td>502.0</td>\n",
       "    </tr>\n",
       "    <tr>\n",
       "      <th>olives</th>\n",
       "      <td>0.945248</td>\n",
       "      <td>0.922032</td>\n",
       "      <td>0.933496</td>\n",
       "      <td>588.0</td>\n",
       "    </tr>\n",
       "    <tr>\n",
       "      <th>sauces</th>\n",
       "      <td>0.935191</td>\n",
       "      <td>0.921683</td>\n",
       "      <td>0.928388</td>\n",
       "      <td>5064.0</td>\n",
       "    </tr>\n",
       "    <tr>\n",
       "      <th>fermented-milk-products</th>\n",
       "      <td>0.927594</td>\n",
       "      <td>0.923374</td>\n",
       "      <td>0.925479</td>\n",
       "      <td>4708.0</td>\n",
       "    </tr>\n",
       "    <tr>\n",
       "      <th>chickens</th>\n",
       "      <td>0.936173</td>\n",
       "      <td>0.904721</td>\n",
       "      <td>0.920178</td>\n",
       "      <td>1288.0</td>\n",
       "    </tr>\n",
       "    <tr>\n",
       "      <th>hams</th>\n",
       "      <td>0.932464</td>\n",
       "      <td>0.902675</td>\n",
       "      <td>0.917327</td>\n",
       "      <td>1346.0</td>\n",
       "    </tr>\n",
       "    <tr>\n",
       "      <th>poultries</th>\n",
       "      <td>0.900126</td>\n",
       "      <td>0.907548</td>\n",
       "      <td>0.903822</td>\n",
       "      <td>631.0</td>\n",
       "    </tr>\n",
       "    <tr>\n",
       "      <th>prepared-meats</th>\n",
       "      <td>0.902423</td>\n",
       "      <td>0.892035</td>\n",
       "      <td>0.897199</td>\n",
       "      <td>3414.0</td>\n",
       "    </tr>\n",
       "    <tr>\n",
       "      <th>olive-tree-products</th>\n",
       "      <td>0.916589</td>\n",
       "      <td>0.857895</td>\n",
       "      <td>0.886271</td>\n",
       "      <td>1140.0</td>\n",
       "    </tr>\n",
       "  </tbody>\n",
       "</table>\n",
       "</div>"
      ],
      "text/plain": [
       "                         precision    recall   f1score  support\n",
       "fish-and-meat-and-eggs    0.943307  0.956869  0.950040    626.0\n",
       "farming-products          0.933202  0.946215  0.939664    502.0\n",
       "olives                    0.945248  0.922032  0.933496    588.0\n",
       "sauces                    0.935191  0.921683  0.928388   5064.0\n",
       "fermented-milk-products   0.927594  0.923374  0.925479   4708.0\n",
       "chickens                  0.936173  0.904721  0.920178   1288.0\n",
       "hams                      0.932464  0.902675  0.917327   1346.0\n",
       "poultries                 0.900126  0.907548  0.903822    631.0\n",
       "prepared-meats            0.902423  0.892035  0.897199   3414.0\n",
       "olive-tree-products       0.916589  0.857895  0.886271   1140.0"
      ]
     },
     "execution_count": 24,
     "metadata": {},
     "output_type": "execute_result"
    }
   ],
   "source": [
    "\n",
    "df_report = evaluation_metrics.get_report(confusion, S)\n",
    "df_report.dropna().sort_values(by=\"f1score\", ascending = False)[:10]"
   ]
  },
  {
   "cell_type": "code",
   "execution_count": 25,
   "metadata": {},
   "outputs": [
    {
     "data": {
      "text/html": [
       "<div>\n",
       "<style scoped>\n",
       "    .dataframe tbody tr th:only-of-type {\n",
       "        vertical-align: middle;\n",
       "    }\n",
       "\n",
       "    .dataframe tbody tr th {\n",
       "        vertical-align: top;\n",
       "    }\n",
       "\n",
       "    .dataframe thead th {\n",
       "        text-align: right;\n",
       "    }\n",
       "</style>\n",
       "<table border=\"1\" class=\"dataframe\">\n",
       "  <thead>\n",
       "    <tr style=\"text-align: right;\">\n",
       "      <th></th>\n",
       "      <th>precision</th>\n",
       "      <th>recall</th>\n",
       "      <th>f1-score</th>\n",
       "      <th>support</th>\n",
       "    </tr>\n",
       "  </thead>\n",
       "  <tbody>\n",
       "    <tr>\n",
       "      <th>micro avg</th>\n",
       "      <td>0.814828</td>\n",
       "      <td>0.814828</td>\n",
       "      <td>0.814828</td>\n",
       "      <td>108670.0</td>\n",
       "    </tr>\n",
       "    <tr>\n",
       "      <th>macro avg</th>\n",
       "      <td>0.677636</td>\n",
       "      <td>0.762359</td>\n",
       "      <td>0.717505</td>\n",
       "      <td>108670.0</td>\n",
       "    </tr>\n",
       "    <tr>\n",
       "      <th>weighted avg</th>\n",
       "      <td>0.82895</td>\n",
       "      <td>0.814828</td>\n",
       "      <td>0.821828</td>\n",
       "      <td>108670.0</td>\n",
       "    </tr>\n",
       "  </tbody>\n",
       "</table>\n",
       "</div>"
      ],
      "text/plain": [
       "             precision    recall  f1-score   support\n",
       "micro avg     0.814828  0.814828  0.814828  108670.0\n",
       "macro avg     0.677636  0.762359  0.717505  108670.0\n",
       "weighted avg   0.82895  0.814828  0.821828  108670.0"
      ]
     },
     "execution_count": 25,
     "metadata": {},
     "output_type": "execute_result"
    }
   ],
   "source": [
    "evaluation_metrics.get_summary(df_report, confusion, S)"
   ]
  },
  {
   "cell_type": "markdown",
   "metadata": {},
   "source": [
    "# Multilabel Evaluation "
   ]
  },
  {
   "cell_type": "code",
   "execution_count": 26,
   "metadata": {},
   "outputs": [],
   "source": [
    "#load data\n",
    "df = pd.read_csv(\"data/foodcategories_3labels.csv.zip\", sep = \"\\x01\", compression=\"zip\")\n",
    "df.en_tags = df.en_tags.apply(eval)\n",
    "df = df[df.en_tags.str.len()>0]"
   ]
  },
  {
   "cell_type": "code",
   "execution_count": 27,
   "metadata": {},
   "outputs": [],
   "source": [
    "y = df.en_tags\n",
    "X_train, X_test, y_train, y_test = train_test_split(X, y, test_size=0.33, random_state=42)\n",
    "\n",
    "dftrain = y_train.apply(lambda x: \" \".join([\"__label__\" + y\n",
    "                    for y in x])) + \" \" + X_train\n",
    "dftest = y_test.apply(lambda x: \" \".join([\"__label__\" + y\n",
    "                    for y in x])) + \" \" + X_test\n"
   ]
  },
  {
   "cell_type": "code",
   "execution_count": 28,
   "metadata": {},
   "outputs": [],
   "source": [
    "dftrain.to_csv(\n",
    "    \"train_3label.csv\", index = False, sep=\";\")\n",
    "dftest.to_csv(\n",
    "    \"test3label.csv\", index = False, sep=\";\")"
   ]
  },
  {
   "cell_type": "code",
   "execution_count": 43,
   "metadata": {},
   "outputs": [],
   "source": [
    "model_3label = train_supervised(\"train_3label.csv\",\n",
    "                lr = 0.01,\n",
    "                autotuneValidationFile = \"test3label.csv\",\n",
    "                autotuneDuration = 1000)\n",
    "\n",
    "# !/Users/evelyn.trautmann/repos/fasttext3/fastText/fasttext supervised \\\n",
    "#     -input \"train_3label.csv\" -output model_3label \\\n",
    "#     -autotune-validation \"test3label.csv\" -autotune-duration 1000"
   ]
  },
  {
   "cell_type": "code",
   "execution_count": 31,
   "metadata": {},
   "outputs": [],
   "source": [
    "model_3label.save_model(\"model_3label.bin\")"
   ]
  },
  {
   "cell_type": "code",
   "execution_count": 46,
   "metadata": {},
   "outputs": [
    {
     "data": {
      "text/plain": [
       "(108670, 0.7585074077482286, 0.843550758503529)"
      ]
     },
     "execution_count": 46,
     "metadata": {},
     "output_type": "execute_result"
    }
   ],
   "source": [
    "model_3label.test(\"test3label.csv\", 3)"
   ]
  },
  {
   "cell_type": "code",
   "execution_count": 47,
   "metadata": {},
   "outputs": [
    {
     "name": "stderr",
     "output_type": "stream",
     "text": [
      "\n"
     ]
    }
   ],
   "source": [
    "model = load_model(\"model_3label.bin\")"
   ]
  },
  {
   "cell_type": "markdown",
   "metadata": {},
   "source": [
    "Let \\{$T_1^{(1)}, ...,T_M^{(1)}$\\},...,\\{$T_1^{(N)}, ...,T_M^{(N)}$\\} be our ground truth, \n",
    "\\{$P_1^{(1)}, ...,P_M^{(1)}$\\},...,\\{$P_1^{(N)}, ...,P_M^{(N)}$\\} the prediction.\n",
    "\n",
    "on diagonal we count the events of truth matching prediction\n",
    "\n",
    "$\\sum_{i=1}^N |\\{T_1^{(i)}, ...,T_M^{(i)}\\}\\cap \\{P_1^{(i)}, ...,P_M^{(i)}\\}|$\n",
    "\n",
    "so for each diagonal entry we count over all data points (N) and all predictions (M) the total amount when truth is matching prediction.\n",
    "\n",
    "$C_{kk} =\\sum_{i=1}^N \\sum_{m=1}^M \\chi{1}\\{T_m^{(i)}=k,P_m^{(i)}=k\\} $\n",
    "\n",
    "in contrast on off-diagonal we count all events where truth was not covered by prediction.\n",
    "For the off-diagonal we take only the difference sets into account. If truth for data point i was for example {fish, curry, rice-dish} and prediction was {fish, curry, soup }, we only count \n",
    "$T^i$ = {rice_dish} and $P^i$ = {soup} for the off-daigonal. Formally we do the following transformation:\n",
    "\n",
    "$\\{\\tilde{T}_m^{(i)}\\}_{q=1,..M1} = \\{T_m^{(i)}\\}_{m=1,..M}\\setminus \\{P_m^{(i)}\\}_{m=1,..M}$ \n",
    "\n",
    "$\\{\\tilde{P}_m^{(i)}\\}_{p=1,..M2} = \\{P_m^{(i)}\\}_{m=1,..M}\\setminus \\{T_m^{(i)}\\}_{m=1,..M}$\n",
    "\n",
    "Eventually we count all events of the ground truth that were not captured in predictions, which results in\n",
    "\n",
    "$C_{kl} =\\sum_{i=1}^N \\sum_{m1=1}^{M1} \\sum_{m2=1}^{M2}\n",
    "\\frac{1}{M1}\\chi{1}\\{\\tilde{T}_{m1}^{(i)}=k,\\tilde{P}_{m2}^{(i)}=l\\} $\n",
    "\n",
    "Once we have computed a multi-class - multi-label confusion matrix the classification report is straight forward.\n",
    "\n",
    "Precision for class k is computed as\n",
    "\n",
    "$Pr_k=\\frac{C_{kk}}{\\sum_j C_{kj}}$\n",
    "\n",
    "and Recall\n",
    "\n",
    "$R_k=\\frac{C_{kk}}{\\sum_j C_{jk}}$\n",
    "\n"
   ]
  },
  {
   "cell_type": "code",
   "execution_count": 48,
   "metadata": {},
   "outputs": [
    {
     "data": {
      "text/plain": [
       "3"
      ]
     },
     "execution_count": 48,
     "metadata": {},
     "output_type": "execute_result"
    }
   ],
   "source": [
    "df_test = X_test.to_frame()\n",
    "df_test.columns = [\"feature\"]\n",
    "\n",
    "# determine number of labels\n",
    "df_test = df_test.join(y_test)\n",
    "\n",
    "K = int(df_test.en_tags.str.len().quantile(0.75))\n",
    "K"
   ]
  },
  {
   "cell_type": "code",
   "execution_count": 49,
   "metadata": {},
   "outputs": [],
   "source": [
    "df_test[\"prediction\"] = df_test.feature.apply(lambda x: model_3label.predict(x, k=K))\n",
    "\n",
    "for k in range(K):\n",
    "    df_test[\"label_predicted%i\" %k] = df_test.prediction.str[0].str[k].str.replace(\"__label__\",\"\")\n",
    "    df_test[\"confidence%i\" %k] = df_test.prediction.str[1].str[k]\n",
    "    df_test[\"truth%i\" %k] = df_test.en_tags.str[k].str.replace(\"__label__\",\"\")\n"
   ]
  },
  {
   "cell_type": "code",
   "execution_count": 50,
   "metadata": {},
   "outputs": [],
   "source": [
    "truth = list()\n",
    "predictions = list()\n",
    "for k in range(int(K)):\n",
    "    truth.append(\"truth%i\" %k)\n",
    "    predictions.append(\"label_predicted%i\" %k)\n",
    "classes = list(set(np.concatenate(df_test[predictions + truth].apply(tuple).apply(list).values)))\n"
   ]
  },
  {
   "cell_type": "code",
   "execution_count": 51,
   "metadata": {},
   "outputs": [
    {
     "name": "stdout",
     "output_type": "stream",
     "text": [
      "compute diffecence sets\n",
      "compute intersections\n",
      "compute onehot vectors\n",
      "CPU times: user 7min 52s, sys: 9.92 s, total: 8min 2s\n",
      "Wall time: 13min 35s\n"
     ]
    }
   ],
   "source": [
    "%time confusion = evaluation_metrics.get_confusion(df_test, classes, K, truth, predictions)"
   ]
  },
  {
   "cell_type": "code",
   "execution_count": 52,
   "metadata": {},
   "outputs": [
    {
     "data": {
      "text/html": [
       "<div>\n",
       "<style scoped>\n",
       "    .dataframe tbody tr th:only-of-type {\n",
       "        vertical-align: middle;\n",
       "    }\n",
       "\n",
       "    .dataframe tbody tr th {\n",
       "        vertical-align: top;\n",
       "    }\n",
       "\n",
       "    .dataframe thead th {\n",
       "        text-align: right;\n",
       "    }\n",
       "</style>\n",
       "<table border=\"1\" class=\"dataframe\">\n",
       "  <thead>\n",
       "    <tr style=\"text-align: right;\">\n",
       "      <th></th>\n",
       "      <th>precision</th>\n",
       "      <th>recall</th>\n",
       "      <th>f1score</th>\n",
       "      <th>support</th>\n",
       "    </tr>\n",
       "  </thead>\n",
       "  <tbody>\n",
       "    <tr>\n",
       "      <th>cooked-pressed-cheeses</th>\n",
       "      <td>0.967187</td>\n",
       "      <td>0.977883</td>\n",
       "      <td>0.972506</td>\n",
       "      <td>633.000000</td>\n",
       "    </tr>\n",
       "    <tr>\n",
       "      <th>mustards</th>\n",
       "      <td>0.940711</td>\n",
       "      <td>0.982569</td>\n",
       "      <td>0.961185</td>\n",
       "      <td>726.666667</td>\n",
       "    </tr>\n",
       "    <tr>\n",
       "      <th>prepared-meats</th>\n",
       "      <td>0.957070</td>\n",
       "      <td>0.953065</td>\n",
       "      <td>0.955063</td>\n",
       "      <td>5894.666667</td>\n",
       "    </tr>\n",
       "    <tr>\n",
       "      <th>honeys</th>\n",
       "      <td>0.966783</td>\n",
       "      <td>0.937818</td>\n",
       "      <td>0.952080</td>\n",
       "      <td>1179.333333</td>\n",
       "    </tr>\n",
       "    <tr>\n",
       "      <th>fish-and-meat-and-eggs</th>\n",
       "      <td>0.959119</td>\n",
       "      <td>0.940874</td>\n",
       "      <td>0.949909</td>\n",
       "      <td>648.333333</td>\n",
       "    </tr>\n",
       "    <tr>\n",
       "      <th>hams</th>\n",
       "      <td>0.949772</td>\n",
       "      <td>0.942005</td>\n",
       "      <td>0.945873</td>\n",
       "      <td>1324.833333</td>\n",
       "    </tr>\n",
       "    <tr>\n",
       "      <th>fermented-milk-products</th>\n",
       "      <td>0.945569</td>\n",
       "      <td>0.939884</td>\n",
       "      <td>0.942718</td>\n",
       "      <td>9149.000000</td>\n",
       "    </tr>\n",
       "    <tr>\n",
       "      <th>meats</th>\n",
       "      <td>0.960818</td>\n",
       "      <td>0.923369</td>\n",
       "      <td>0.941721</td>\n",
       "      <td>9215.166667</td>\n",
       "    </tr>\n",
       "    <tr>\n",
       "      <th>poultries</th>\n",
       "      <td>0.950667</td>\n",
       "      <td>0.932568</td>\n",
       "      <td>0.941530</td>\n",
       "      <td>2293.666667</td>\n",
       "    </tr>\n",
       "    <tr>\n",
       "      <th>seafood</th>\n",
       "      <td>0.937128</td>\n",
       "      <td>0.931326</td>\n",
       "      <td>0.934218</td>\n",
       "      <td>3553.000000</td>\n",
       "    </tr>\n",
       "  </tbody>\n",
       "</table>\n",
       "</div>"
      ],
      "text/plain": [
       "                         precision    recall   f1score      support\n",
       "cooked-pressed-cheeses    0.967187  0.977883  0.972506   633.000000\n",
       "mustards                  0.940711  0.982569  0.961185   726.666667\n",
       "prepared-meats            0.957070  0.953065  0.955063  5894.666667\n",
       "honeys                    0.966783  0.937818  0.952080  1179.333333\n",
       "fish-and-meat-and-eggs    0.959119  0.940874  0.949909   648.333333\n",
       "hams                      0.949772  0.942005  0.945873  1324.833333\n",
       "fermented-milk-products   0.945569  0.939884  0.942718  9149.000000\n",
       "meats                     0.960818  0.923369  0.941721  9215.166667\n",
       "poultries                 0.950667  0.932568  0.941530  2293.666667\n",
       "seafood                   0.937128  0.931326  0.934218  3553.000000"
      ]
     },
     "execution_count": 52,
     "metadata": {},
     "output_type": "execute_result"
    }
   ],
   "source": [
    "df_report = evaluation_metrics.get_report(confusion)\n",
    "df_report.dropna().sort_values(by=\"f1score\", ascending = False)[:10]"
   ]
  },
  {
   "cell_type": "code",
   "execution_count": 53,
   "metadata": {
    "scrolled": true
   },
   "outputs": [
    {
     "data": {
      "text/html": [
       "<div>\n",
       "<style scoped>\n",
       "    .dataframe tbody tr th:only-of-type {\n",
       "        vertical-align: middle;\n",
       "    }\n",
       "\n",
       "    .dataframe tbody tr th {\n",
       "        vertical-align: top;\n",
       "    }\n",
       "\n",
       "    .dataframe thead th {\n",
       "        text-align: right;\n",
       "    }\n",
       "</style>\n",
       "<table border=\"1\" class=\"dataframe\">\n",
       "  <thead>\n",
       "    <tr style=\"text-align: right;\">\n",
       "      <th></th>\n",
       "      <th>precision</th>\n",
       "      <th>recall</th>\n",
       "      <th>f1-score</th>\n",
       "      <th>support</th>\n",
       "    </tr>\n",
       "  </thead>\n",
       "  <tbody>\n",
       "    <tr>\n",
       "      <th>micro avg</th>\n",
       "      <td>0.843548</td>\n",
       "      <td>0.843548</td>\n",
       "      <td>0.843548</td>\n",
       "      <td>293144.0</td>\n",
       "    </tr>\n",
       "    <tr>\n",
       "      <th>macro avg</th>\n",
       "      <td>0.733785</td>\n",
       "      <td>0.800435</td>\n",
       "      <td>0.765662</td>\n",
       "      <td>293144.0</td>\n",
       "    </tr>\n",
       "    <tr>\n",
       "      <th>weighted avg</th>\n",
       "      <td>0.852484</td>\n",
       "      <td>0.843548</td>\n",
       "      <td>0.847992</td>\n",
       "      <td>293144.0</td>\n",
       "    </tr>\n",
       "  </tbody>\n",
       "</table>\n",
       "</div>"
      ],
      "text/plain": [
       "             precision    recall  f1-score   support\n",
       "micro avg     0.843548  0.843548  0.843548  293144.0\n",
       "macro avg     0.733785  0.800435  0.765662  293144.0\n",
       "weighted avg  0.852484  0.843548  0.847992  293144.0"
      ]
     },
     "execution_count": 53,
     "metadata": {},
     "output_type": "execute_result"
    }
   ],
   "source": [
    "evaluation_metrics.get_summary(df_report, confusion)"
   ]
  },
  {
   "cell_type": "markdown",
   "metadata": {},
   "source": [
    "# Combining Multilabel Classification with Near Accuracy "
   ]
  },
  {
   "cell_type": "code",
   "execution_count": 54,
   "metadata": {
    "scrolled": true
   },
   "outputs": [
    {
     "data": {
      "text/plain": [
       "frozen-desserts                                          ice-creams\n",
       "chocolates                                          milk-chocolates\n",
       "seafood                                                      fishes\n",
       "dried-products                      dried-products-to-be-rehydrated\n",
       "plant-based-foods-and-beverages                   plant-based-foods\n",
       "teas                                                  hot-beverages\n",
       "hot-beverages                                                  teas\n",
       "chicken-breasts                                            chickens\n",
       "appetizers                                             salty-snacks\n",
       "artificially-sweetened-beverages                sweetened-beverages\n",
       "fishes                                                      seafood\n",
       "non-alcoholic-beverages                       unsweetened-beverages\n",
       "sauces                                                    groceries\n",
       "groceries                                                    sauces\n",
       "dried-plant-based-foods                    canned-plant-based-foods\n",
       "sweetened-beverages                           unsweetened-beverages\n",
       "milk-chocolates                                          chocolates\n",
       "fruit-yogurts                                               yogurts\n",
       "wines-from-france                                             wines\n",
       "chickens                                                  poultries\n",
       "unsweetened-beverages                           sweetened-beverages\n",
       "ice-creams                                          frozen-desserts\n",
       "dry-pasta                                                    pastas\n",
       "fermented-milk-products                             fermented-foods\n",
       "canned-plant-based-foods                    dried-plant-based-foods\n",
       "plant-based-foods                   plant-based-foods-and-beverages\n",
       "poultries                                                  chickens\n",
       "dried-products-to-be-rehydrated                      dried-products\n",
       "wines                                             wines-from-france\n",
       "salty-snacks                                             appetizers\n",
       "pastas                                                    dry-pasta\n",
       "fermented-foods                             fermented-milk-products\n",
       "yogurts                                               fruit-yogurts\n",
       "dtype: object"
      ]
     },
     "execution_count": 54,
     "metadata": {},
     "output_type": "execute_result"
    }
   ],
   "source": [
    "class_vecs = pd.Series({cl:model_emb.get_sentence_vector(cl) for cl in classes})\n",
    "\n",
    "Dst = class_vecs.apply(lambda x: class_vecs.apply(lambda y: sd.euclidean(x,y)))\n",
    "\n",
    "mask = Dst > 0.5\n",
    "Dst[mask]=np.nan\n",
    "# show entries with highes distance <= 0.5 for each class\n",
    "Dst.apply(np.argmax)[Dst.max()>0]"
   ]
  },
  {
   "cell_type": "code",
   "execution_count": 55,
   "metadata": {},
   "outputs": [
    {
     "data": {
      "text/html": [
       "<div>\n",
       "<style scoped>\n",
       "    .dataframe tbody tr th:only-of-type {\n",
       "        vertical-align: middle;\n",
       "    }\n",
       "\n",
       "    .dataframe tbody tr th {\n",
       "        vertical-align: top;\n",
       "    }\n",
       "\n",
       "    .dataframe thead th {\n",
       "        text-align: right;\n",
       "    }\n",
       "</style>\n",
       "<table border=\"1\" class=\"dataframe\">\n",
       "  <thead>\n",
       "    <tr style=\"text-align: right;\">\n",
       "      <th></th>\n",
       "      <th>precision</th>\n",
       "      <th>recall</th>\n",
       "      <th>f1score</th>\n",
       "      <th>support</th>\n",
       "    </tr>\n",
       "  </thead>\n",
       "  <tbody>\n",
       "    <tr>\n",
       "      <th>cooked-pressed-cheeses</th>\n",
       "      <td>0.967187</td>\n",
       "      <td>0.977883</td>\n",
       "      <td>0.972506</td>\n",
       "      <td>633.000000</td>\n",
       "    </tr>\n",
       "    <tr>\n",
       "      <th>mustards</th>\n",
       "      <td>0.940711</td>\n",
       "      <td>0.982569</td>\n",
       "      <td>0.961185</td>\n",
       "      <td>726.666667</td>\n",
       "    </tr>\n",
       "    <tr>\n",
       "      <th>prepared-meats</th>\n",
       "      <td>0.957070</td>\n",
       "      <td>0.953065</td>\n",
       "      <td>0.955063</td>\n",
       "      <td>5894.666667</td>\n",
       "    </tr>\n",
       "    <tr>\n",
       "      <th>honeys</th>\n",
       "      <td>0.966783</td>\n",
       "      <td>0.937818</td>\n",
       "      <td>0.952080</td>\n",
       "      <td>1179.333333</td>\n",
       "    </tr>\n",
       "    <tr>\n",
       "      <th>fish-and-meat-and-eggs</th>\n",
       "      <td>0.959119</td>\n",
       "      <td>0.940874</td>\n",
       "      <td>0.949909</td>\n",
       "      <td>648.333333</td>\n",
       "    </tr>\n",
       "    <tr>\n",
       "      <th>hams</th>\n",
       "      <td>0.949772</td>\n",
       "      <td>0.942005</td>\n",
       "      <td>0.945873</td>\n",
       "      <td>1324.833333</td>\n",
       "    </tr>\n",
       "    <tr>\n",
       "      <th>poultries</th>\n",
       "      <td>0.950846</td>\n",
       "      <td>0.935507</td>\n",
       "      <td>0.943114</td>\n",
       "      <td>2293.666667</td>\n",
       "    </tr>\n",
       "    <tr>\n",
       "      <th>fermented-milk-products</th>\n",
       "      <td>0.945946</td>\n",
       "      <td>0.940057</td>\n",
       "      <td>0.942992</td>\n",
       "      <td>9149.000000</td>\n",
       "    </tr>\n",
       "    <tr>\n",
       "      <th>meats</th>\n",
       "      <td>0.960818</td>\n",
       "      <td>0.923369</td>\n",
       "      <td>0.941721</td>\n",
       "      <td>9215.166667</td>\n",
       "    </tr>\n",
       "    <tr>\n",
       "      <th>seafood</th>\n",
       "      <td>0.937684</td>\n",
       "      <td>0.931326</td>\n",
       "      <td>0.934494</td>\n",
       "      <td>3553.000000</td>\n",
       "    </tr>\n",
       "  </tbody>\n",
       "</table>\n",
       "</div>"
      ],
      "text/plain": [
       "                         precision    recall   f1score      support\n",
       "cooked-pressed-cheeses    0.967187  0.977883  0.972506   633.000000\n",
       "mustards                  0.940711  0.982569  0.961185   726.666667\n",
       "prepared-meats            0.957070  0.953065  0.955063  5894.666667\n",
       "honeys                    0.966783  0.937818  0.952080  1179.333333\n",
       "fish-and-meat-and-eggs    0.959119  0.940874  0.949909   648.333333\n",
       "hams                      0.949772  0.942005  0.945873  1324.833333\n",
       "poultries                 0.950846  0.935507  0.943114  2293.666667\n",
       "fermented-milk-products   0.945946  0.940057  0.942992  9149.000000\n",
       "meats                     0.960818  0.923369  0.941721  9215.166667\n",
       "seafood                   0.937684  0.931326  0.934494  3553.000000"
      ]
     },
     "execution_count": 55,
     "metadata": {},
     "output_type": "execute_result"
    }
   ],
   "source": [
    "S = np.exp(-Dst**2).fillna(0)\n",
    "df_report = evaluation_metrics.get_report(confusion, S)\n",
    "df_report.dropna().sort_values(by=\"f1score\", ascending = False)[:10]"
   ]
  },
  {
   "cell_type": "code",
   "execution_count": 56,
   "metadata": {},
   "outputs": [
    {
     "data": {
      "text/html": [
       "<div>\n",
       "<style scoped>\n",
       "    .dataframe tbody tr th:only-of-type {\n",
       "        vertical-align: middle;\n",
       "    }\n",
       "\n",
       "    .dataframe tbody tr th {\n",
       "        vertical-align: top;\n",
       "    }\n",
       "\n",
       "    .dataframe thead th {\n",
       "        text-align: right;\n",
       "    }\n",
       "</style>\n",
       "<table border=\"1\" class=\"dataframe\">\n",
       "  <thead>\n",
       "    <tr style=\"text-align: right;\">\n",
       "      <th></th>\n",
       "      <th>precision</th>\n",
       "      <th>recall</th>\n",
       "      <th>f1-score</th>\n",
       "      <th>support</th>\n",
       "    </tr>\n",
       "  </thead>\n",
       "  <tbody>\n",
       "    <tr>\n",
       "      <th>micro avg</th>\n",
       "      <td>0.847782</td>\n",
       "      <td>0.847782</td>\n",
       "      <td>0.847782</td>\n",
       "      <td>293144.0</td>\n",
       "    </tr>\n",
       "    <tr>\n",
       "      <th>macro avg</th>\n",
       "      <td>0.745112</td>\n",
       "      <td>0.809841</td>\n",
       "      <td>0.776129</td>\n",
       "      <td>293144.0</td>\n",
       "    </tr>\n",
       "    <tr>\n",
       "      <th>weighted avg</th>\n",
       "      <td>0.855626</td>\n",
       "      <td>0.847782</td>\n",
       "      <td>0.851686</td>\n",
       "      <td>293144.0</td>\n",
       "    </tr>\n",
       "  </tbody>\n",
       "</table>\n",
       "</div>"
      ],
      "text/plain": [
       "             precision    recall  f1-score   support\n",
       "micro avg     0.847782  0.847782  0.847782  293144.0\n",
       "macro avg     0.745112  0.809841  0.776129  293144.0\n",
       "weighted avg  0.855626  0.847782  0.851686  293144.0"
      ]
     },
     "execution_count": 56,
     "metadata": {},
     "output_type": "execute_result"
    }
   ],
   "source": [
    "evaluation_metrics.get_summary(df_report, confusion, S)"
   ]
  },
  {
   "cell_type": "code",
   "execution_count": null,
   "metadata": {},
   "outputs": [],
   "source": []
  },
  {
   "cell_type": "code",
   "execution_count": null,
   "metadata": {},
   "outputs": [],
   "source": []
  }
 ],
 "metadata": {
  "kernelspec": {
   "display_name": "openfoodfact",
   "language": "python",
   "name": "openfoodfact"
  },
  "language_info": {
   "codemirror_mode": {
    "name": "ipython",
    "version": 3
   },
   "file_extension": ".py",
   "mimetype": "text/x-python",
   "name": "python",
   "nbconvert_exporter": "python",
   "pygments_lexer": "ipython3",
   "version": "3.7.3"
  }
 },
 "nbformat": 4,
 "nbformat_minor": 2
}

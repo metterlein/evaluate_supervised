{
 "cells": [
  {
   "cell_type": "code",
   "execution_count": 1,
   "metadata": {},
   "outputs": [
    {
     "ename": "NameError",
     "evalue": "name 'sr_labels' is not defined",
     "output_type": "error",
     "traceback": [
      "\u001b[0;31m---------------------------------------------------------------------------\u001b[0m",
      "\u001b[0;31mNameError\u001b[0m                                 Traceback (most recent call last)",
      "\u001b[0;32m<ipython-input-1-83c2d857f80c>\u001b[0m in \u001b[0;36m<module>\u001b[0;34m\u001b[0m\n\u001b[1;32m      2\u001b[0m     \u001b[0;32mreturn\u001b[0m \u001b[0msr\u001b[0m\u001b[0;34m[\u001b[0m\u001b[0mv\u001b[0m\u001b[0;34m]\u001b[0m\u001b[0;34m[\u001b[0m\u001b[0;34m:\u001b[0m\u001b[0mn\u001b[0m\u001b[0;34m]\u001b[0m\u001b[0;34m.\u001b[0m\u001b[0mindex\u001b[0m\u001b[0;34m.\u001b[0m\u001b[0mvalues\u001b[0m\u001b[0;34m\u001b[0m\u001b[0;34m\u001b[0m\u001b[0m\n\u001b[1;32m      3\u001b[0m \u001b[0;34m\u001b[0m\u001b[0m\n\u001b[0;32m----> 4\u001b[0;31m \u001b[0msr_labels\u001b[0m \u001b[0;34m=\u001b[0m \u001b[0msr_labels\u001b[0m\u001b[0;34m.\u001b[0m\u001b[0msort_values\u001b[0m\u001b[0;34m(\u001b[0m\u001b[0;34m)\u001b[0m\u001b[0;34m\u001b[0m\u001b[0;34m\u001b[0m\u001b[0m\n\u001b[0m\u001b[1;32m      5\u001b[0m \u001b[0;31m#get_most_specific_labels(df.en_tags.iloc[100], sr, 1)\u001b[0m\u001b[0;34m\u001b[0m\u001b[0;34m\u001b[0m\u001b[0;34m\u001b[0m\u001b[0m\n\u001b[1;32m      6\u001b[0m \u001b[0mget_ipython\u001b[0m\u001b[0;34m(\u001b[0m\u001b[0;34m)\u001b[0m\u001b[0;34m.\u001b[0m\u001b[0mrun_line_magic\u001b[0m\u001b[0;34m(\u001b[0m\u001b[0;34m'time'\u001b[0m\u001b[0;34m,\u001b[0m \u001b[0;34m'df.en_tags = df.en_tags.apply(lambda x: get_n_specific_labels(x, sr_labels, 3))'\u001b[0m\u001b[0;34m)\u001b[0m\u001b[0;34m\u001b[0m\u001b[0;34m\u001b[0m\u001b[0m\n",
      "\u001b[0;31mNameError\u001b[0m: name 'sr_labels' is not defined"
     ]
    }
   ],
   "source": [
    "def get_n_specific_labels(v, sr, n):\n",
    "    return sr[v][:n].index.values\n",
    "\n",
    "sr_labels = sr_labels.sort_values()\n",
    "#get_most_specific_labels(df.en_tags.iloc[100], sr, 1)\n",
    "%time df.en_tags = df.en_tags.apply(lambda x: get_n_specific_labels(x, sr_labels, 3))"
   ]
  },
  {
   "cell_type": "code",
   "execution_count": 8,
   "metadata": {},
   "outputs": [],
   "source": [
    "import pandas as pd\n",
    "import numpy as np\n",
    "from fasttext import *\n",
    "%matplotlib inline\n",
    "import sys\n",
    "sys.path.append(\"/Users/evelyn.trautmann/repos/pi-datascience-adhoc-analysis/notebooks/templates/\")\n",
    "import evaluation_metrics\n",
    "\n",
    "from sklearn.model_selection import train_test_split\n",
    "\n",
    "import scipy.spatial.distance as sd\n",
    "import sklearn.metrics.pairwise as pw\n",
    "import re"
   ]
  },
  {
   "cell_type": "code",
   "execution_count": 2,
   "metadata": {},
   "outputs": [],
   "source": [
    "#load data\n",
    "df = pd.read_csv(\"data/foodcategories_3labels.csv\", sep = \"\\x01\")\n",
    "df.en_tags = df.en_tags.apply(eval)\n",
    "df = df[df.en_tags.str.len()>0]"
   ]
  },
  {
   "cell_type": "code",
   "execution_count": 3,
   "metadata": {},
   "outputs": [],
   "source": [
    "label, freq = np.unique(np.concatenate(df.en_tags.values), return_counts = True)\n",
    "sr_labels = pd.Series(index=label, data=freq).sort_values()\n"
   ]
  },
  {
   "cell_type": "code",
   "execution_count": 4,
   "metadata": {},
   "outputs": [
    {
     "data": {
      "text/plain": [
       "3    256401\n",
       "2     47258\n",
       "1     25644\n",
       "Name: en_tags, dtype: int64"
      ]
     },
     "execution_count": 4,
     "metadata": {},
     "output_type": "execute_result"
    }
   ],
   "source": [
    "df.en_tags.str.len().value_counts()"
   ]
  },
  {
   "cell_type": "markdown",
   "metadata": {},
   "source": [
    "# Prepare"
   ]
  },
  {
   "cell_type": "code",
   "execution_count": 5,
   "metadata": {
    "scrolled": true
   },
   "outputs": [
    {
     "name": "stdout",
     "output_type": "stream",
     "text": [
      "Empty DataFrame\n",
      "Columns: [product_name, generic_name, brands, categories, categories_tags, origins, manufacturing_places, labels, emb_codes, countries, main_category, en_tags]\n",
      "Index: []\n"
     ]
    }
   ],
   "source": [
    "#generate features\n",
    "feature_cols = ['product_name', 'generic_name', 'brands']\n",
    "print(df[df.en_tags.str.len()==0])\n",
    "X = df[feature_cols].fillna(\"\").apply(lambda x: \" \".join(x), axis = 1)\n",
    "y = df.en_tags"
   ]
  },
  {
   "cell_type": "code",
   "execution_count": 9,
   "metadata": {},
   "outputs": [],
   "source": [
    "# preprocess and split train and test date\n",
    "X = X.str.lower().apply(lambda x: re.sub(r'[^\\w\\s]','',x))\n",
    "\n",
    "X_train, X_test, y_train, y_test = train_test_split(X, y, test_size=0.33, random_state=42)\n",
    "\n",
    "dftrain = y_train.apply(lambda x: \" \".join([\"__label__\" + y\n",
    "                    for y in x])) + \" \" + X_train\n"
   ]
  },
  {
   "cell_type": "code",
   "execution_count": 10,
   "metadata": {},
   "outputs": [],
   "source": [
    "dftrain_emb = y_train.apply(lambda x: \" \".join(x)) + \" \" + X_train\n",
    "dftrain_emb.to_csv(\n",
    "    \"train_emb.csv\", index = False, sep=\";\")"
   ]
  },
  {
   "cell_type": "code",
   "execution_count": 11,
   "metadata": {},
   "outputs": [],
   "source": [
    "dftest = y_test.apply(lambda x: \" \".join([\"__label__\" + y\n",
    "                    for y in x])) + \" \" + X_test\n"
   ]
  },
  {
   "cell_type": "code",
   "execution_count": 12,
   "metadata": {},
   "outputs": [],
   "source": [
    "dftrain.to_csv(\n",
    "    \"train.csv\", index = False, sep=\";\")\n",
    "dftest.to_csv(\n",
    "    \"test.csv\", index = False, sep=\";\")"
   ]
  },
  {
   "cell_type": "markdown",
   "metadata": {},
   "source": [
    "# Train"
   ]
  },
  {
   "cell_type": "code",
   "execution_count": 19,
   "metadata": {},
   "outputs": [
    {
     "name": "stdout",
     "output_type": "stream",
     "text": [
      "Uninstalling fasttext-0.8.22:\n",
      "  Would remove:\n",
      "    /usr/local/anaconda3/lib/python3.7/site-packages/fastText/*\n",
      "    /usr/local/anaconda3/lib/python3.7/site-packages/fasttext-0.8.22.dist-info/*\n",
      "    /usr/local/anaconda3/lib/python3.7/site-packages/fasttext_pybind.cpython-37m-darwin.so\n",
      "Proceed (y/n)? ^C\n",
      "\u001b[31mOperation cancelled by user\u001b[0m\n"
     ]
    }
   ],
   "source": [
    "     "
   ]
  },
  {
   "cell_type": "code",
   "execution_count": 13,
   "metadata": {},
   "outputs": [
    {
     "data": {
      "text/plain": [
       "<fasttext.FastText._FastText at 0x137296e10>"
      ]
     },
     "execution_count": 13,
     "metadata": {},
     "output_type": "execute_result"
    }
   ],
   "source": [
    "train_supervised(\"/Users/evelyn.trautmann/projects/openfood/train.csv\",\n",
    "                autotuneValidationFile = \"test.csv\")"
   ]
  },
  {
   "cell_type": "code",
   "execution_count": 17,
   "metadata": {},
   "outputs": [
    {
     "name": "stdout",
     "output_type": "stream",
     "text": [
      "Progress: 100.0% Trials:   19 Best score:  0.474345 ETA:   0h 0m 0sss27sh 9m 2sm57sh 7m46s18s25s 9s33s Best score:  0.472712 ETA:   0h 5m23sssm28s 3m 6sm25ss50s  0h 0m 2s\n",
      "Training again with best arguments\n",
      "Read 2M words\n",
      "Number of words:  79212\n",
      "Number of labels: 137\n",
      "Progress: 100.0% words/sec/thread:  150404 lr:  0.000000 avg.loss:  1.298324 ETA:   0h 0m 0s54s0h 1m56ssm51s44s42s  0h 1m41ss6sm 4sm 1s 0m58ss  0h 0m46ss35s  0h 0m35s 0m33sh 0m24s  0h 0m24sm20sm14s13s 3s2s\n"
     ]
    }
   ],
   "source": [
    "!/Users/evelyn.trautmann/repos/fasttext3/fastText/fasttext supervised \\\n",
    "    -input \"/Users/evelyn.trautmann/projects/openfood/train.csv\" -output model \\\n",
    "    -autotune-validation \"test.csv\" -autotune-duration 1000"
   ]
  },
  {
   "cell_type": "code",
   "execution_count": 33,
   "metadata": {},
   "outputs": [],
   "source": [
    "train_supervised??"
   ]
  },
  {
   "cell_type": "code",
   "execution_count": 18,
   "metadata": {},
   "outputs": [
    {
     "name": "stdout",
     "output_type": "stream",
     "text": [
      "dim 109\r\n",
      "ws 5\r\n",
      "epoch 100\r\n",
      "minCount 1\r\n",
      "neg 5\r\n",
      "wordNgrams 4\r\n",
      "loss softmax\r\n",
      "model sup\r\n",
      "bucket 1120579\r\n",
      "minn 0\r\n",
      "maxn 0\r\n",
      "lrUpdateRate 100\r\n",
      "t 0.0001\r\n"
     ]
    }
   ],
   "source": [
    "!/Users/evelyn.trautmann/repos/fasttext3/fastText/fasttext dump model.bin args"
   ]
  },
  {
   "cell_type": "code",
   "execution_count": 19,
   "metadata": {},
   "outputs": [
    {
     "name": "stdout",
     "output_type": "stream",
     "text": [
      "N\t108670\r\n",
      "P@3\t0.763\r\n",
      "R@3\t0.848\r\n"
     ]
    }
   ],
   "source": [
    "!/Users/evelyn.trautmann/repos/fasttext3/fastText/fasttext test model.bin test.csv 3"
   ]
  },
  {
   "cell_type": "code",
   "execution_count": 21,
   "metadata": {},
   "outputs": [],
   "source": [
    "model = load_model(\"model.bin\")"
   ]
  },
  {
   "cell_type": "code",
   "execution_count": 37,
   "metadata": {},
   "outputs": [],
   "source": [
    "model_emb = train_unsupervised(\"/Users/evelyn.trautmann/projects/openfood/train_emb.csv\")"
   ]
  },
  {
   "cell_type": "code",
   "execution_count": null,
   "metadata": {},
   "outputs": [],
   "source": [
    "# model = train_supervised(input=\"/Users/evelyn.trautmann/projects/openfood/train.csv\", \n",
    "#                          autotuneValidationFile=\"test.csv\")"
   ]
  },
  {
   "cell_type": "markdown",
   "metadata": {},
   "source": [
    "# Test"
   ]
  },
  {
   "cell_type": "code",
   "execution_count": 22,
   "metadata": {},
   "outputs": [
    {
     "data": {
      "text/plain": [
       "(108670, 0.7626269132848685, 0.8481321402864813)"
      ]
     },
     "execution_count": 22,
     "metadata": {},
     "output_type": "execute_result"
    }
   ],
   "source": [
    "model.test(\"test.csv\", k=3)"
   ]
  },
  {
   "cell_type": "code",
   "execution_count": 23,
   "metadata": {},
   "outputs": [],
   "source": [
    "df_test = X_test.to_frame()\n",
    "df_test.columns = [\"feature\"]"
   ]
  },
  {
   "cell_type": "code",
   "execution_count": 24,
   "metadata": {},
   "outputs": [
    {
     "data": {
      "text/plain": [
       "3"
      ]
     },
     "execution_count": 24,
     "metadata": {},
     "output_type": "execute_result"
    }
   ],
   "source": [
    "# determine number of labels\n",
    "df_test = df_test.join(y_test)\n",
    "\n",
    "K = int(df_test.en_tags.str.len().quantile(0.75))\n",
    "K"
   ]
  },
  {
   "cell_type": "markdown",
   "metadata": {},
   "source": [
    "# Multilabel Evaluation "
   ]
  },
  {
   "cell_type": "code",
   "execution_count": 25,
   "metadata": {},
   "outputs": [],
   "source": [
    "df_test[\"prediction\"] = df_test.feature.apply(lambda x: model.predict(x, k=K))\n",
    "\n",
    "for k in range(K):\n",
    "    df_test[\"label_predicted%i\" %k] = df_test.prediction.str[0].str[k].str.replace(\"__label__\",\"\")\n",
    "    df_test[\"confidence%i\" %k] = df_test.prediction.str[1].str[k]\n",
    "    df_test[\"truth%i\" %k] = df_test.en_tags.str[k].str.replace(\"__label__\",\"\")\n"
   ]
  },
  {
   "cell_type": "code",
   "execution_count": 26,
   "metadata": {
    "scrolled": true
   },
   "outputs": [
    {
     "data": {
      "text/plain": [
       "feature             108670\n",
       "en_tags             108670\n",
       "prediction          108670\n",
       "label_predicted0    108670\n",
       "confidence0         108670\n",
       "truth0              108670\n",
       "label_predicted1    108670\n",
       "confidence1         108670\n",
       "truth1              100092\n",
       "label_predicted2    108670\n",
       "confidence2         108670\n",
       "truth2               84382\n",
       "dtype: int64"
      ]
     },
     "execution_count": 26,
     "metadata": {},
     "output_type": "execute_result"
    }
   ],
   "source": [
    "df_test.count()"
   ]
  },
  {
   "cell_type": "code",
   "execution_count": 27,
   "metadata": {
    "scrolled": true
   },
   "outputs": [],
   "source": [
    "# assertion no empty tags\n",
    "assert(len(df_test.en_tags[df_test.en_tags.str.len()==0])==0)"
   ]
  },
  {
   "cell_type": "markdown",
   "metadata": {},
   "source": [
    "Let \\{$T_1^{(1)}, ...,T_M^{(1)}$\\},...,\\{$T_1^{(N)}, ...,T_M^{(N)}$\\} be our ground truth, \n",
    "\\{$P_1^{(1)}, ...,P_M^{(1)}$\\},...,\\{$P_1^{(N)}, ...,P_M^{(N)}$\\} the prediction.\n",
    "\n",
    "on diagonal we count the events of truth matching prediction\n",
    "\n",
    "$\\sum_{i=1}^N |\\{T_1^{(i)}, ...,T_M^{(i)}\\}\\cap \\{P_1^{(i)}, ...,P_M^{(i)}\\}|$\n",
    "\n",
    "so for each diagonal entry we count over all data points (N) and all predictions (M) the total amount when truth is matching prediction.\n",
    "\n",
    "$C_{kk} =\\sum_{i=1}^N \\sum_{m=1}^M \\chi{1}\\{T_m^{(i)}=k,P_m^{(i)}=k\\} $\n",
    "\n",
    "in contrast on off-diagonal we count all events where truth was not covered by prediction.\n",
    "For the off-diagonal we take only the difference sets into account. If truth for data point i was for example {fish, curry, rice-dish} and prediction was {fish, curry, soup }, we only count \n",
    "$T^i$ = {rice_dish} and $P^i$ = {soup} for the off-daigonal. Formally we do the following transformation:\n",
    "\n",
    "$\\{\\tilde{T}_m^{(i)}\\}_{q=1,..M1} = \\{T_m^{(i)}\\}_{m=1,..M}\\setminus \\{P_m^{(i)}\\}_{m=1,..M}$ \n",
    "\n",
    "$\\{\\tilde{P}_m^{(i)}\\}_{p=1,..M2} = \\{P_m^{(i)}\\}_{m=1,..M}\\setminus \\{T_m^{(i)}\\}_{m=1,..M}$\n",
    "\n",
    "Eventually we count all events of the ground truth that were not captured in predictions, which results in\n",
    "\n",
    "$C_{kl} =\\sum_{i=1}^N \\sum_{m1=1}^{M1} \\sum_{m2=1}^{M2}\n",
    "\\frac{1}{M1}\\chi{1}\\{\\tilde{T}_{m1}^{(i)}=k,\\tilde{P}_{m2}^{(i)}=l\\} $\n",
    "\n",
    "Once we have computed a multi-class - multi-label confusion matrix the classification report is straight forward.\n",
    "\n",
    "Precision for class k is computed as\n",
    "\n",
    "$Pr_k=\\frac{C_{kk}}{\\sum_j C_{kj}}$\n",
    "\n",
    "and Recall\n",
    "\n",
    "$R_k=\\frac{C_{kk}}{\\sum_j C_{jk}}$\n",
    "\n"
   ]
  },
  {
   "cell_type": "code",
   "execution_count": 29,
   "metadata": {},
   "outputs": [],
   "source": [
    "classes = sr_labels.index.values\n",
    "#classes = list(set(np.concatenate(df_test.en_tags[df_test.en_tags.str.len()>0].values)))\n",
    "\n",
    "truth = list()\n",
    "predictions = list()\n",
    "for k in range(int(K)):\n",
    "    truth.append(\"truth%i\" %k)\n",
    "    predictions.append(\"label_predicted%i\" %k)"
   ]
  },
  {
   "cell_type": "code",
   "execution_count": 30,
   "metadata": {
    "scrolled": true
   },
   "outputs": [
    {
     "name": "stdout",
     "output_type": "stream",
     "text": [
      "CPU times: user 7min 9s, sys: 8.43 s, total: 7min 17s\n",
      "Wall time: 7min 14s\n"
     ]
    }
   ],
   "source": [
    "%time confusion = evaluation_metrics.get_confusion(df_test, classes, K, truth, predictions)"
   ]
  },
  {
   "cell_type": "code",
   "execution_count": 31,
   "metadata": {},
   "outputs": [
    {
     "name": "stdout",
     "output_type": "stream",
     "text": [
      "248624.0\n",
      "293144.0\n",
      "108670\n",
      "0.8481292470594657\n"
     ]
    }
   ],
   "source": [
    "print(np.diag(confusion).sum())\n",
    "print(confusion.sum().sum())\n",
    "print(df_test.shape[0])\n",
    "\n",
    "print(np.diag(confusion).sum()/confusion.sum().sum())"
   ]
  },
  {
   "cell_type": "code",
   "execution_count": 33,
   "metadata": {},
   "outputs": [],
   "source": [
    "df_report = evaluation_metrics.get_report(confusion)"
   ]
  },
  {
   "cell_type": "code",
   "execution_count": 35,
   "metadata": {},
   "outputs": [
    {
     "data": {
      "text/html": [
       "<div>\n",
       "<style scoped>\n",
       "    .dataframe tbody tr th:only-of-type {\n",
       "        vertical-align: middle;\n",
       "    }\n",
       "\n",
       "    .dataframe tbody tr th {\n",
       "        vertical-align: top;\n",
       "    }\n",
       "\n",
       "    .dataframe thead th {\n",
       "        text-align: right;\n",
       "    }\n",
       "</style>\n",
       "<table border=\"1\" class=\"dataframe\">\n",
       "  <thead>\n",
       "    <tr style=\"text-align: right;\">\n",
       "      <th></th>\n",
       "      <th>precision</th>\n",
       "      <th>recall</th>\n",
       "      <th>f1-score</th>\n",
       "      <th>support</th>\n",
       "    </tr>\n",
       "  </thead>\n",
       "  <tbody>\n",
       "    <tr>\n",
       "      <th>micro avg</th>\n",
       "      <td>0.848129</td>\n",
       "      <td>0.848129</td>\n",
       "      <td>0.848129</td>\n",
       "      <td>293144.0</td>\n",
       "    </tr>\n",
       "    <tr>\n",
       "      <th>macro avg</th>\n",
       "      <td>0.715294</td>\n",
       "      <td>0.789017</td>\n",
       "      <td>0.750349</td>\n",
       "      <td>293144.0</td>\n",
       "    </tr>\n",
       "    <tr>\n",
       "      <th>weighted avg</th>\n",
       "      <td>0.858766</td>\n",
       "      <td>0.848129</td>\n",
       "      <td>0.853414</td>\n",
       "      <td>293144.0</td>\n",
       "    </tr>\n",
       "  </tbody>\n",
       "</table>\n",
       "</div>"
      ],
      "text/plain": [
       "             precision    recall  f1-score   support\n",
       "micro avg     0.848129  0.848129  0.848129  293144.0\n",
       "macro avg     0.715294  0.789017  0.750349  293144.0\n",
       "weighted avg  0.858766  0.848129  0.853414  293144.0"
      ]
     },
     "execution_count": 35,
     "metadata": {},
     "output_type": "execute_result"
    }
   ],
   "source": [
    "evaluation_metrics.get_summary(df_report, confusion)"
   ]
  },
  {
   "cell_type": "markdown",
   "metadata": {},
   "source": [
    "# Similarity"
   ]
  },
  {
   "cell_type": "code",
   "execution_count": 42,
   "metadata": {
    "scrolled": true
   },
   "outputs": [],
   "source": [
    "class_vecs = pd.Series({cl:model_emb.get_sentence_vector(cl) for cl in classes})"
   ]
  },
  {
   "cell_type": "code",
   "execution_count": null,
   "metadata": {},
   "outputs": [],
   "source": [
    "model_emb.get_sentence_vector??"
   ]
  },
  {
   "cell_type": "code",
   "execution_count": 69,
   "metadata": {},
   "outputs": [],
   "source": [
    "Dst = class_vecs.apply(lambda x: class_vecs.apply(lambda y: sd.euclidean(x,y)))"
   ]
  },
  {
   "cell_type": "code",
   "execution_count": 70,
   "metadata": {},
   "outputs": [
    {
     "data": {
      "text/plain": [
       "0    163\n",
       "dtype: int64"
      ]
     },
     "execution_count": 70,
     "metadata": {},
     "output_type": "execute_result"
    }
   ],
   "source": [
    "Dst[mask].count().value_counts()"
   ]
  },
  {
   "cell_type": "code",
   "execution_count": 75,
   "metadata": {
    "collapsed": true
   },
   "outputs": [
    {
     "data": {
      "text/plain": [
       "rillettes                                                    rillettes\n",
       "olives                                                          olives\n",
       "apple-compotes                                                compotes\n",
       "frozen-plant-based-foods                      frozen-plant-based-foods\n",
       "rices                                                            rices\n",
       "baby-foods                                                  baby-foods\n",
       "potato-crisps                                            potato-crisps\n",
       "smoked-fishes                                            smoked-fishes\n",
       "salmons                                                        salmons\n",
       "animal-fats                                                animal-fats\n",
       "fish-and-meat-and-eggs                          fish-and-meat-and-eggs\n",
       "pasteurized-cheeses                                    labeled-cheeses\n",
       "crackers                                                      crackers\n",
       "refrigerated-foods                                  refrigerated-foods\n",
       "tomatoes-and-tomato-products              tomatoes-and-tomato-products\n",
       "dry-pasta                                                       pastas\n",
       "chicken-breasts                                               chickens\n",
       "dietary-supplements                                dietary-supplements\n",
       "tunas                                                            tunas\n",
       "prepared-vegetables                                prepared-vegetables\n",
       "cereal-flakes                                            cereal-flakes\n",
       "flakes                                                          flakes\n",
       "plant-milks                                                plant-milks\n",
       "milk-substitute                                        milk-substitute\n",
       "frozen-ready-made-meals                        frozen-ready-made-meals\n",
       "white-hams                                                  white-hams\n",
       "poultry-meals                                            poultry-meals\n",
       "fresh-plant-based-foods                        fresh-plant-based-foods\n",
       "berry-jams                                                  berry-jams\n",
       "wines-from-france                                                wines\n",
       "                                                   ...                \n",
       "confectioneries                                        confectioneries\n",
       "canned-foods                                              canned-foods\n",
       "seafood                                                         fishes\n",
       "vegetables-based-foods                          vegetables-based-foods\n",
       "sweet-spreads                                            sweet-spreads\n",
       "frozen-foods                                              frozen-foods\n",
       "desserts                                                      desserts\n",
       "sauces                                                       groceries\n",
       "fruits-based-foods                   fruits-and-vegetables-based-foods\n",
       "plant-based-beverages                            fruit-based-beverages\n",
       "breakfasts                                                  breakfasts\n",
       "cheeses                                                    aoc-cheeses\n",
       "prepared-meats                                          prepared-meats\n",
       "cereals-and-their-products                  cereals-and-their-products\n",
       "biscuits-and-cakes                                  biscuits-and-cakes\n",
       "spreads                                                        spreads\n",
       "groceries                                                       sauces\n",
       "meals                                                            meals\n",
       "fermented-milk-products                                fermented-foods\n",
       "fermented-foods                                fermented-milk-products\n",
       "fruits-and-vegetables-based-foods                   fruits-based-foods\n",
       "non-alcoholic-beverages                            sweetened-beverages\n",
       "meats                                                            meats\n",
       "cereals-and-potatoes                              cereals-and-potatoes\n",
       "dairies                                                        dairies\n",
       "sweet-snacks                                              sweet-snacks\n",
       "beverages                                                    beverages\n",
       "snacks                                                          snacks\n",
       "plant-based-foods                      plant-based-foods-and-beverages\n",
       "plant-based-foods-and-beverages                      plant-based-foods\n",
       "Length: 163, dtype: object"
      ]
     },
     "execution_count": 75,
     "metadata": {},
     "output_type": "execute_result"
    }
   ],
   "source": [
    "mask = Dst > 0.5\n",
    "Dst[mask]=np.nan\n",
    "Dst.apply(np.argmax)"
   ]
  },
  {
   "cell_type": "code",
   "execution_count": 84,
   "metadata": {},
   "outputs": [],
   "source": [
    "S = np.exp(-Dst**2).fillna(0)"
   ]
  },
  {
   "cell_type": "code",
   "execution_count": 91,
   "metadata": {
    "scrolled": true
   },
   "outputs": [
    {
     "data": {
      "text/plain": [
       "rillettes                              309.666667\n",
       "olives                                 548.166667\n",
       "apple-compotes                           0.000000\n",
       "frozen-plant-based-foods               428.166667\n",
       "rices                                    0.000000\n",
       "baby-foods                             517.333333\n",
       "potato-crisps                          581.333333\n",
       "smoked-fishes                          644.833333\n",
       "salmons                                160.666667\n",
       "animal-fats                            579.500000\n",
       "fish-and-meat-and-eggs                 634.666667\n",
       "pasteurized-cheeses                     63.166667\n",
       "crackers                                 0.000000\n",
       "refrigerated-foods                     275.000000\n",
       "tomatoes-and-tomato-products             0.000000\n",
       "dry-pasta                              563.000000\n",
       "chicken-breasts                          1.333333\n",
       "dietary-supplements                    639.000000\n",
       "tunas                                  523.166667\n",
       "prepared-vegetables                    602.333333\n",
       "cereal-flakes                            0.000000\n",
       "flakes                                 489.000000\n",
       "plant-milks                              0.000000\n",
       "milk-substitute                        646.166667\n",
       "frozen-ready-made-meals                530.333333\n",
       "white-hams                              14.000000\n",
       "poultry-meals                          483.000000\n",
       "fresh-plant-based-foods                482.666667\n",
       "berry-jams                               0.000000\n",
       "wines-from-france                      353.000000\n",
       "                                         ...     \n",
       "confectioneries                       3077.500000\n",
       "canned-foods                           309.000000\n",
       "seafood                               3544.000000\n",
       "vegetables-based-foods                 414.833333\n",
       "sweet-spreads                          535.666667\n",
       "frozen-foods                          1659.000000\n",
       "desserts                              3612.833333\n",
       "sauces                                5084.833333\n",
       "fruits-based-foods                      92.666667\n",
       "plant-based-beverages                   47.500000\n",
       "breakfasts                            5842.500000\n",
       "cheeses                               2041.833333\n",
       "prepared-meats                        5938.833333\n",
       "cereals-and-their-products            1369.666667\n",
       "biscuits-and-cakes                    5309.333333\n",
       "spreads                               2156.833333\n",
       "groceries                             5098.333333\n",
       "meals                                 8346.333333\n",
       "fermented-milk-products               9199.000000\n",
       "fermented-foods                       4673.000000\n",
       "fruits-and-vegetables-based-foods    10467.333333\n",
       "non-alcoholic-beverages               4495.166667\n",
       "meats                                 9281.166667\n",
       "cereals-and-potatoes                   155.333333\n",
       "dairies                              10893.333333\n",
       "sweet-snacks                          9288.833333\n",
       "beverages                            14306.500000\n",
       "snacks                               15751.000000\n",
       "plant-based-foods                    31687.666667\n",
       "plant-based-foods-and-beverages      29320.333333\n",
       "Length: 163, dtype: float64"
      ]
     },
     "execution_count": 91,
     "metadata": {},
     "output_type": "execute_result"
    }
   ],
   "source": [
    "confusion.sum()"
   ]
  },
  {
   "cell_type": "code",
   "execution_count": 93,
   "metadata": {},
   "outputs": [],
   "source": [
    "df_report = evaluation_metrics.get_report(confusion, S)\n",
    "#.dropna()"
   ]
  },
  {
   "cell_type": "code",
   "execution_count": 95,
   "metadata": {},
   "outputs": [
    {
     "data": {
      "text/html": [
       "<div>\n",
       "<style scoped>\n",
       "    .dataframe tbody tr th:only-of-type {\n",
       "        vertical-align: middle;\n",
       "    }\n",
       "\n",
       "    .dataframe tbody tr th {\n",
       "        vertical-align: top;\n",
       "    }\n",
       "\n",
       "    .dataframe thead th {\n",
       "        text-align: right;\n",
       "    }\n",
       "</style>\n",
       "<table border=\"1\" class=\"dataframe\">\n",
       "  <thead>\n",
       "    <tr style=\"text-align: right;\">\n",
       "      <th></th>\n",
       "      <th>precision</th>\n",
       "      <th>recall</th>\n",
       "      <th>f1-score</th>\n",
       "      <th>support</th>\n",
       "    </tr>\n",
       "  </thead>\n",
       "  <tbody>\n",
       "    <tr>\n",
       "      <th>micro avg</th>\n",
       "      <td>0.851939</td>\n",
       "      <td>0.851939</td>\n",
       "      <td>0.851939</td>\n",
       "      <td>293144.0</td>\n",
       "    </tr>\n",
       "    <tr>\n",
       "      <th>macro avg</th>\n",
       "      <td>0.724225</td>\n",
       "      <td>0.797972</td>\n",
       "      <td>0.759312</td>\n",
       "      <td>293144.0</td>\n",
       "    </tr>\n",
       "    <tr>\n",
       "      <th>weighted avg</th>\n",
       "      <td>0.861889</td>\n",
       "      <td>0.851939</td>\n",
       "      <td>0.856885</td>\n",
       "      <td>293144.0</td>\n",
       "    </tr>\n",
       "  </tbody>\n",
       "</table>\n",
       "</div>"
      ],
      "text/plain": [
       "             precision    recall  f1-score   support\n",
       "micro avg     0.851939  0.851939  0.851939  293144.0\n",
       "macro avg     0.724225  0.797972  0.759312  293144.0\n",
       "weighted avg  0.861889  0.851939  0.856885  293144.0"
      ]
     },
     "execution_count": 95,
     "metadata": {},
     "output_type": "execute_result"
    }
   ],
   "source": [
    "evaluation_metrics.get_summary(df_report, confusion, S)"
   ]
  },
  {
   "cell_type": "code",
   "execution_count": null,
   "metadata": {},
   "outputs": [],
   "source": []
  },
  {
   "cell_type": "code",
   "execution_count": null,
   "metadata": {},
   "outputs": [],
   "source": []
  },
  {
   "cell_type": "code",
   "execution_count": 752,
   "metadata": {},
   "outputs": [
    {
     "name": "stdout",
     "output_type": "stream",
     "text": [
      "beverages-pork:1.2664862871170044\n",
      "beef-pork:0.9527662396430969\n",
      "beverages-biscuits:1.2621071338653564\n",
      "tunas-meals-with-fish:0.8387037515640259\n"
     ]
    }
   ],
   "source": [
    "for pair in [(\"beverages\",\"pork\"), (\"beef\",\"pork\"), (\"beverages\",\"biscuits\"), (\"tunas\", \"meals-with-fish\")]:\n",
    "    print(\"{}-{}:{}\".format(pair[0], pair[1],\n",
    "                    sd.euclidean(model_emb.get_sentence_vector(pair[0]),model_emb.get_sentence_vector(pair[1]))))"
   ]
  },
  {
   "cell_type": "code",
   "execution_count": 210,
   "metadata": {},
   "outputs": [
    {
     "name": "stdout",
     "output_type": "stream",
     "text": [
      "dried-plant-based-foods\tdesserts:1.1720834970474243\n",
      "dried-plant-based-foods\tdesserts:0.6868899166584015\n"
     ]
    }
   ],
   "source": [
    "pair = pd.Series(classes).sample(2).values\n",
    "print(\"{}\\t{}:{}\".format(pair[0], pair[1],\n",
    "                sd.euclidean(model_emb.get_sentence_vector(pair[0]),model_emb.get_sentence_vector(pair[1]))))\n",
    "print(\"{}\\t{}:{}\".format(pair[0], pair[1],\n",
    "                sd.cosine(model_emb.get_sentence_vector(pair[0]),model_emb.get_sentence_vector(pair[1]))))"
   ]
  },
  {
   "cell_type": "code",
   "execution_count": 140,
   "metadata": {},
   "outputs": [
    {
     "name": "stdout",
     "output_type": "stream",
     "text": [
      "mustards\tmustards:\t0.0\n",
      "mustards\tcondiments:\t0.2867031693458557\n",
      "mustards\tsauces:\t0.32911592721939087\n",
      "nuts\tnuts:\t0.0\n",
      "nuts\tnuts-and-their-products:\t0.15761154890060425\n",
      "vegetables-based-foods\tvegetables-based-foods:\t0.0\n",
      "vegetables-based-foods\tprepared-vegetables:\t0.3953184485435486\n",
      "vegetables-based-foods\tfresh-plant-based-foods:\t0.18641942739486694\n",
      "vegetables-based-foods\tplant-based-foods:\t0.35364454984664917\n",
      "vegetables-based-foods\tfrozen-plant-based-foods:\t0.21933895349502563\n",
      "vegetables-based-foods\tfruits-and-vegetables-based-foods:\t0.15080010890960693\n",
      "vegetables-based-foods\tcanned-plant-based-foods:\t0.35071080923080444\n",
      "vegetables-based-foods\tfruits-based-foods:\t0.3221844434738159\n",
      "vegetables-based-foods\tcanned-vegetables:\t0.31166863441467285\n",
      "frozen-foods\tfrozen-foods:\t0.0\n",
      "frozen-foods\tfrozen-ready-made-meals:\t0.23028844594955444\n",
      "frozen-foods\tfrozen-desserts:\t0.28185945749282837\n",
      "frozen-foods\tice-creams-and-sorbets:\t0.3977077603340149\n",
      "frozen-foods\tfrozen-plant-based-foods:\t0.21641820669174194\n",
      "yogurts\tyogurts:\t0.0\n",
      "yogurts\tfermented-milk-products:\t0.2961398959159851\n",
      "yogurts\tfermented-foods:\t0.3093424439430237\n",
      "yogurts\tfruit-yogurts:\t0.06581997871398926\n",
      "plant-milks\tplant-milks:\t0.0\n",
      "plant-milks\tplant-based-beverages:\t0.2702150344848633\n",
      "plant-milks\tlegumes-and-their-products:\t0.38442498445510864\n",
      "plant-milks\tmilks:\t0.3353240489959717\n",
      "plant-milks\tmilk-substitute:\t0.027336299419403076\n",
      "wines\twines:\t0.0\n",
      "wines\talcoholic-beverages:\t0.22832095623016357\n",
      "wines\twines-from-france:\t0.08772033452987671\n",
      "legume-seeds\tlegume-seeds:\t0.0\n",
      "legume-seeds\tlegumes-and-their-products:\t0.3333941698074341\n",
      "legume-seeds\tlegumes:\t0.1311461329460144\n",
      "legume-seeds\tpulses:\t0.03415030241012573\n",
      "herbal-teas\therbal-teas:\t0.0\n",
      "herbal-teas\tplant-based-beverages:\t0.3158878684043884\n",
      "herbal-teas\tteas:\t0.11283886432647705\n",
      "herbal-teas\thot-beverages:\t0.14151990413665771\n",
      "labeled-cheeses\tlabeled-cheeses:\t0.0\n",
      "labeled-cheeses\tcheeses:\t0.27493536472320557\n",
      "labeled-cheeses\taoc-cheeses:\t0.012274205684661865\n",
      "labeled-cheeses\tpasteurized-cheeses:\t0.21987688541412354\n",
      "labeled-cheeses\tfrench-cheeses:\t0.17032408714294434\n",
      "labeled-cheeses\tcooked-pressed-cheeses:\t0.1028708815574646\n",
      "labeled-cheeses\tcow-cheeses:\t0.1774306297302246\n",
      "non-alcoholic-beverages\tnon-alcoholic-beverages:\t0.0\n",
      "non-alcoholic-beverages\twaters:\t0.35931485891342163\n",
      "non-alcoholic-beverages\tartificially-sweetened-beverages:\t0.2215009331703186\n",
      "non-alcoholic-beverages\tsodas:\t0.3576478958129883\n",
      "non-alcoholic-beverages\tsweetened-beverages:\t0.11871004104614258\n",
      "non-alcoholic-beverages\tfruit-based-beverages:\t0.30770236253738403\n",
      "non-alcoholic-beverages\talcoholic-beverages:\t0.31931352615356445\n",
      "non-alcoholic-beverages\tplant-based-beverages:\t0.27887076139450073\n",
      "non-alcoholic-beverages\tbeverages:\t0.13898932933807373\n",
      "non-alcoholic-beverages\tcarbonated-drinks:\t0.3029738664627075\n",
      "non-alcoholic-beverages\tunsweetened-beverages:\t0.09736871719360352\n",
      "non-alcoholic-beverages\thot-beverages:\t0.3604074716567993\n",
      "fats\tfats:\t0.0\n",
      "fats\tvegetable-fats:\t0.16446620225906372\n",
      "fats\tvegetable-oils:\t0.301430344581604\n",
      "fats\tolive-oils:\t0.3931223750114441\n",
      "fats\tanimal-fats:\t0.15353542566299438\n",
      "fats\tspreadable-fats:\t0.14305758476257324\n",
      "meats\tmeats:\t0.0\n",
      "meats\tchickens:\t0.385672926902771\n",
      "meats\tchicken-breasts:\t0.3972211480140686\n",
      "meats\tprepared-meats:\t0.16059845685958862\n",
      "meats\tpoultries:\t0.2957349419593811\n",
      "meats\tsausages:\t0.32563555240631104\n",
      "meats\thams:\t0.386468768119812\n",
      "salmons\tsalmons:\t0.0\n",
      "salmons\tfishes:\t0.2668984532356262\n",
      "salmons\tsmoked-fishes:\t0.12749254703521729\n",
      "salmons\tseafood:\t0.3502330183982849\n",
      "olives\tolives:\t0.0\n",
      "olives\tplant-based-pickles:\t0.24411684274673462\n",
      "olives\tpickles:\t0.3147311210632324\n",
      "olives\tolive-tree-products:\t0.39100390672683716\n",
      "olives\tolive-oils:\t0.3880038261413574\n",
      "ice-creams\tice-creams:\t0.0\n",
      "ice-creams\tfrozen-desserts:\t0.07154268026351929\n",
      "ice-creams\tice-creams-and-sorbets:\t0.027796626091003418\n",
      "tomato-sauces\ttomato-sauces:\t0.0\n",
      "tomato-sauces\tgroceries:\t0.3622889518737793\n",
      "tomato-sauces\tsauces:\t0.29387664794921875\n",
      "tomato-sauces\ttomatoes-and-tomato-products:\t0.22174733877182007\n",
      "fish-and-meat-and-eggs\tfish-and-meat-and-eggs:\t0.0\n",
      "microwave-meals\tmicrowave-meals:\t0.0\n",
      "microwave-meals\tfrozen-ready-made-meals:\t0.19111669063568115\n",
      "microwave-meals\tmeals-with-fish:\t0.37936484813690186\n",
      "microwave-meals\tmeals:\t0.22425884008407593\n",
      "microwave-meals\tmeals-with-meat:\t0.18950337171554565\n",
      "microwave-meals\tmeat-based-products:\t0.30048900842666626\n",
      "microwave-meals\tpasta-dishes:\t0.30535948276519775\n",
      "microwave-meals\tpoultry-meals:\t0.22815024852752686\n",
      "beers\tbeers:\t0.0\n",
      "beers\talcoholic-beverages:\t0.2521299123764038\n",
      "pastries\tpastries:\t0.0\n",
      "pastries\tcakes:\t0.32887518405914307\n",
      "pastries\tbiscuits-and-cakes:\t0.2742959260940552\n",
      "fishes\tsalmons:\t0.2668984532356262\n",
      "fishes\tfishes:\t0.0\n",
      "fishes\tmeals-with-fish:\t0.3560408353805542\n",
      "fishes\tsmoked-fishes:\t0.15498065948486328\n",
      "fishes\tcanned-fishes:\t0.17500782012939453\n",
      "fishes\tseafood:\t0.1568145751953125\n",
      "fishes\ttunas:\t0.32654261589050293\n",
      "vegetable-fats\tfats:\t0.16446620225906372\n",
      "vegetable-fats\tvegetable-fats:\t0.0\n",
      "vegetable-fats\tvegetable-oils:\t0.1368701457977295\n",
      "vegetable-fats\textra-virgin-olive-oils:\t0.39145219326019287\n",
      "vegetable-fats\tolive-tree-products:\t0.37292593717575073\n",
      "vegetable-fats\tolive-oils:\t0.3661181926727295\n",
      "vegetable-fats\tanimal-fats:\t0.3275412321090698\n",
      "vegetable-fats\tspreadable-fats:\t0.19743043184280396\n",
      "plant-based-pickles\tolives:\t0.24411684274673462\n",
      "plant-based-pickles\tplant-based-pickles:\t0.0\n",
      "plant-based-pickles\tpickles:\t0.07150614261627197\n",
      "plant-based-pickles\tcanned-vegetables:\t0.3238467574119568\n",
      "cheeses\tlabeled-cheeses:\t0.27493536472320557\n",
      "cheeses\tcheeses:\t0.0\n",
      "cheeses\taoc-cheeses:\t0.26897770166397095\n",
      "cheeses\tpasteurized-cheeses:\t0.16048473119735718\n",
      "cheeses\tfrench-cheeses:\t0.17454463243484497\n",
      "cheeses\tcooked-pressed-cheeses:\t0.3174574375152588\n",
      "cheeses\tfermented-milk-products:\t0.24048197269439697\n",
      "cheeses\tcow-cheeses:\t0.10748130083084106\n",
      "cheeses\tfermented-foods:\t0.254860520362854\n",
      "waters\tnon-alcoholic-beverages:\t0.35931485891342163\n",
      "waters\twaters:\t0.0\n",
      "waters\tcarbonated-drinks:\t0.3287227749824524\n",
      "vegetable-oils\tfats:\t0.301430344581604\n",
      "vegetable-oils\tvegetable-fats:\t0.1368701457977295\n",
      "vegetable-oils\tvegetable-oils:\t0.0\n",
      "vegetable-oils\textra-virgin-olive-oils:\t0.1401221752166748\n",
      "vegetable-oils\tolive-tree-products:\t0.20617526769638062\n",
      "vegetable-oils\tolive-oils:\t0.12387245893478394\n",
      "sweeteners\tsweeteners:\t0.0\n",
      "sweeteners\tsyrups:\t0.31329941749572754\n",
      "flakes\tflakes:\t0.0\n",
      "flakes\tbreakfast-cereals:\t0.1248331069946289\n",
      "flakes\tcereal-flakes:\t0.047953128814697266\n",
      "candies\tcandies:\t0.0\n",
      "candies\tchocolate-candies:\t0.2604122757911682\n",
      "candies\tconfectioneries:\t0.1782776117324829\n",
      "candies\tbonbons:\t0.19319498538970947\n",
      "artificially-sweetened-beverages\tnon-alcoholic-beverages:\t0.2215009331703186\n",
      "artificially-sweetened-beverages\tartificially-sweetened-beverages:\t0.0\n",
      "artificially-sweetened-beverages\tsodas:\t0.20788007974624634\n",
      "artificially-sweetened-beverages\tsweetened-beverages:\t0.08848464488983154\n",
      "artificially-sweetened-beverages\tfruit-based-beverages:\t0.3327927589416504\n",
      "artificially-sweetened-beverages\tplant-based-beverages:\t0.3561716079711914\n",
      "artificially-sweetened-beverages\tbeverages:\t0.34421277046203613\n",
      "artificially-sweetened-beverages\tcarbonated-drinks:\t0.20673871040344238\n",
      "artificially-sweetened-beverages\tunsweetened-beverages:\t0.25965893268585205\n",
      "frozen-ready-made-meals\tfrozen-foods:\t0.23028844594955444\n",
      "frozen-ready-made-meals\tmicrowave-meals:\t0.19111669063568115\n",
      "frozen-ready-made-meals\tfrozen-ready-made-meals:\t0.0\n",
      "frozen-ready-made-meals\tmeals:\t0.2410728931427002\n",
      "frozen-ready-made-meals\tmeals-with-meat:\t0.32862579822540283\n",
      "frozen-ready-made-meals\tfrozen-plant-based-foods:\t0.3227238059043884\n",
      "frozen-ready-made-meals\trefrigerated-foods:\t0.39606916904449463\n",
      "frozen-ready-made-meals\tpoultry-meals:\t0.3167256712913513\n",
      "dairy-desserts\tdairy-desserts:\t0.0\n",
      "dairy-desserts\tdairies:\t0.28830039501190186\n",
      "dairy-desserts\tdesserts:\t0.1700228452682495\n",
      "bee-products\tbee-products:\t0.0\n",
      "bee-products\thoneys:\t0.09351837635040283\n",
      "bee-products\tfarming-products:\t0.1330583691596985\n",
      "bee-products\tolive-tree-products:\t0.36107105016708374\n",
      "aoc-cheeses\tlabeled-cheeses:\t0.012274205684661865\n",
      "aoc-cheeses\tcheeses:\t0.26897770166397095\n",
      "aoc-cheeses\taoc-cheeses:\t0.0\n",
      "aoc-cheeses\tpasteurized-cheeses:\t0.2288811206817627\n",
      "aoc-cheeses\tfrench-cheeses:\t0.16367483139038086\n",
      "aoc-cheeses\tcooked-pressed-cheeses:\t0.11428523063659668\n",
      "aoc-cheeses\tcow-cheeses:\t0.1666567325592041\n",
      "sodas\tnon-alcoholic-beverages:\t0.3576478958129883\n",
      "sodas\tartificially-sweetened-beverages:\t0.20788007974624634\n",
      "sodas\tsodas:\t0.0\n",
      "sodas\tsweetened-beverages:\t0.24152207374572754\n",
      "sodas\tcarbonated-drinks:\t0.07911968231201172\n",
      "sweetened-beverages\tnon-alcoholic-beverages:\t0.11871004104614258\n",
      "sweetened-beverages\tartificially-sweetened-beverages:\t0.08848464488983154\n",
      "sweetened-beverages\tsodas:\t0.24152207374572754\n",
      "sweetened-beverages\tsweetened-beverages:\t0.0\n",
      "sweetened-beverages\tfruit-based-beverages:\t0.2671305537223816\n",
      "sweetened-beverages\tplant-based-beverages:\t0.2850978374481201\n",
      "sweetened-beverages\tfruit-juices-and-nectars:\t0.39144158363342285\n",
      "sweetened-beverages\tbeverages:\t0.21333158016204834\n",
      "sweetened-beverages\tcarbonated-drinks:\t0.2292943000793457\n",
      "sweetened-beverages\tunsweetened-beverages:\t0.117484450340271\n",
      "sweetened-beverages\tjuices-and-nectars:\t0.37908124923706055\n",
      "sweetened-beverages\thot-beverages:\t0.3489990234375\n",
      "fruit-juices\tfruit-juices:\t0.0\n",
      "fruit-juices\tfruit-based-beverages:\t0.19484710693359375\n",
      "fruit-juices\tfruit-juices-and-nectars:\t0.04087638854980469\n",
      "fruit-juices\tsqueezed-juices:\t0.059957265853881836\n",
      "fruit-juices\tjuices-and-nectars:\t0.0991392731666565\n",
      "meals-with-fish\tmicrowave-meals:\t0.37936484813690186\n",
      "meals-with-fish\tfishes:\t0.3560408353805542\n",
      "meals-with-fish\tmeals-with-fish:\t0.0\n",
      "meals-with-fish\tmeals:\t0.3593977689743042\n",
      "meals-with-fish\tmeals-with-meat:\t0.3479430675506592\n"
     ]
    },
    {
     "name": "stdout",
     "output_type": "stream",
     "text": [
      "chocolate-candies\tcandies:\t0.2604122757911682\n",
      "chocolate-candies\tchocolate-candies:\t0.0\n",
      "chocolate-candies\tbars:\t0.3596424460411072\n",
      "chocolate-candies\tmilk-chocolates:\t0.31962037086486816\n",
      "chocolate-candies\tconfectioneries:\t0.23213708400726318\n",
      "chocolate-candies\tbonbons:\t0.1409364938735962\n",
      "chocolate-candies\tchocolates:\t0.34391647577285767\n",
      "bars\tchocolate-candies:\t0.3596424460411072\n",
      "bars\tbars:\t0.0\n",
      "bars\tdietary-supplements:\t0.3989158272743225\n",
      "milk-chocolates\tchocolate-candies:\t0.31962037086486816\n",
      "milk-chocolates\tmilk-chocolates:\t0.0\n",
      "milk-chocolates\tdark-chocolates:\t0.14226102828979492\n",
      "milk-chocolates\tchocolates:\t0.07278323173522949\n",
      "fresh-foods\tfresh-foods:\t0.0\n",
      "fresh-foods\tfresh-plant-based-foods:\t0.24951088428497314\n",
      "fresh-foods\trefrigerated-foods:\t0.31958574056625366\n",
      "dried-plant-based-foods\tdried-plant-based-foods:\t0.0\n",
      "dried-plant-based-foods\tdried-products-to-be-rehydrated:\t0.3571828007698059\n",
      "dried-plant-based-foods\tfresh-plant-based-foods:\t0.38379961252212524\n",
      "dried-plant-based-foods\tdried-fruits:\t0.0926508903503418\n",
      "dried-plant-based-foods\tdried-products:\t0.13827729225158691\n",
      "dried-plant-based-foods\tcanned-plant-based-foods:\t0.330211341381073\n",
      "meals\tmicrowave-meals:\t0.22425884008407593\n",
      "meals\tfrozen-ready-made-meals:\t0.2410728931427002\n",
      "meals\tmeals-with-fish:\t0.3593977689743042\n",
      "meals\tmeals:\t0.0\n",
      "meals\tmeals-with-meat:\t0.2542024254798889\n",
      "meals\tmeat-based-products:\t0.38424015045166016\n",
      "meals\trefrigerated-foods:\t0.35640257596969604\n",
      "meals\tpoultry-meals:\t0.30896085500717163\n",
      "confectioneries\tcandies:\t0.1782776117324829\n",
      "confectioneries\tchocolate-candies:\t0.23213708400726318\n",
      "confectioneries\tconfectioneries:\t0.0\n",
      "confectioneries\tsweet-snacks:\t0.376059889793396\n",
      "confectioneries\tbonbons:\t0.25270944833755493\n",
      "biscuits\tbiscuits:\t0.0\n",
      "biscuits\tchocolate-biscuits:\t0.12472856044769287\n",
      "biscuits\tbiscuits-and-cakes:\t0.16513746976852417\n",
      "breakfast-cereals\tflakes:\t0.1248331069946289\n",
      "breakfast-cereals\tbreakfast-cereals:\t0.0\n",
      "breakfast-cereals\tbreakfasts:\t0.20553058385849\n",
      "breakfast-cereals\tcereals-and-their-products:\t0.3414813280105591\n",
      "breakfast-cereals\tcereal-flakes:\t0.09251606464385986\n",
      "breakfast-cereals\tcereal-grains:\t0.35071825981140137\n",
      "pickles\tolives:\t0.3147311210632324\n",
      "pickles\tplant-based-pickles:\t0.07150614261627197\n",
      "pickles\tpickles:\t0.0\n",
      "pickles\tcanned-vegetables:\t0.3582867383956909\n",
      "chips-and-fries\tchips-and-fries:\t0.0\n",
      "chips-and-fries\tappetizers:\t0.2826197147369385\n",
      "chips-and-fries\tcrisps:\t0.05565667152404785\n",
      "chips-and-fries\tpotato-crisps:\t0.10035902261734009\n",
      "coffees\tcoffees:\t0.0\n",
      "coffees\thot-beverages:\t0.36793965101242065\n",
      "pasteurized-cheeses\tlabeled-cheeses:\t0.21987688541412354\n",
      "pasteurized-cheeses\tcheeses:\t0.16048473119735718\n",
      "pasteurized-cheeses\taoc-cheeses:\t0.2288811206817627\n",
      "pasteurized-cheeses\tpasteurized-cheeses:\t0.0\n",
      "pasteurized-cheeses\tfrench-cheeses:\t0.13002943992614746\n",
      "pasteurized-cheeses\tcooked-pressed-cheeses:\t0.26512742042541504\n",
      "pasteurized-cheeses\tfermented-milk-products:\t0.33351004123687744\n",
      "pasteurized-cheeses\tcow-cheeses:\t0.12102317810058594\n",
      "pasteurized-cheeses\tfermented-foods:\t0.3691776990890503\n",
      "pizzas-pies-and-quiches\tpizzas-pies-and-quiches:\t0.0\n",
      "prepared-vegetables\tvegetables-based-foods:\t0.3953184485435486\n",
      "prepared-vegetables\tprepared-vegetables:\t0.0\n",
      "prepared-vegetables\tpulses:\t0.38773810863494873\n",
      "prepared-vegetables\tcanned-vegetables:\t0.27423858642578125\n",
      "fruit-based-beverages\tnon-alcoholic-beverages:\t0.30770236253738403\n",
      "fruit-based-beverages\tartificially-sweetened-beverages:\t0.3327927589416504\n",
      "fruit-based-beverages\tsweetened-beverages:\t0.2671305537223816\n",
      "fruit-based-beverages\tfruit-juices:\t0.19484710693359375\n",
      "fruit-based-beverages\tfruit-based-beverages:\t0.0\n",
      "fruit-based-beverages\tplant-based-beverages:\t0.18348485231399536\n",
      "fruit-based-beverages\tfruit-juices-and-nectars:\t0.14343661069869995\n",
      "fruit-based-beverages\tbeverages:\t0.3910478949546814\n",
      "fruit-based-beverages\tsqueezed-juices:\t0.2941526174545288\n",
      "fruit-based-beverages\tcarbonated-drinks:\t0.390852689743042\n",
      "fruit-based-beverages\tunsweetened-beverages:\t0.2983882427215576\n",
      "fruit-based-beverages\tjuices-and-nectars:\t0.13708770275115967\n",
      "alcoholic-beverages\twines:\t0.22832095623016357\n",
      "alcoholic-beverages\tnon-alcoholic-beverages:\t0.31931352615356445\n",
      "alcoholic-beverages\tbeers:\t0.2521299123764038\n",
      "alcoholic-beverages\talcoholic-beverages:\t0.0\n",
      "alcoholic-beverages\tbeverages:\t0.21627920866012573\n",
      "alcoholic-beverages\twines-from-france:\t0.23287200927734375\n",
      "plant-based-beverages\tplant-milks:\t0.2702150344848633\n",
      "plant-based-beverages\therbal-teas:\t0.3158878684043884\n",
      "plant-based-beverages\tnon-alcoholic-beverages:\t0.27887076139450073\n",
      "plant-based-beverages\tartificially-sweetened-beverages:\t0.3561716079711914\n",
      "plant-based-beverages\tsweetened-beverages:\t0.2850978374481201\n",
      "plant-based-beverages\tfruit-based-beverages:\t0.18348485231399536\n",
      "plant-based-beverages\tplant-based-beverages:\t0.0\n",
      "plant-based-beverages\tfruit-juices-and-nectars:\t0.38722479343414307\n",
      "plant-based-beverages\tteas:\t0.318570077419281\n",
      "plant-based-beverages\tbeverages:\t0.37449419498443604\n",
      "plant-based-beverages\tmilk-substitute:\t0.3074039816856384\n",
      "plant-based-beverages\tunsweetened-beverages:\t0.24333280324935913\n",
      "plant-based-beverages\tjuices-and-nectars:\t0.3498675227165222\n",
      "plant-based-beverages\thot-beverages:\t0.24503523111343384\n",
      "fruit-juices-and-nectars\tsweetened-beverages:\t0.39144158363342285\n",
      "fruit-juices-and-nectars\tfruit-juices:\t0.04087638854980469\n",
      "fruit-juices-and-nectars\tfruit-based-beverages:\t0.14343661069869995\n",
      "fruit-juices-and-nectars\tplant-based-beverages:\t0.38722479343414307\n",
      "fruit-juices-and-nectars\tfruit-juices-and-nectars:\t0.0\n",
      "fruit-juices-and-nectars\tsqueezed-juices:\t0.10911667346954346\n",
      "fruit-juices-and-nectars\tunsweetened-beverages:\t0.3779070973396301\n",
      "fruit-juices-and-nectars\tjuices-and-nectars:\t0.024326324462890625\n",
      "frozen-desserts\tfrozen-foods:\t0.28185945749282837\n",
      "frozen-desserts\tice-creams:\t0.07154268026351929\n",
      "frozen-desserts\tfrozen-desserts:\t0.0\n",
      "frozen-desserts\tice-creams-and-sorbets:\t0.04740428924560547\n",
      "frozen-desserts\tfrozen-plant-based-foods:\t0.386253297328949\n",
      "appetizers\tchips-and-fries:\t0.2826197147369385\n",
      "appetizers\tappetizers:\t0.0\n",
      "appetizers\tsalty-snacks:\t0.13204807043075562\n",
      "appetizers\tcrackers:\t0.16068154573440552\n",
      "appetizers\tcrisps:\t0.27309924364089966\n",
      "honeys\tbee-products:\t0.09351837635040283\n",
      "honeys\thoneys:\t0.0\n",
      "honeys\tfarming-products:\t0.14338195323944092\n",
      "dried-products-to-be-rehydrated\tdried-plant-based-foods:\t0.3571828007698059\n",
      "dried-products-to-be-rehydrated\tdried-products-to-be-rehydrated:\t0.0\n",
      "dried-products-to-be-rehydrated\tdried-products:\t0.13995635509490967\n",
      "spices\tspices:\t0.0\n",
      "spices\tgroceries:\t0.3987085819244385\n",
      "spices\tcondiments:\t0.26282989978790283\n",
      "meals-with-meat\tmicrowave-meals:\t0.18950337171554565\n",
      "meals-with-meat\tfrozen-ready-made-meals:\t0.32862579822540283\n",
      "meals-with-meat\tmeals-with-fish:\t0.3479430675506592\n",
      "meals-with-meat\tmeals:\t0.2542024254798889\n",
      "meals-with-meat\tmeals-with-meat:\t0.0\n",
      "meals-with-meat\tmeat-based-products:\t0.12175458669662476\n",
      "meals-with-meat\tpasta-dishes:\t0.3896598219871521\n",
      "meals-with-meat\tpoultry-meals:\t0.10726076364517212\n",
      "meat-based-products\tmicrowave-meals:\t0.30048900842666626\n",
      "meat-based-products\tmeals:\t0.38424015045166016\n",
      "meat-based-products\tmeals-with-meat:\t0.12175458669662476\n",
      "meat-based-products\tmeat-based-products:\t0.0\n",
      "meat-based-products\tpoultry-meals:\t0.21352803707122803\n",
      "canned-foods\tcanned-foods:\t0.0\n",
      "canned-foods\tcanned-fishes:\t0.22139817476272583\n",
      "canned-foods\tcanned-plant-based-foods:\t0.17604631185531616\n",
      "canned-foods\tcanned-vegetables:\t0.26747244596481323\n",
      "fruit-jams\tfruit-jams:\t0.0\n",
      "fruit-jams\tfruit-preserves:\t0.0795089602470398\n",
      "fruit-jams\tjams:\t0.041321396827697754\n",
      "fruit-jams\tberry-jams:\t0.09781205654144287\n",
      "fruit-jams\tplant-based-spreads:\t0.3737965226173401\n",
      "plant-based-foods-and-beverages\tplant-based-foods-and-beverages:\t0.0\n",
      "plant-based-foods-and-beverages\tplant-based-foods:\t0.1776551604270935\n",
      "salty-snacks\tappetizers:\t0.13204807043075562\n",
      "salty-snacks\tsalty-snacks:\t0.0\n",
      "salty-snacks\tcrackers:\t0.17025607824325562\n",
      "salty-snacks\tsnacks:\t0.30773770809173584\n",
      "seeds\tseeds:\t0.0\n",
      "seeds\trices:\t0.22646480798721313\n",
      "seeds\tcereal-grains:\t0.08849066495895386\n",
      "dry-pasta\tdry-pasta:\t0.0\n",
      "dry-pasta\tpasta-dishes:\t0.3558029532432556\n",
      "dry-pasta\tcereals-and-their-products:\t0.31157833337783813\n",
      "dry-pasta\tpastas:\t0.10680311918258667\n",
      "chickens\tmeats:\t0.385672926902771\n",
      "chickens\tchickens:\t0.0\n",
      "chickens\tchicken-breasts:\t0.0811881422996521\n",
      "chickens\tpoultries:\t0.08683788776397705\n",
      "chickens\tpoultry-meals:\t0.37327635288238525\n",
      "teas\therbal-teas:\t0.11283886432647705\n",
      "teas\tplant-based-beverages:\t0.318570077419281\n",
      "teas\tteas:\t0.0\n",
      "teas\thot-beverages:\t0.14322268962860107\n",
      "rices\tseeds:\t0.22646480798721313\n",
      "rices\trices:\t0.0\n",
      "rices\tcereal-grains:\t0.1797664761543274\n",
      "breakfasts\tbreakfast-cereals:\t0.20553058385849\n",
      "breakfasts\tbreakfasts:\t0.0\n",
      "breakfasts\tsweet-spreads:\t0.3358192443847656\n",
      "breakfasts\tcereal-flakes:\t0.395784854888916\n",
      "fruit-preserves\tfruit-jams:\t0.0795089602470398\n",
      "fruit-preserves\tfruit-preserves:\t0.0\n",
      "fruit-preserves\tjams:\t0.0754995346069336\n",
      "fruit-preserves\tberry-jams:\t0.22546696662902832\n",
      "fruit-preserves\tplant-based-spreads:\t0.2810400724411011\n",
      "fruit-preserves\tsweet-spreads:\t0.31985771656036377\n"
     ]
    },
    {
     "name": "stdout",
     "output_type": "stream",
     "text": [
      "cakes\tpastries:\t0.32887518405914307\n",
      "cakes\tcakes:\t0.0\n",
      "cakes\tbiscuits-and-cakes:\t0.25092077255249023\n",
      "farming-products\tbee-products:\t0.1330583691596985\n",
      "farming-products\thoneys:\t0.14338195323944092\n",
      "farming-products\tfarming-products:\t0.0\n",
      "fresh-plant-based-foods\tvegetables-based-foods:\t0.18641942739486694\n",
      "fresh-plant-based-foods\tfresh-foods:\t0.24951088428497314\n",
      "fresh-plant-based-foods\tdried-plant-based-foods:\t0.38379961252212524\n",
      "fresh-plant-based-foods\tfresh-plant-based-foods:\t0.0\n",
      "fresh-plant-based-foods\tplant-based-foods:\t0.3309677243232727\n",
      "fresh-plant-based-foods\tfrozen-plant-based-foods:\t0.23981225490570068\n",
      "fresh-plant-based-foods\tfruits-and-vegetables-based-foods:\t0.32991957664489746\n",
      "fresh-plant-based-foods\tcanned-plant-based-foods:\t0.2682117223739624\n",
      "fresh-plant-based-foods\tcanned-vegetables:\t0.3768343925476074\n",
      "extra-virgin-olive-oils\tvegetable-fats:\t0.39145219326019287\n",
      "extra-virgin-olive-oils\tvegetable-oils:\t0.1401221752166748\n",
      "extra-virgin-olive-oils\textra-virgin-olive-oils:\t0.0\n",
      "extra-virgin-olive-oils\tolive-tree-products:\t0.11667340993881226\n",
      "extra-virgin-olive-oils\tolive-oils:\t0.02292025089263916\n",
      "jams\tfruit-jams:\t0.041321396827697754\n",
      "jams\tfruit-preserves:\t0.0754995346069336\n",
      "jams\tjams:\t0.0\n",
      "jams\tberry-jams:\t0.11111897230148315\n",
      "jams\tplant-based-spreads:\t0.3334369659423828\n",
      "spreads\tspreads:\t0.0\n",
      "spreads\tplant-based-spreads:\t0.19128262996673584\n",
      "spreads\tsweet-spreads:\t0.17507660388946533\n",
      "spreads\tsalted-spreads:\t0.1817641258239746\n",
      "french-cheeses\tlabeled-cheeses:\t0.17032408714294434\n",
      "french-cheeses\tcheeses:\t0.17454463243484497\n",
      "french-cheeses\taoc-cheeses:\t0.16367483139038086\n",
      "french-cheeses\tpasteurized-cheeses:\t0.13002943992614746\n",
      "french-cheeses\tfrench-cheeses:\t0.0\n",
      "french-cheeses\tcooked-pressed-cheeses:\t0.19325828552246094\n",
      "french-cheeses\tfermented-milk-products:\t0.3463742136955261\n",
      "french-cheeses\tcow-cheeses:\t0.09155458211898804\n",
      "french-cheeses\tfermented-foods:\t0.3893873691558838\n",
      "dietary-supplements\tbars:\t0.3989158272743225\n",
      "dietary-supplements\tdietary-supplements:\t0.0\n",
      "chicken-breasts\tmeats:\t0.3972211480140686\n",
      "chicken-breasts\tchickens:\t0.0811881422996521\n",
      "chicken-breasts\tchicken-breasts:\t0.0\n",
      "chicken-breasts\tpoultries:\t0.12909919023513794\n",
      "smoked-fishes\tsalmons:\t0.12749254703521729\n",
      "smoked-fishes\tfishes:\t0.15498065948486328\n",
      "smoked-fishes\tsmoked-fishes:\t0.0\n",
      "smoked-fishes\tcanned-fishes:\t0.29909199476242065\n",
      "smoked-fishes\tseafood:\t0.27292776107788086\n",
      "beverages\tnon-alcoholic-beverages:\t0.13898932933807373\n",
      "beverages\tartificially-sweetened-beverages:\t0.34421277046203613\n",
      "beverages\tsweetened-beverages:\t0.21333158016204834\n",
      "beverages\tfruit-based-beverages:\t0.3910478949546814\n",
      "beverages\talcoholic-beverages:\t0.21627920866012573\n",
      "beverages\tplant-based-beverages:\t0.37449419498443604\n",
      "beverages\tbeverages:\t0.0\n",
      "beverages\tunsweetened-beverages:\t0.19187581539154053\n",
      "beverages\thot-beverages:\t0.3485584855079651\n",
      "squeezed-juices\tfruit-juices:\t0.059957265853881836\n",
      "squeezed-juices\tfruit-based-beverages:\t0.2941526174545288\n",
      "squeezed-juices\tfruit-juices-and-nectars:\t0.10911667346954346\n",
      "squeezed-juices\tsqueezed-juices:\t0.0\n",
      "squeezed-juices\tjuices-and-nectars:\t0.1722499132156372\n",
      "berry-jams\tfruit-jams:\t0.09781205654144287\n",
      "berry-jams\tfruit-preserves:\t0.22546696662902832\n",
      "berry-jams\tjams:\t0.11111897230148315\n",
      "berry-jams\tberry-jams:\t0.0\n",
      "plant-based-spreads\tfruit-jams:\t0.3737965226173401\n",
      "plant-based-spreads\tfruit-preserves:\t0.2810400724411011\n",
      "plant-based-spreads\tjams:\t0.3334369659423828\n",
      "plant-based-spreads\tspreads:\t0.19128262996673584\n",
      "plant-based-spreads\tplant-based-spreads:\t0.0\n",
      "plant-based-spreads\tsweet-spreads:\t0.21893012523651123\n",
      "plant-based-spreads\tsalted-spreads:\t0.318365216255188\n",
      "plant-based-foods\tvegetables-based-foods:\t0.35364454984664917\n",
      "plant-based-foods\tplant-based-foods-and-beverages:\t0.1776551604270935\n",
      "plant-based-foods\tfresh-plant-based-foods:\t0.3309677243232727\n",
      "plant-based-foods\tplant-based-foods:\t0.0\n",
      "plant-based-foods\tfrozen-plant-based-foods:\t0.33882761001586914\n",
      "plant-based-foods\tbreads:\t0.36360782384872437\n",
      "plant-based-foods\tcereals-and-potatoes:\t0.2821943759918213\n",
      "legumes-and-their-products\tplant-milks:\t0.38442498445510864\n",
      "legumes-and-their-products\tlegume-seeds:\t0.3333941698074341\n",
      "legumes-and-their-products\tlegumes-and-their-products:\t0.0\n",
      "legumes-and-their-products\tlegumes:\t0.28230708837509155\n",
      "legumes-and-their-products\tpulses:\t0.36566925048828125\n",
      "legumes-and-their-products\tmilk-substitute:\t0.39074939489364624\n",
      "legumes-and-their-products\tnuts-and-their-products:\t0.23346316814422607\n",
      "legumes\tlegume-seeds:\t0.1311461329460144\n",
      "legumes\tlegumes-and-their-products:\t0.28230708837509155\n",
      "legumes\tlegumes:\t0.0\n",
      "legumes\tpulses:\t0.1937350034713745\n",
      "prepared-meats\tmeats:\t0.16059845685958862\n",
      "prepared-meats\tprepared-meats:\t0.0\n",
      "prepared-meats\tpoultries:\t0.3878728747367859\n",
      "prepared-meats\twhite-hams:\t0.35703688859939575\n",
      "prepared-meats\tsausages:\t0.25850242376327515\n",
      "prepared-meats\thams:\t0.3052852153778076\n",
      "sweet-spreads\tbreakfasts:\t0.3358192443847656\n",
      "sweet-spreads\tfruit-preserves:\t0.31985771656036377\n",
      "sweet-spreads\tspreads:\t0.17507660388946533\n",
      "sweet-spreads\tplant-based-spreads:\t0.21893012523651123\n",
      "sweet-spreads\tsweet-spreads:\t0.0\n",
      "ice-creams-and-sorbets\tfrozen-foods:\t0.3977077603340149\n",
      "ice-creams-and-sorbets\tice-creams:\t0.027796626091003418\n",
      "ice-creams-and-sorbets\tfrozen-desserts:\t0.04740428924560547\n",
      "ice-creams-and-sorbets\tice-creams-and-sorbets:\t0.0\n",
      "milks\tplant-milks:\t0.3353240489959717\n",
      "milks\tmilks:\t0.0\n",
      "milks\tmilk-substitute:\t0.3402295708656311\n",
      "milks\tdairies:\t0.16641777753829956\n",
      "frozen-plant-based-foods\tvegetables-based-foods:\t0.21933895349502563\n",
      "frozen-plant-based-foods\tfrozen-foods:\t0.21641820669174194\n",
      "frozen-plant-based-foods\tfrozen-ready-made-meals:\t0.3227238059043884\n",
      "frozen-plant-based-foods\tfrozen-desserts:\t0.386253297328949\n",
      "frozen-plant-based-foods\tfresh-plant-based-foods:\t0.23981225490570068\n",
      "frozen-plant-based-foods\tplant-based-foods:\t0.33882761001586914\n",
      "frozen-plant-based-foods\tfrozen-plant-based-foods:\t0.0\n",
      "frozen-plant-based-foods\tfruits-and-vegetables-based-foods:\t0.3721179962158203\n",
      "frozen-plant-based-foods\tcanned-plant-based-foods:\t0.2924889326095581\n",
      "groceries\ttomato-sauces:\t0.3622889518737793\n",
      "groceries\tspices:\t0.3987085819244385\n",
      "groceries\tgroceries:\t0.0\n",
      "groceries\tcondiments:\t0.25402212142944336\n",
      "groceries\tsauces:\t0.18155956268310547\n",
      "pasta-dishes\tmicrowave-meals:\t0.30535948276519775\n",
      "pasta-dishes\tmeals-with-meat:\t0.3896598219871521\n",
      "pasta-dishes\tdry-pasta:\t0.3558029532432556\n",
      "pasta-dishes\tpasta-dishes:\t0.0\n",
      "pasta-dishes\tpastas:\t0.22525173425674438\n",
      "sweet-snacks\tconfectioneries:\t0.376059889793396\n",
      "sweet-snacks\tsweet-snacks:\t0.0\n",
      "sweet-snacks\tbiscuits-and-cakes:\t0.3605996370315552\n",
      "sweet-snacks\tsnacks:\t0.20849817991256714\n",
      "cereals-and-their-products\tbreakfast-cereals:\t0.3414813280105591\n",
      "cereals-and-their-products\tdry-pasta:\t0.31157833337783813\n",
      "cereals-and-their-products\tcereals-and-their-products:\t0.0\n",
      "cereals-and-their-products\tpastas:\t0.3385623097419739\n",
      "cereals-and-their-products\tcereals-and-potatoes:\t0.21856063604354858\n",
      "cereals-and-their-products\tcereal-flakes:\t0.3808547854423523\n",
      "cereals-and-their-products\tcereal-grains:\t0.3616136312484741\n",
      "canned-fishes\tfishes:\t0.17500782012939453\n",
      "canned-fishes\tcanned-foods:\t0.22139817476272583\n",
      "canned-fishes\tsmoked-fishes:\t0.29909199476242065\n",
      "canned-fishes\tcanned-fishes:\t0.0\n",
      "canned-fishes\tseafood:\t0.34597235918045044\n",
      "canned-fishes\ttunas:\t0.27423417568206787\n",
      "canned-fishes\tcanned-plant-based-foods:\t0.3796390891075134\n",
      "canned-fishes\tcanned-vegetables:\t0.39036715030670166\n",
      "condiments\tmustards:\t0.2867031693458557\n",
      "condiments\tspices:\t0.26282989978790283\n",
      "condiments\tgroceries:\t0.25402212142944336\n",
      "condiments\tcondiments:\t0.0\n",
      "condiments\tsauces:\t0.37910956144332886\n",
      "crackers\tappetizers:\t0.16068154573440552\n",
      "crackers\tsalty-snacks:\t0.17025607824325562\n",
      "crackers\tcrackers:\t0.0\n",
      "crackers\tcrisps:\t0.39113950729370117\n",
      "fruits-and-vegetables-based-foods\tvegetables-based-foods:\t0.15080010890960693\n",
      "fruits-and-vegetables-based-foods\tfresh-plant-based-foods:\t0.32991957664489746\n",
      "fruits-and-vegetables-based-foods\tfrozen-plant-based-foods:\t0.3721179962158203\n",
      "fruits-and-vegetables-based-foods\tfruits-and-vegetables-based-foods:\t0.0\n",
      "fruits-and-vegetables-based-foods\tfruits-based-foods:\t0.1628856658935547\n",
      "wines-from-france\twines:\t0.08772033452987671\n",
      "wines-from-france\talcoholic-beverages:\t0.23287200927734375\n",
      "wines-from-france\twines-from-france:\t0.0\n",
      "pulses\tlegume-seeds:\t0.03415030241012573\n",
      "pulses\tprepared-vegetables:\t0.38773810863494873\n",
      "pulses\tlegumes-and-their-products:\t0.36566925048828125\n",
      "pulses\tlegumes:\t0.1937350034713745\n",
      "pulses\tpulses:\t0.0\n",
      "bonbons\tcandies:\t0.19319498538970947\n",
      "bonbons\tchocolate-candies:\t0.1409364938735962\n",
      "bonbons\tconfectioneries:\t0.25270944833755493\n",
      "bonbons\tbonbons:\t0.0\n",
      "pastas\tdry-pasta:\t0.10680311918258667\n",
      "pastas\tpasta-dishes:\t0.22525173425674438\n",
      "pastas\tcereals-and-their-products:\t0.3385623097419739\n",
      "pastas\tpastas:\t0.0\n",
      "poultries\tmeats:\t0.2957349419593811\n",
      "poultries\tchickens:\t0.08683788776397705\n",
      "poultries\tchicken-breasts:\t0.12909919023513794\n",
      "poultries\tprepared-meats:\t0.3878728747367859\n",
      "poultries\tpoultries:\t0.0\n",
      "poultries\tpoultry-meals:\t0.31055498123168945\n"
     ]
    },
    {
     "name": "stdout",
     "output_type": "stream",
     "text": [
      "breads\tplant-based-foods:\t0.36360782384872437\n",
      "breads\tbreads:\t0.0\n",
      "breads\tcereals-and-potatoes:\t0.24324196577072144\n",
      "dried-fruits\tdried-plant-based-foods:\t0.0926508903503418\n",
      "dried-fruits\tdried-fruits:\t0.0\n",
      "dried-fruits\tdried-products:\t0.20455139875411987\n",
      "sauces\tmustards:\t0.32911592721939087\n",
      "sauces\ttomato-sauces:\t0.29387664794921875\n",
      "sauces\tgroceries:\t0.18155956268310547\n",
      "sauces\tcondiments:\t0.37910956144332886\n",
      "sauces\tsauces:\t0.0\n",
      "fruits\tfruits:\t0.0\n",
      "fruits\tfruits-based-foods:\t0.2734556794166565\n",
      "cooked-pressed-cheeses\tlabeled-cheeses:\t0.1028708815574646\n",
      "cooked-pressed-cheeses\tcheeses:\t0.3174574375152588\n",
      "cooked-pressed-cheeses\taoc-cheeses:\t0.11428523063659668\n",
      "cooked-pressed-cheeses\tpasteurized-cheeses:\t0.26512742042541504\n",
      "cooked-pressed-cheeses\tfrench-cheeses:\t0.19325828552246094\n",
      "cooked-pressed-cheeses\tcooked-pressed-cheeses:\t0.0\n",
      "cooked-pressed-cheeses\tcow-cheeses:\t0.188196063041687\n",
      "olive-tree-products\tolives:\t0.39100390672683716\n",
      "olive-tree-products\tvegetable-fats:\t0.37292593717575073\n",
      "olive-tree-products\tvegetable-oils:\t0.20617526769638062\n",
      "olive-tree-products\tbee-products:\t0.36107105016708374\n",
      "olive-tree-products\textra-virgin-olive-oils:\t0.11667340993881226\n",
      "olive-tree-products\tolive-tree-products:\t0.0\n",
      "olive-tree-products\tolive-oils:\t0.09353607892990112\n",
      "olive-oils\tfats:\t0.3931223750114441\n",
      "olive-oils\tolives:\t0.3880038261413574\n",
      "olive-oils\tvegetable-fats:\t0.3661181926727295\n",
      "olive-oils\tvegetable-oils:\t0.12387245893478394\n",
      "olive-oils\textra-virgin-olive-oils:\t0.02292025089263916\n",
      "olive-oils\tolive-tree-products:\t0.09353607892990112\n",
      "olive-oils\tolive-oils:\t0.0\n",
      "fermented-milk-products\tyogurts:\t0.2961398959159851\n",
      "fermented-milk-products\tcheeses:\t0.24048197269439697\n",
      "fermented-milk-products\tpasteurized-cheeses:\t0.33351004123687744\n",
      "fermented-milk-products\tfrench-cheeses:\t0.3463742136955261\n",
      "fermented-milk-products\tfermented-milk-products:\t0.0\n",
      "fermented-milk-products\tcow-cheeses:\t0.3408975601196289\n",
      "fermented-milk-products\tfermented-foods:\t0.04917430877685547\n",
      "fermented-milk-products\tfruit-yogurts:\t0.32905101776123047\n",
      "syrups\tsweeteners:\t0.31329941749572754\n",
      "syrups\tsyrups:\t0.0\n",
      "dried-products\tdried-plant-based-foods:\t0.13827729225158691\n",
      "dried-products\tdried-products-to-be-rehydrated:\t0.13995635509490967\n",
      "dried-products\tdried-fruits:\t0.20455139875411987\n",
      "dried-products\tdried-products:\t0.0\n",
      "tomatoes-and-tomato-products\ttomato-sauces:\t0.22174733877182007\n",
      "tomatoes-and-tomato-products\ttomatoes-and-tomato-products:\t0.0\n",
      "cereals-and-potatoes\tplant-based-foods:\t0.2821943759918213\n",
      "cereals-and-potatoes\tcereals-and-their-products:\t0.21856063604354858\n",
      "cereals-and-potatoes\tbreads:\t0.24324196577072144\n",
      "cereals-and-potatoes\tcereals-and-potatoes:\t0.0\n",
      "crisps\tchips-and-fries:\t0.05565667152404785\n",
      "crisps\tappetizers:\t0.27309924364089966\n",
      "crisps\tcrackers:\t0.39113950729370117\n",
      "crisps\tcrisps:\t0.0\n",
      "crisps\tpotato-crisps:\t0.08494842052459717\n",
      "rillettes\trillettes:\t0.0\n",
      "rillettes\tsalted-spreads:\t0.2643275856971741\n",
      "white-hams\tprepared-meats:\t0.35703688859939575\n",
      "white-hams\twhite-hams:\t0.0\n",
      "white-hams\thams:\t0.09625166654586792\n",
      "baby-foods\tbaby-foods:\t0.0\n",
      "apple-compotes\tapple-compotes:\t0.0\n",
      "apple-compotes\tcompotes:\t0.028996825218200684\n",
      "apple-compotes\tdesserts:\t0.3719404935836792\n",
      "cereal-flakes\tflakes:\t0.047953128814697266\n",
      "cereal-flakes\tbreakfast-cereals:\t0.09251606464385986\n",
      "cereal-flakes\tbreakfasts:\t0.395784854888916\n",
      "cereal-flakes\tcereals-and-their-products:\t0.3808547854423523\n",
      "cereal-flakes\tcereal-flakes:\t0.0\n",
      "cereal-flakes\tcereal-grains:\t0.3719695210456848\n",
      "animal-fats\tfats:\t0.15353542566299438\n",
      "animal-fats\tvegetable-fats:\t0.3275412321090698\n",
      "animal-fats\tanimal-fats:\t0.0\n",
      "animal-fats\tspreadable-fats:\t0.08488279581069946\n",
      "potato-crisps\tchips-and-fries:\t0.10035902261734009\n",
      "potato-crisps\tcrisps:\t0.08494842052459717\n",
      "potato-crisps\tpotato-crisps:\t0.0\n",
      "compotes\tapple-compotes:\t0.028996825218200684\n",
      "compotes\tcompotes:\t0.0\n",
      "compotes\tdesserts:\t0.39970898628234863\n",
      "viennoiseries\tviennoiseries:\t0.0\n",
      "cereal-grains\tbreakfast-cereals:\t0.35071825981140137\n",
      "cereal-grains\tseeds:\t0.08849066495895386\n",
      "cereal-grains\trices:\t0.1797664761543274\n",
      "cereal-grains\tcereals-and-their-products:\t0.3616136312484741\n",
      "cereal-grains\tcereal-flakes:\t0.3719695210456848\n",
      "cereal-grains\tcereal-grains:\t0.0\n",
      "chocolate-biscuits\tbiscuits:\t0.12472856044769287\n",
      "chocolate-biscuits\tchocolate-biscuits:\t0.0\n",
      "chocolate-biscuits\tbiscuits-and-cakes:\t0.2064937949180603\n",
      "carbonated-drinks\tnon-alcoholic-beverages:\t0.3029738664627075\n",
      "carbonated-drinks\twaters:\t0.3287227749824524\n",
      "carbonated-drinks\tartificially-sweetened-beverages:\t0.20673871040344238\n",
      "carbonated-drinks\tsodas:\t0.07911968231201172\n",
      "carbonated-drinks\tsweetened-beverages:\t0.2292943000793457\n",
      "carbonated-drinks\tfruit-based-beverages:\t0.390852689743042\n",
      "carbonated-drinks\tcarbonated-drinks:\t0.0\n",
      "carbonated-drinks\tunsweetened-beverages:\t0.35574859380722046\n",
      "salted-spreads\tspreads:\t0.1817641258239746\n",
      "salted-spreads\tplant-based-spreads:\t0.318365216255188\n",
      "salted-spreads\trillettes:\t0.2643275856971741\n",
      "salted-spreads\tsalted-spreads:\t0.0\n",
      "salted-spreads\tspreadable-fats:\t0.3705897331237793\n",
      "seafood\tsalmons:\t0.3502330183982849\n",
      "seafood\tfishes:\t0.1568145751953125\n",
      "seafood\tsmoked-fishes:\t0.27292776107788086\n",
      "seafood\tcanned-fishes:\t0.34597235918045044\n",
      "seafood\tseafood:\t0.0\n",
      "seafood\ttunas:\t0.38326364755630493\n",
      "milk-substitute\tplant-milks:\t0.027336299419403076\n",
      "milk-substitute\tplant-based-beverages:\t0.3074039816856384\n",
      "milk-substitute\tlegumes-and-their-products:\t0.39074939489364624\n",
      "milk-substitute\tmilks:\t0.3402295708656311\n",
      "milk-substitute\tmilk-substitute:\t0.0\n",
      "biscuits-and-cakes\tpastries:\t0.2742959260940552\n",
      "biscuits-and-cakes\tbiscuits:\t0.16513746976852417\n",
      "biscuits-and-cakes\tcakes:\t0.25092077255249023\n",
      "biscuits-and-cakes\tsweet-snacks:\t0.3605996370315552\n",
      "biscuits-and-cakes\tchocolate-biscuits:\t0.2064937949180603\n",
      "biscuits-and-cakes\tbiscuits-and-cakes:\t0.0\n",
      "cow-cheeses\tlabeled-cheeses:\t0.1774306297302246\n",
      "cow-cheeses\tcheeses:\t0.10748130083084106\n",
      "cow-cheeses\taoc-cheeses:\t0.1666567325592041\n",
      "cow-cheeses\tpasteurized-cheeses:\t0.12102317810058594\n",
      "cow-cheeses\tfrench-cheeses:\t0.09155458211898804\n",
      "cow-cheeses\tcooked-pressed-cheeses:\t0.188196063041687\n",
      "cow-cheeses\tfermented-milk-products:\t0.3408975601196289\n",
      "cow-cheeses\tcow-cheeses:\t0.0\n",
      "cow-cheeses\tfermented-foods:\t0.3918312191963196\n",
      "soups\tsoups:\t0.0\n",
      "salads\tsalads:\t0.0\n",
      "unsweetened-beverages\tnon-alcoholic-beverages:\t0.09736871719360352\n",
      "unsweetened-beverages\tartificially-sweetened-beverages:\t0.25965893268585205\n",
      "unsweetened-beverages\tsweetened-beverages:\t0.117484450340271\n",
      "unsweetened-beverages\tfruit-based-beverages:\t0.2983882427215576\n",
      "unsweetened-beverages\tplant-based-beverages:\t0.24333280324935913\n",
      "unsweetened-beverages\tfruit-juices-and-nectars:\t0.3779070973396301\n",
      "unsweetened-beverages\tbeverages:\t0.19187581539154053\n",
      "unsweetened-beverages\tcarbonated-drinks:\t0.35574859380722046\n",
      "unsweetened-beverages\tunsweetened-beverages:\t0.0\n",
      "unsweetened-beverages\tjuices-and-nectars:\t0.3590184450149536\n",
      "unsweetened-beverages\thot-beverages:\t0.33829623460769653\n",
      "nuts-and-their-products\tnuts:\t0.15761154890060425\n",
      "nuts-and-their-products\tlegumes-and-their-products:\t0.23346316814422607\n",
      "nuts-and-their-products\tnuts-and-their-products:\t0.0\n",
      "refrigerated-foods\tfrozen-ready-made-meals:\t0.39606916904449463\n",
      "refrigerated-foods\tfresh-foods:\t0.31958574056625366\n",
      "refrigerated-foods\tmeals:\t0.35640257596969604\n",
      "refrigerated-foods\trefrigerated-foods:\t0.0\n",
      "juices-and-nectars\tsweetened-beverages:\t0.37908124923706055\n",
      "juices-and-nectars\tfruit-juices:\t0.0991392731666565\n",
      "juices-and-nectars\tfruit-based-beverages:\t0.13708770275115967\n",
      "juices-and-nectars\tplant-based-beverages:\t0.3498675227165222\n",
      "juices-and-nectars\tfruit-juices-and-nectars:\t0.024326324462890625\n",
      "juices-and-nectars\tsqueezed-juices:\t0.1722499132156372\n",
      "juices-and-nectars\tunsweetened-beverages:\t0.3590184450149536\n",
      "juices-and-nectars\tjuices-and-nectars:\t0.0\n",
      "dairies\tdairy-desserts:\t0.28830039501190186\n",
      "dairies\tmilks:\t0.16641777753829956\n",
      "dairies\tdairies:\t0.0\n",
      "dairies\tfermented-foods:\t0.39712947607040405\n",
      "tunas\tfishes:\t0.32654261589050293\n",
      "tunas\tcanned-fishes:\t0.27423417568206787\n",
      "tunas\tseafood:\t0.38326364755630493\n",
      "tunas\ttunas:\t0.0\n",
      "sausages\tmeats:\t0.32563555240631104\n",
      "sausages\tprepared-meats:\t0.25850242376327515\n",
      "sausages\tsausages:\t0.0\n",
      "spreadable-fats\tfats:\t0.14305758476257324\n",
      "spreadable-fats\tvegetable-fats:\t0.19743043184280396\n",
      "spreadable-fats\tanimal-fats:\t0.08488279581069946\n",
      "spreadable-fats\tsalted-spreads:\t0.3705897331237793\n",
      "spreadable-fats\tspreadable-fats:\t0.0\n",
      "fermented-foods\tyogurts:\t0.3093424439430237\n",
      "fermented-foods\tcheeses:\t0.254860520362854\n",
      "fermented-foods\tpasteurized-cheeses:\t0.3691776990890503\n",
      "fermented-foods\tfrench-cheeses:\t0.3893873691558838\n",
      "fermented-foods\tfermented-milk-products:\t0.04917430877685547\n",
      "fermented-foods\tcow-cheeses:\t0.3918312191963196\n",
      "fermented-foods\tdairies:\t0.39712947607040405\n",
      "fermented-foods\tfermented-foods:\t0.0\n",
      "fermented-foods\tfruit-yogurts:\t0.362019419670105\n",
      "snacks\tsalty-snacks:\t0.30773770809173584\n",
      "snacks\tsweet-snacks:\t0.20849817991256714\n",
      "snacks\tsnacks:\t0.0\n",
      "dark-chocolates\tmilk-chocolates:\t0.14226102828979492\n",
      "dark-chocolates\tdark-chocolates:\t0.0\n",
      "dark-chocolates\tchocolates:\t0.07654464244842529\n",
      "hams\tmeats:\t0.386468768119812\n",
      "hams\tprepared-meats:\t0.3052852153778076\n",
      "hams\twhite-hams:\t0.09625166654586792\n",
      "hams\thams:\t0.0\n",
      "canned-plant-based-foods\tvegetables-based-foods:\t0.35071080923080444\n",
      "canned-plant-based-foods\tdried-plant-based-foods:\t0.330211341381073\n",
      "canned-plant-based-foods\tcanned-foods:\t0.17604631185531616\n",
      "canned-plant-based-foods\tfresh-plant-based-foods:\t0.2682117223739624\n",
      "canned-plant-based-foods\tfrozen-plant-based-foods:\t0.2924889326095581\n",
      "canned-plant-based-foods\tcanned-fishes:\t0.3796390891075134\n",
      "canned-plant-based-foods\tcanned-plant-based-foods:\t0.0\n",
      "canned-plant-based-foods\tcanned-vegetables:\t0.1458684206008911\n",
      "fruits-based-foods\tvegetables-based-foods:\t0.3221844434738159\n",
      "fruits-based-foods\tfruits-and-vegetables-based-foods:\t0.1628856658935547\n",
      "fruits-based-foods\tfruits:\t0.2734556794166565\n",
      "fruits-based-foods\tfruits-based-foods:\t0.0\n",
      "chocolates\tchocolate-candies:\t0.34391647577285767\n",
      "chocolates\tmilk-chocolates:\t0.07278323173522949\n"
     ]
    },
    {
     "name": "stdout",
     "output_type": "stream",
     "text": [
      "chocolates\tdark-chocolates:\t0.07654464244842529\n",
      "chocolates\tchocolates:\t0.0\n",
      "fruit-yogurts\tyogurts:\t0.06581997871398926\n",
      "fruit-yogurts\tfermented-milk-products:\t0.32905101776123047\n",
      "fruit-yogurts\tfermented-foods:\t0.362019419670105\n",
      "fruit-yogurts\tfruit-yogurts:\t0.0\n",
      "hot-beverages\therbal-teas:\t0.14151990413665771\n",
      "hot-beverages\tnon-alcoholic-beverages:\t0.3604074716567993\n",
      "hot-beverages\tsweetened-beverages:\t0.3489990234375\n",
      "hot-beverages\tcoffees:\t0.36793965101242065\n",
      "hot-beverages\tplant-based-beverages:\t0.24503523111343384\n",
      "hot-beverages\tteas:\t0.14322268962860107\n",
      "hot-beverages\tbeverages:\t0.3485584855079651\n",
      "hot-beverages\tunsweetened-beverages:\t0.33829623460769653\n",
      "hot-beverages\thot-beverages:\t0.0\n",
      "poultry-meals\tmicrowave-meals:\t0.22815024852752686\n",
      "poultry-meals\tfrozen-ready-made-meals:\t0.3167256712913513\n",
      "poultry-meals\tmeals:\t0.30896085500717163\n",
      "poultry-meals\tmeals-with-meat:\t0.10726076364517212\n",
      "poultry-meals\tmeat-based-products:\t0.21352803707122803\n",
      "poultry-meals\tchickens:\t0.37327635288238525\n",
      "poultry-meals\tpoultries:\t0.31055498123168945\n",
      "poultry-meals\tpoultry-meals:\t0.0\n",
      "canned-vegetables\tvegetables-based-foods:\t0.31166863441467285\n",
      "canned-vegetables\tplant-based-pickles:\t0.3238467574119568\n",
      "canned-vegetables\tpickles:\t0.3582867383956909\n",
      "canned-vegetables\tprepared-vegetables:\t0.27423858642578125\n",
      "canned-vegetables\tcanned-foods:\t0.26747244596481323\n",
      "canned-vegetables\tfresh-plant-based-foods:\t0.3768343925476074\n",
      "canned-vegetables\tcanned-fishes:\t0.39036715030670166\n",
      "canned-vegetables\tcanned-plant-based-foods:\t0.1458684206008911\n",
      "canned-vegetables\tcanned-vegetables:\t0.0\n",
      "desserts\tdairy-desserts:\t0.1700228452682495\n",
      "desserts\tapple-compotes:\t0.3719404935836792\n",
      "desserts\tcompotes:\t0.39970898628234863\n",
      "desserts\tdesserts:\t0.0\n"
     ]
    }
   ],
   "source": [
    "for c1 in classes:\n",
    "    for c2 in classes:\n",
    "        gamma = 1.0\n",
    "        var = 1.0\n",
    "        dist_cos = sd.cosine(model_emb.get_sentence_vector(c1),model_emb.get_sentence_vector(c2))\n",
    "        dist = sd.euclidean(model_emb.get_sentence_vector(c1),model_emb.get_sentence_vector(c2))\n",
    "        dist_rbf = var * np.exp(-gamma *dist)\n",
    "        if dist_cos  < .4:\n",
    "            print(\"{}\\t{}:\\t{}\".format(c1, c2, dist_cos))"
   ]
  },
  {
   "cell_type": "code",
   "execution_count": 156,
   "metadata": {},
   "outputs": [
    {
     "data": {
      "text/plain": [
       "(2, 100)"
      ]
     },
     "execution_count": 156,
     "metadata": {},
     "output_type": "execute_result"
    }
   ],
   "source": [
    "pd.DataFrame([model_emb.get_sentence_vector(c1),model_emb.get_sentence_vector(c2)]).shape"
   ]
  },
  {
   "cell_type": "code",
   "execution_count": 157,
   "metadata": {},
   "outputs": [
    {
     "data": {
      "text/plain": [
       "array([[1., 1.],\n",
       "       [1., 1.]])"
      ]
     },
     "execution_count": 157,
     "metadata": {},
     "output_type": "execute_result"
    }
   ],
   "source": [
    "pw.rbf_kernel(pd.DataFrame([model_emb.get_sentence_vector(c1),model_emb.get_sentence_vector(c2)]))"
   ]
  },
  {
   "cell_type": "code",
   "execution_count": 15,
   "metadata": {},
   "outputs": [
    {
     "data": {
      "text/plain": [
       "[plant-based-foods, fruits-and-vegetables-based-foods, plant-based-foods-and-beverages]    13291\n",
       "[sauces, groceries]                                                                         9394\n",
       "[plant-based-foods-and-beverages, juices-and-nectars, beverages]                            7480\n",
       "[fermented-foods, fermented-milk-products, cheeses]                                         7164\n",
       "[snacks, biscuits, biscuits-and-cakes]                                                      6781\n",
       "[plant-based-foods, breads, plant-based-foods-and-beverages]                                6361\n",
       "[fermented-foods, fermented-milk-products, dairies]                                         6178\n",
       "[prepared-meats, meats]                                                                     5999\n",
       "[fermented-milk-products, dairies, cow-cheeses]                                             5928\n",
       "[breakfasts, plant-based-foods, fruits-and-vegetables-based-foods]                          5250\n",
       "[plant-based-foods, cereals-and-their-products, plant-based-foods-and-beverages]            4380\n",
       "[meats]                                                                                     4164\n",
       "[milks, dairies]                                                                            4111\n",
       "[sweetened-beverages, non-alcoholic-beverages, beverages]                                   4087\n",
       "[hams, prepared-meats, meats]                                                               3863\n",
       "[chickens, poultries, meats]                                                                3840\n",
       "[unsweetened-beverages, non-alcoholic-beverages, beverages]                                 3837\n",
       "[plant-based-foods, fruits-and-vegetables-based-foods, fruits]                              3743\n",
       "[snacks, dark-chocolates, sweet-snacks]                                                     3609\n",
       "[breakfasts, sweeteners, honeys]                                                            3400\n",
       "[breakfasts, plant-based-foods, plant-based-foods-and-beverages]                            3381\n",
       "[olive-tree-products, plant-based-foods, plant-based-foods-and-beverages]                   3324\n",
       "[meals]                                                                                     3301\n",
       "[alcoholic-beverages, beers, beverages]                                                     3248\n",
       "[plant-based-foods, cereal-grains, plant-based-foods-and-beverages]                         3242\n",
       "[prepared-meats, meats, sausages]                                                           3220\n",
       "[snacks, confectioneries, sweet-snacks]                                                     3182\n",
       "[ice-creams, frozen-desserts, desserts]                                                     3172\n",
       "[snacks, confectioneries, candies]                                                          3056\n",
       "[nuts, plant-based-foods, nuts-and-their-products]                                          3042\n",
       "                                                                                           ...  \n",
       "[sauces, plant-based-foods-and-beverages, groceries]                                           1\n",
       "[beverages, artificially-sweetened-beverages, dietary-supplements]                             1\n",
       "[fish-and-meat-and-eggs, groceries]                                                            1\n",
       "[sauces, meals-with-fish, groceries]                                                           1\n",
       "[breakfasts, candies, sweeteners]                                                              1\n",
       "[meals, baby-foods, prepared-vegetables]                                                       1\n",
       "[desserts, meals, frozen-ready-made-meals]                                                     1\n",
       "[breakfasts, prepared-meats, meats]                                                            1\n",
       "[fresh-foods, seafood, microwave-meals]                                                        1\n",
       "[chocolates, dietary-supplements, sweet-snacks]                                                1\n",
       "[fresh-plant-based-foods, fermented-milk-products, plant-based-foods]                          1\n",
       "[fermented-foods, desserts, dairies]                                                           1\n",
       "[seafood, fishes, refrigerated-foods]                                                          1\n",
       "[meat-based-products, canned-foods]                                                            1\n",
       "[meals, refrigerated-foods, frozen-foods]                                                      1\n",
       "[meals, prepared-vegetables, groceries]                                                        1\n",
       "[fish-and-meat-and-eggs, refrigerated-foods, fresh-foods]                                      1\n",
       "[breakfasts, candies, sweet-snacks]                                                            1\n",
       "[sauces, meat-based-products, frozen-foods]                                                    1\n",
       "[meat-based-products, sausages, frozen-ready-made-meals]                                       1\n",
       "[snacks, meals-with-fish, salty-snacks]                                                        1\n",
       "[condiments, fresh-foods, groceries]                                                           1\n",
       "[fermented-milk-products, dairies, sweetened-beverages]                                        1\n",
       "[sweetened-beverages, baby-foods, beverages]                                                   1\n",
       "[soups, meals, frozen-foods]                                                                   1\n",
       "[snacks, viennoiseries, breakfasts]                                                            1\n",
       "[sweetened-beverages, beverages, sweet-snacks]                                                 1\n",
       "[pickles, condiments, groceries]                                                               1\n",
       "[meat-based-products, cakes, refrigerated-foods]                                               1\n",
       "[plant-based-foods-and-beverages, sweeteners, carbonated-drinks]                               1\n",
       "Name: en_tags, Length: 1162, dtype: int64"
      ]
     },
     "execution_count": 15,
     "metadata": {},
     "output_type": "execute_result"
    }
   ],
   "source": [
    "df.en_tags.value_counts()"
   ]
  },
  {
   "cell_type": "code",
   "execution_count": null,
   "metadata": {},
   "outputs": [],
   "source": []
  }
 ],
 "metadata": {
  "kernelspec": {
   "display_name": "fastt",
   "language": "python",
   "name": "fastt"
  },
  "language_info": {
   "codemirror_mode": {
    "name": "ipython",
    "version": 3
   },
   "file_extension": ".py",
   "mimetype": "text/x-python",
   "name": "python",
   "nbconvert_exporter": "python",
   "pygments_lexer": "ipython3",
   "version": "3.7.3"
  }
 },
 "nbformat": 4,
 "nbformat_minor": 2
}

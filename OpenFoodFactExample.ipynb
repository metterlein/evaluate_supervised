{
 "cells": [
  {
   "cell_type": "markdown",
   "metadata": {},
   "source": [
    "# Abstract\n",
    "\n",
    "We demo a text classification approach based on an open dataset from https://world.openfoodfacts.org/. The goal of our talk is to categorize food items with various tags, where a particular food item is defined by a product's name, a generic name as well as a brand. For classification, we use facebooks NLP model fasttext, which provides a text classification model based on word embeddings as well as character n-gram embeddings. In a first experiment, we only use a single tag and remove additional ones from each data point. In this case, the evaluation is straight forward. However, since some classes are more closely related than others, we don't want to evaluate predictions in a binary manner as one would typically do. To this end, we implement a similarity concept and a multilabel classification approach. Additionally, we present some applications of a standardized food catalog, for instance search and recommendations."
   ]
  },
  {
   "cell_type": "code",
   "execution_count": 46,
   "metadata": {},
   "outputs": [],
   "source": [
    "import pandas as pd\n",
    "import numpy as np\n",
    "from fasttext import *\n",
    "%matplotlib inline\n",
    "import evaluation_metrics\n",
    "\n",
    "from sklearn.model_selection import train_test_split\n",
    "from sklearn.metrics import classification_report\n",
    "\n",
    "import scipy.spatial.distance as sd\n",
    "import sklearn.metrics.pairwise as pw\n",
    "import re\n",
    "import warnings\n",
    "warnings.filterwarnings('ignore')"
   ]
  },
  {
   "cell_type": "code",
   "execution_count": 47,
   "metadata": {},
   "outputs": [],
   "source": [
    "FASTTEXT_HOME=\"/Users/evelyn.trautmann/repos/fasttext3\""
   ]
  },
  {
   "cell_type": "markdown",
   "metadata": {},
   "source": [
    "# Load Data\n",
    "\n",
    "The following classification is based on an open dataset from https://world.openfoodfacts.org/"
   ]
  },
  {
   "cell_type": "code",
   "execution_count": 48,
   "metadata": {},
   "outputs": [
    {
     "data": {
      "text/plain": [
       "product_name            324820\n",
       "generic_name             83152\n",
       "brands                  269465\n",
       "categories              329303\n",
       "categories_tags         329303\n",
       "origins                  47351\n",
       "manufacturing_places     73767\n",
       "labels                  118779\n",
       "emb_codes                52104\n",
       "countries               329099\n",
       "main_category           329297\n",
       "en_tags                 329303\n",
       "dtype: int64"
      ]
     },
     "execution_count": 48,
     "metadata": {},
     "output_type": "execute_result"
    }
   ],
   "source": [
    "df = pd.read_csv(\"data/foodcategories_single_label.csv.zip\", sep = \"\\x01\", compression=\"zip\")\n",
    "df.en_tags = df.en_tags.apply(eval)\n",
    "df = df[df.en_tags.str.len()>0]\n",
    "\n",
    "df.count()"
   ]
  },
  {
   "cell_type": "markdown",
   "metadata": {},
   "source": [
    "We want to classify tags based on product name, generic name and brand. In the first dataset we have a single tag assigned to each data point."
   ]
  },
  {
   "cell_type": "code",
   "execution_count": 49,
   "metadata": {},
   "outputs": [
    {
     "data": {
      "text/plain": [
       "(1    329303\n",
       " Name: en_tags, dtype: int64, '87 labels ')"
      ]
     },
     "execution_count": 49,
     "metadata": {},
     "output_type": "execute_result"
    }
   ],
   "source": [
    "df.en_tags.str.len().value_counts(), \"%i labels \"%len(set(np.concatenate(df.en_tags.values)))"
   ]
  },
  {
   "cell_type": "markdown",
   "metadata": {},
   "source": [
    "# Extract Train and Test Data"
   ]
  },
  {
   "cell_type": "code",
   "execution_count": 50,
   "metadata": {
    "scrolled": true
   },
   "outputs": [],
   "source": [
    "#generate features\n",
    "feature_cols = ['product_name', 'generic_name', 'brands']\n",
    "assert(df[df.en_tags.str.len()==0].shape[0]==0)\n",
    "X = df[feature_cols].fillna(\"\").apply(lambda x: \" \".join(x), axis = 1)\n",
    "y = df.en_tags"
   ]
  },
  {
   "cell_type": "code",
   "execution_count": 51,
   "metadata": {},
   "outputs": [],
   "source": [
    "# preprocess and split train and test date\n",
    "X = X.str.lower().apply(lambda x: re.sub(r'[^\\w\\s]','',x))\n",
    "\n",
    "X_train, X_valid, y_train, y_valid = train_test_split(X, y, test_size=0.2, random_state=7)\n",
    "X_train, X_test, y_train, y_test = train_test_split(X_train, y_train, test_size=0.25, random_state=13)\n",
    "\n",
    "dftrain = y_train.apply(lambda x: \" \".join([\"__label__\" + y\n",
    "                    for y in x])) + \" \" + X_train"
   ]
  },
  {
   "cell_type": "code",
   "execution_count": 52,
   "metadata": {},
   "outputs": [
    {
     "data": {
      "text/plain": [
       "((65861,), (65861,))"
      ]
     },
     "execution_count": 52,
     "metadata": {},
     "output_type": "execute_result"
    }
   ],
   "source": [
    "dftrain_emb = y_train.apply(lambda x: \" \".join(x)) + \" \" + X_train\n",
    "\n",
    "\n",
    "dftest = y_test.apply(lambda x: \" \".join([\"__label__\" + y\n",
    "                    for y in x])) + \" \" + X_test\n",
    "dfvalid = y_valid.apply(lambda x: \" \".join([\"__label__\" + y\n",
    "                    for y in x])) + \" \" + X_valid\n",
    "dftest.shape, dfvalid.shape"
   ]
  },
  {
   "cell_type": "code",
   "execution_count": 8,
   "metadata": {},
   "outputs": [],
   "source": [
    "dftrain.to_csv(\n",
    "    \"train.csv\", index = False, sep=\";\")\n",
    "dftest.to_csv(\n",
    "    \"test.csv\", index = False, sep=\";\")\n",
    "dfvalid.to_csv(\n",
    "    \"valid.csv\", index = False, sep=\";\")\n",
    "dftrain_emb.to_csv(\n",
    "    \"train_emb.csv\", index = False, sep=\";\")"
   ]
  },
  {
   "cell_type": "markdown",
   "metadata": {},
   "source": [
    "# Train"
   ]
  },
  {
   "cell_type": "markdown",
   "metadata": {},
   "source": [
    "For classification we use fasttext, which can be either executed on command line or called from a python API. "
   ]
  },
  {
   "cell_type": "code",
   "execution_count": 9,
   "metadata": {},
   "outputs": [],
   "source": [
    "model_singlelabel = train_supervised(\"train.csv\",\n",
    "                lr = 0.01,\n",
    "                autotuneValidationFile = \"valid.csv\",\n",
    "                autotuneDuration = 1000)\n",
    "\n",
    "model_singlelabel.save_model(\"model_singlelabel.bin\")"
   ]
  },
  {
   "cell_type": "code",
   "execution_count": 53,
   "metadata": {},
   "outputs": [
    {
     "name": "stderr",
     "output_type": "stream",
     "text": [
      "\n"
     ]
    }
   ],
   "source": [
    "model_singlelabel = load_model(\"model_singlelabel.bin\")"
   ]
  },
  {
   "cell_type": "code",
   "execution_count": 54,
   "metadata": {},
   "outputs": [
    {
     "name": "stdout",
     "output_type": "stream",
     "text": [
      "dim 41\r\n",
      "ws 5\r\n",
      "epoch 100\r\n",
      "minCount 1\r\n",
      "neg 5\r\n",
      "wordNgrams 3\r\n",
      "loss softmax\r\n",
      "model sup\r\n",
      "bucket 10000000\r\n",
      "minn 0\r\n",
      "maxn 0\r\n",
      "lrUpdateRate 100\r\n",
      "t 0.0001\r\n"
     ]
    }
   ],
   "source": [
    "!$FASTTEXT_HOME/fastText/fasttext dump model_singlelabel.bin args"
   ]
  },
  {
   "cell_type": "code",
   "execution_count": 55,
   "metadata": {},
   "outputs": [
    {
     "name": "stdout",
     "output_type": "stream",
     "text": [
      "N\t65860\r\n",
      "P@1\t0.778\r\n",
      "R@1\t0.778\r\n"
     ]
    }
   ],
   "source": [
    "!$FASTTEXT_HOME/fastText/fasttext test model_singlelabel.bin test.csv 1"
   ]
  },
  {
   "cell_type": "markdown",
   "metadata": {},
   "source": [
    "# Test"
   ]
  },
  {
   "cell_type": "code",
   "execution_count": 56,
   "metadata": {},
   "outputs": [
    {
     "data": {
      "text/plain": [
       "(65860, 0.7776040085028849, 0.7776040085028849)"
      ]
     },
     "execution_count": 56,
     "metadata": {},
     "output_type": "execute_result"
    }
   ],
   "source": [
    "model_singlelabel.test(\"test.csv\", k=1)"
   ]
  },
  {
   "cell_type": "code",
   "execution_count": 57,
   "metadata": {},
   "outputs": [
    {
     "data": {
      "text/plain": [
       "(65861, 0.7778199541458526, 0.7778199541458526)"
      ]
     },
     "execution_count": 57,
     "metadata": {},
     "output_type": "execute_result"
    }
   ],
   "source": [
    "model_singlelabel.test(\"valid.csv\", k=1)"
   ]
  },
  {
   "cell_type": "code",
   "execution_count": 58,
   "metadata": {},
   "outputs": [
    {
     "data": {
      "text/plain": [
       "1"
      ]
     },
     "execution_count": 58,
     "metadata": {},
     "output_type": "execute_result"
    }
   ],
   "source": [
    "df_test = X_test.to_frame()\n",
    "df_test.columns = [\"feature\"]\n",
    "\n",
    "# determine number of labels\n",
    "df_test = df_test.join(y_test)\n",
    "\n",
    "K = int(df_test.en_tags.str.len().quantile(0.75))\n",
    "K"
   ]
  },
  {
   "cell_type": "markdown",
   "metadata": {},
   "source": [
    "# Single Label Evaluation "
   ]
  },
  {
   "cell_type": "code",
   "execution_count": 59,
   "metadata": {},
   "outputs": [],
   "source": [
    "df_test[\"prediction\"] = df_test.feature.apply(lambda x: model_singlelabel.predict(x))\n",
    "\n",
    "df_test[\"label_predicted\"] = df_test.prediction.str[0].str[0].str.replace(\"__label__\",\"\")\n",
    "df_test[\"confidence\"] = df_test.prediction.str[1].str[0]\n",
    "df_test[\"truth\"] = df_test.en_tags.str[0].str.replace(\"__label__\",\"\")\n"
   ]
  },
  {
   "cell_type": "code",
   "execution_count": 60,
   "metadata": {
    "scrolled": true
   },
   "outputs": [
    {
     "name": "stdout",
     "output_type": "stream",
     "text": [
      "                                 precision    recall  f1-score   support\n",
      "\n",
      "            alcoholic-beverages       0.79      0.81      0.80      1657\n",
      "                     baby-foods       0.77      0.74      0.76       288\n",
      "                   bee-products       1.00      0.38      0.55         8\n",
      "                          beers       0.00      0.00      0.00         5\n",
      "                      beverages       0.00      0.00      0.00        42\n",
      "             biscuits-and-cakes       0.63      0.50      0.55       569\n",
      "                     breakfasts       0.87      0.87      0.87      3202\n",
      "                          cakes       0.50      0.40      0.45       423\n",
      "                        candies       0.76      0.26      0.39        85\n",
      "                  canned-fishes       0.74      0.77      0.76       503\n",
      "                   canned-foods       0.74      0.19      0.31        72\n",
      "       canned-plant-based-foods       0.56      0.35      0.43        80\n",
      "              carbonated-drinks       0.65      0.59      0.62       216\n",
      "                chicken-breasts       0.00      0.00      0.00         1\n",
      "                       chickens       0.90      0.94      0.92       755\n",
      "                chips-and-fries       0.62      0.27      0.38        37\n",
      "             chocolate-biscuits       0.65      0.53      0.58       508\n",
      "                     chocolates       0.38      0.12      0.18        67\n",
      "                     condiments       0.77      0.56      0.65       302\n",
      "                        dairies       0.69      0.62      0.65       856\n",
      "                       desserts       0.70      0.71      0.71       918\n",
      "            dietary-supplements       0.72      0.74      0.73       352\n",
      "                 dried-products       0.67      0.58      0.62       295\n",
      "               farming-products       0.95      0.95      0.95       293\n",
      "                           fats       0.48      0.23      0.31       364\n",
      "                fermented-foods       0.78      0.77      0.77      2662\n",
      "        fermented-milk-products       0.81      0.83      0.82      2832\n",
      "         fish-and-meat-and-eggs       0.94      0.91      0.92       371\n",
      "                    fresh-foods       0.42      0.27      0.33       375\n",
      "        fresh-plant-based-foods       0.58      0.54      0.56       447\n",
      "                frozen-desserts       0.00      0.00      0.00         2\n",
      "                   frozen-foods       0.73      0.60      0.66       419\n",
      "       frozen-plant-based-foods       0.70      0.64      0.66       395\n",
      "        frozen-ready-made-meals       0.35      0.26      0.30       187\n",
      "             fruits-based-foods       0.83      0.72      0.77        72\n",
      "                      groceries       0.49      0.28      0.35        80\n",
      "                           hams       0.88      0.94      0.91       717\n",
      "                  hot-beverages       0.00      0.00      0.00        25\n",
      "                     ice-creams       0.85      0.82      0.83       671\n",
      "                   legume-seeds       0.82      0.78      0.80       501\n",
      "                        legumes       0.00      0.00      0.00        10\n",
      "     legumes-and-their-products       0.74      0.68      0.71        66\n",
      "                          meals       0.70      0.74      0.72      2238\n",
      "                meals-with-fish       0.86      0.69      0.77       211\n",
      "            meat-based-products       0.80      0.81      0.81      1368\n",
      "                          meats       0.80      0.82      0.81      1034\n",
      "                microwave-meals       0.00      0.00      0.00        58\n",
      "                milk-substitute       0.00      0.00      0.00         6\n",
      "                          milks       0.84      0.84      0.84       833\n",
      "        non-alcoholic-beverages       0.51      0.44      0.47      1225\n",
      "                           nuts       0.88      0.78      0.83       610\n",
      "            olive-tree-products       0.86      0.91      0.88       655\n",
      "                         olives       0.91      0.94      0.92       344\n",
      "                       pastries       0.79      0.72      0.75       479\n",
      "                        pickles       0.85      0.70      0.77       188\n",
      "          plant-based-beverages       0.00      0.00      0.00         2\n",
      "              plant-based-foods       0.78      0.87      0.82     11990\n",
      "plant-based-foods-and-beverages       0.72      0.81      0.77      2775\n",
      "                      poultries       0.93      0.90      0.92       374\n",
      "                 prepared-meats       0.88      0.89      0.88      2114\n",
      "            prepared-vegetables       0.00      0.00      0.00         2\n",
      "             refrigerated-foods       0.00      0.00      0.00        22\n",
      "                         salads       0.00      0.00      0.00        27\n",
      "                   salty-snacks       0.87      0.75      0.80       524\n",
      "                         sauces       0.92      0.94      0.93      2978\n",
      "                       sausages       1.00      0.29      0.44        14\n",
      "                        seafood       0.83      0.84      0.84      1486\n",
      "                  smoked-fishes       0.00      0.00      0.00         8\n",
      "                         snacks       0.79      0.83      0.81      7359\n",
      "                          soups       0.69      0.62      0.65       281\n",
      "                        spreads       0.81      0.70      0.75       737\n",
      "                   sweet-snacks       0.67      0.58      0.62       653\n",
      "            sweetened-beverages       0.61      0.60      0.60      1349\n",
      "                     sweeteners       0.87      0.86      0.86       477\n",
      "                         syrups       0.42      0.27      0.33        66\n",
      "                           teas       0.00      0.00      0.00        10\n",
      "          unsweetened-beverages       0.44      0.35      0.39       985\n",
      "                 vegetable-fats       0.00      0.00      0.00        18\n",
      "         vegetables-based-foods       0.68      0.60      0.64       334\n",
      "                  viennoiseries       0.00      0.00      0.00         1\n",
      "                          wines       0.00      0.00      0.00         1\n",
      "              wines-from-france       0.60      0.43      0.50       295\n",
      "\n",
      "                      micro avg       0.78      0.78      0.78     65861\n",
      "                      macro avg       0.58      0.51      0.53     65861\n",
      "                   weighted avg       0.77      0.78      0.77     65861\n",
      "\n"
     ]
    }
   ],
   "source": [
    "report = classification_report(df_test.truth, df_test.label_predicted)\n",
    "print(report)"
   ]
  },
  {
   "cell_type": "code",
   "execution_count": 61,
   "metadata": {
    "scrolled": true
   },
   "outputs": [],
   "source": [
    "# assertion no empty tags\n",
    "assert(len(df_test.en_tags[df_test.en_tags.str.len()==0])==0)"
   ]
  },
  {
   "cell_type": "code",
   "execution_count": 62,
   "metadata": {},
   "outputs": [
    {
     "data": {
      "text/plain": [
       "cakes                  171\n",
       "snacks                 156\n",
       "biscuits-and-cakes      28\n",
       "desserts                17\n",
       "pastries                14\n",
       "plant-based-foods        8\n",
       "chocolate-biscuits       6\n",
       "ice-creams               4\n",
       "meals                    3\n",
       "fresh-foods              2\n",
       "frozen-foods             2\n",
       "breakfasts               2\n",
       "sweet-snacks             2\n",
       "dairies                  1\n",
       "nuts                     1\n",
       "alcoholic-beverages      1\n",
       "fruits-based-foods       1\n",
       "meats                    1\n",
       "sweetened-beverages      1\n",
       "sauces                   1\n",
       "spreads                  1\n",
       "Name: label_predicted, dtype: int64"
      ]
     },
     "execution_count": 62,
     "metadata": {},
     "output_type": "execute_result"
    }
   ],
   "source": [
    "label = \"cakes\"\n",
    "df_test[df_test.truth==label].label_predicted.value_counts()"
   ]
  },
  {
   "cell_type": "markdown",
   "metadata": {},
   "source": [
    "# Similarity"
   ]
  },
  {
   "cell_type": "markdown",
   "metadata": {},
   "source": [
    "Sometimes the model is predicting other than the ground truth but still makes reasonable class assignments. To distinguish the reasonable assignments from the actually wrong classifications we introduce similarities between classes to count them into the accurate predicftions."
   ]
  },
  {
   "cell_type": "markdown",
   "metadata": {},
   "source": [
    "Example\n",
    "Consider followin common products\n",
    "chicken, poultries, seafood\n",
    "Given that the first two are pretty similar and the latter very different, a possible similarity matrix S could look like\n",
    "\n",
    "\n",
    "\n",
    "|Labels | chicken | poultries |seafood|\n",
    "|---------|:------------------|:-------------------|:--------------|\n",
    "|chicken | 1 | 0.9 | 0 |\n",
    "| poultries | 0.9 | 1 | 0 |\n",
    "| seafood | 0 | 0 | 1 |\n",
    "\n",
    "\n",
    "If we want to include now similarity into calculation of precision and recall, we have the nominator containing not only\n",
    "\n",
    "```math\n",
    "Count[Predicted = chicken, Truth = chicken]\n",
    "```\n",
    "\n",
    "but\n",
    "\n",
    "```math\n",
    "Count[Predicted = chicken, Truth = chicken] * 1 \n",
    "+ Count[Predicted  = chicken, Truth = poultries ] * 0.9.\n",
    "```\n",
    "Hence diagonal entries of confusion matrix \n",
    "\n",
    "$$ C_{ii} = Count[Predicted=i, Truth=i]$$\n",
    "\n",
    "become \n",
    "\n",
    "$$ C_{ij} = \\sum_j Count[Predicted=i,Truth=j]* S_{ij} $$\n",
    "\n",
    "That means, we count in all similar predictions weighted by degree of similatity.\n",
    "Technically that means we take the diagonal entris of\n",
    "\n",
    "$$\\hat{C}=C∗S\\hat{C} = C * S \\hat{C}=C∗S$$\n",
    "\n",
    "\n",
    "Where * denotes matrix product. Denominator remains the same: Row sum in case of precision, column sum in case of recall. Here we don't weight by similar entries since for denominator only the exact number of True (resp. Predicted ) counts."
   ]
  },
  {
   "cell_type": "code",
   "execution_count": 63,
   "metadata": {},
   "outputs": [],
   "source": [
    "truth=[\"truth\"]\n",
    "predictions=[\"label_predicted\"]\n",
    "classes = list(set(np.concatenate(df_test[predictions + truth].apply(tuple).apply(list).values)))\n"
   ]
  },
  {
   "cell_type": "code",
   "execution_count": 65,
   "metadata": {},
   "outputs": [
    {
     "name": "stdout",
     "output_type": "stream",
     "text": [
      "compute diffecence sets\n",
      "compute intersections\n",
      "determine vectors\n",
      "CPU times: user 3min 27s, sys: 3.49 s, total: 3min 31s\n",
      "Wall time: 3min 30s\n"
     ]
    }
   ],
   "source": [
    "%time confusion = evaluation_metrics.get_confusion(df_test, classes, K, truth, predictions)\n",
    "confusion.to_csv(\"confusion_single_label.csv\")"
   ]
  },
  {
   "cell_type": "code",
   "execution_count": 66,
   "metadata": {},
   "outputs": [],
   "source": [
    "confusion = pd.read_csv(\"confusion_single_label.csv\", index_col=0)"
   ]
  },
  {
   "cell_type": "code",
   "execution_count": 23,
   "metadata": {},
   "outputs": [],
   "source": [
    "model_emb = train_unsupervised(\"train_emb.csv\")"
   ]
  },
  {
   "cell_type": "code",
   "execution_count": 24,
   "metadata": {
    "scrolled": true
   },
   "outputs": [
    {
     "name": "stdout",
     "output_type": "stream",
     "text": [
      "frozen-foods                                       frozen-desserts\n",
      "seafood                                              smoked-fishes\n",
      "fermented-milk-products                            fermented-foods\n",
      "fermented-foods                            fermented-milk-products\n",
      "olive-tree-products                                   bee-products\n",
      "chickens                                           chicken-breasts\n",
      "plant-based-foods-and-beverages              unsweetened-beverages\n",
      "chicken-breasts                                           chickens\n",
      "non-alcoholic-beverages                        alcoholic-beverages\n",
      "wines                                            wines-from-france\n",
      "canned-foods                              canned-plant-based-foods\n",
      "plant-based-beverages                      non-alcoholic-beverages\n",
      "canned-plant-based-foods                  frozen-plant-based-foods\n",
      "hot-beverages                              non-alcoholic-beverages\n",
      "fresh-plant-based-foods                     vegetables-based-foods\n",
      "frozen-desserts                                       frozen-foods\n",
      "beverages                                  non-alcoholic-beverages\n",
      "sweetened-beverages                          plant-based-beverages\n",
      "canned-fishes                                        smoked-fishes\n",
      "alcoholic-beverages                        non-alcoholic-beverages\n",
      "smoked-fishes                                              seafood\n",
      "wines-from-france                                            wines\n",
      "unsweetened-beverages              plant-based-foods-and-beverages\n",
      "vegetables-based-foods                    frozen-plant-based-foods\n",
      "frozen-plant-based-foods                    vegetables-based-foods\n",
      "bee-products                                   olive-tree-products\n",
      "dtype: object\n"
     ]
    }
   ],
   "source": [
    "# Compute word embeddings for each class and pairwise distance\n",
    "# between every two classes. Set all distances that exceed a\n",
    "# pre-defined threshold to null and compute rbf function as similarity.\n",
    "#\n",
    "class_vecs = pd.Series({cl:model_emb.get_sentence_vector(cl) for cl in classes})\n",
    "\n",
    "Dst = class_vecs.apply(lambda x: class_vecs.apply(lambda y: sd.euclidean(x,y)))\n",
    "MAGIC_NUMBER = 0.7\n",
    "mask = Dst > MAGIC_NUMBER\n",
    "Dst[mask]=np.nan\n",
    "# print similar but not identical classes \n",
    "print(Dst.apply(np.argmax)[Dst.max()>0.0])\n",
    "\n",
    "S = np.exp(-Dst**2).fillna(0)"
   ]
  },
  {
   "cell_type": "code",
   "execution_count": 25,
   "metadata": {},
   "outputs": [
    {
     "data": {
      "text/html": [
       "<div>\n",
       "<style scoped>\n",
       "    .dataframe tbody tr th:only-of-type {\n",
       "        vertical-align: middle;\n",
       "    }\n",
       "\n",
       "    .dataframe tbody tr th {\n",
       "        vertical-align: top;\n",
       "    }\n",
       "\n",
       "    .dataframe thead th {\n",
       "        text-align: right;\n",
       "    }\n",
       "</style>\n",
       "<table border=\"1\" class=\"dataframe\">\n",
       "  <thead>\n",
       "    <tr style=\"text-align: right;\">\n",
       "      <th></th>\n",
       "      <th>precision</th>\n",
       "      <th>recall</th>\n",
       "      <th>f1score</th>\n",
       "      <th>support</th>\n",
       "    </tr>\n",
       "  </thead>\n",
       "  <tbody>\n",
       "    <tr>\n",
       "      <th>hot-beverages</th>\n",
       "      <td>0.000000</td>\n",
       "      <td>0.164437</td>\n",
       "      <td>0.000000</td>\n",
       "      <td>25.0</td>\n",
       "    </tr>\n",
       "    <tr>\n",
       "      <th>plant-based-beverages</th>\n",
       "      <td>0.000000</td>\n",
       "      <td>0.367960</td>\n",
       "      <td>0.000000</td>\n",
       "      <td>2.0</td>\n",
       "    </tr>\n",
       "    <tr>\n",
       "      <th>chicken-breasts</th>\n",
       "      <td>0.000000</td>\n",
       "      <td>0.793644</td>\n",
       "      <td>0.000000</td>\n",
       "      <td>1.0</td>\n",
       "    </tr>\n",
       "    <tr>\n",
       "      <th>smoked-fishes</th>\n",
       "      <td>0.000000</td>\n",
       "      <td>0.626288</td>\n",
       "      <td>0.000000</td>\n",
       "      <td>8.0</td>\n",
       "    </tr>\n",
       "    <tr>\n",
       "      <th>chocolates</th>\n",
       "      <td>0.380952</td>\n",
       "      <td>0.119403</td>\n",
       "      <td>0.181818</td>\n",
       "      <td>67.0</td>\n",
       "    </tr>\n",
       "    <tr>\n",
       "      <th>beverages</th>\n",
       "      <td>0.331648</td>\n",
       "      <td>0.129354</td>\n",
       "      <td>0.186116</td>\n",
       "      <td>42.0</td>\n",
       "    </tr>\n",
       "    <tr>\n",
       "      <th>frozen-ready-made-meals</th>\n",
       "      <td>0.352941</td>\n",
       "      <td>0.256684</td>\n",
       "      <td>0.297214</td>\n",
       "      <td>187.0</td>\n",
       "    </tr>\n",
       "    <tr>\n",
       "      <th>canned-foods</th>\n",
       "      <td>0.736842</td>\n",
       "      <td>0.194444</td>\n",
       "      <td>0.307692</td>\n",
       "      <td>72.0</td>\n",
       "    </tr>\n",
       "    <tr>\n",
       "      <th>fats</th>\n",
       "      <td>0.477273</td>\n",
       "      <td>0.230769</td>\n",
       "      <td>0.311111</td>\n",
       "      <td>364.0</td>\n",
       "    </tr>\n",
       "    <tr>\n",
       "      <th>syrups</th>\n",
       "      <td>0.418605</td>\n",
       "      <td>0.272727</td>\n",
       "      <td>0.330275</td>\n",
       "      <td>66.0</td>\n",
       "    </tr>\n",
       "    <tr>\n",
       "      <th>fresh-foods</th>\n",
       "      <td>0.423237</td>\n",
       "      <td>0.272000</td>\n",
       "      <td>0.331169</td>\n",
       "      <td>375.0</td>\n",
       "    </tr>\n",
       "    <tr>\n",
       "      <th>groceries</th>\n",
       "      <td>0.488889</td>\n",
       "      <td>0.275000</td>\n",
       "      <td>0.352000</td>\n",
       "      <td>80.0</td>\n",
       "    </tr>\n",
       "    <tr>\n",
       "      <th>chips-and-fries</th>\n",
       "      <td>0.625000</td>\n",
       "      <td>0.270270</td>\n",
       "      <td>0.377358</td>\n",
       "      <td>37.0</td>\n",
       "    </tr>\n",
       "    <tr>\n",
       "      <th>candies</th>\n",
       "      <td>0.758621</td>\n",
       "      <td>0.258824</td>\n",
       "      <td>0.385965</td>\n",
       "      <td>85.0</td>\n",
       "    </tr>\n",
       "    <tr>\n",
       "      <th>sausages</th>\n",
       "      <td>1.000000</td>\n",
       "      <td>0.285714</td>\n",
       "      <td>0.444444</td>\n",
       "      <td>14.0</td>\n",
       "    </tr>\n",
       "    <tr>\n",
       "      <th>cakes</th>\n",
       "      <td>0.501466</td>\n",
       "      <td>0.404255</td>\n",
       "      <td>0.447644</td>\n",
       "      <td>423.0</td>\n",
       "    </tr>\n",
       "    <tr>\n",
       "      <th>wines-from-france</th>\n",
       "      <td>0.599057</td>\n",
       "      <td>0.430508</td>\n",
       "      <td>0.500986</td>\n",
       "      <td>295.0</td>\n",
       "    </tr>\n",
       "    <tr>\n",
       "      <th>bee-products</th>\n",
       "      <td>1.000000</td>\n",
       "      <td>0.375000</td>\n",
       "      <td>0.545455</td>\n",
       "      <td>8.0</td>\n",
       "    </tr>\n",
       "    <tr>\n",
       "      <th>biscuits-and-cakes</th>\n",
       "      <td>0.629464</td>\n",
       "      <td>0.495606</td>\n",
       "      <td>0.554572</td>\n",
       "      <td>569.0</td>\n",
       "    </tr>\n",
       "    <tr>\n",
       "      <th>chocolate-biscuits</th>\n",
       "      <td>0.652812</td>\n",
       "      <td>0.525591</td>\n",
       "      <td>0.582334</td>\n",
       "      <td>508.0</td>\n",
       "    </tr>\n",
       "  </tbody>\n",
       "</table>\n",
       "</div>"
      ],
      "text/plain": [
       "                         precision    recall   f1score  support\n",
       "hot-beverages             0.000000  0.164437  0.000000     25.0\n",
       "plant-based-beverages     0.000000  0.367960  0.000000      2.0\n",
       "chicken-breasts           0.000000  0.793644  0.000000      1.0\n",
       "smoked-fishes             0.000000  0.626288  0.000000      8.0\n",
       "chocolates                0.380952  0.119403  0.181818     67.0\n",
       "beverages                 0.331648  0.129354  0.186116     42.0\n",
       "frozen-ready-made-meals   0.352941  0.256684  0.297214    187.0\n",
       "canned-foods              0.736842  0.194444  0.307692     72.0\n",
       "fats                      0.477273  0.230769  0.311111    364.0\n",
       "syrups                    0.418605  0.272727  0.330275     66.0\n",
       "fresh-foods               0.423237  0.272000  0.331169    375.0\n",
       "groceries                 0.488889  0.275000  0.352000     80.0\n",
       "chips-and-fries           0.625000  0.270270  0.377358     37.0\n",
       "candies                   0.758621  0.258824  0.385965     85.0\n",
       "sausages                  1.000000  0.285714  0.444444     14.0\n",
       "cakes                     0.501466  0.404255  0.447644    423.0\n",
       "wines-from-france         0.599057  0.430508  0.500986    295.0\n",
       "bee-products              1.000000  0.375000  0.545455      8.0\n",
       "biscuits-and-cakes        0.629464  0.495606  0.554572    569.0\n",
       "chocolate-biscuits        0.652812  0.525591  0.582334    508.0"
      ]
     },
     "execution_count": 25,
     "metadata": {},
     "output_type": "execute_result"
    }
   ],
   "source": [
    "\n",
    "df_report = evaluation_metrics.get_report(confusion, S)\n",
    "df_report.dropna().sort_values(by=\"f1score\", ascending = True)[:20]"
   ]
  },
  {
   "cell_type": "code",
   "execution_count": 26,
   "metadata": {},
   "outputs": [
    {
     "data": {
      "text/html": [
       "<div>\n",
       "<style scoped>\n",
       "    .dataframe tbody tr th:only-of-type {\n",
       "        vertical-align: middle;\n",
       "    }\n",
       "\n",
       "    .dataframe tbody tr th {\n",
       "        vertical-align: top;\n",
       "    }\n",
       "\n",
       "    .dataframe thead th {\n",
       "        text-align: right;\n",
       "    }\n",
       "</style>\n",
       "<table border=\"1\" class=\"dataframe\">\n",
       "  <thead>\n",
       "    <tr style=\"text-align: right;\">\n",
       "      <th></th>\n",
       "      <th>precision</th>\n",
       "      <th>recall</th>\n",
       "      <th>f1-score</th>\n",
       "      <th>support</th>\n",
       "    </tr>\n",
       "  </thead>\n",
       "  <tbody>\n",
       "    <tr>\n",
       "      <th>macro avg</th>\n",
       "      <td>0.604499</td>\n",
       "      <td>0.550221</td>\n",
       "      <td>0.576084</td>\n",
       "      <td>65861.0</td>\n",
       "    </tr>\n",
       "    <tr>\n",
       "      <th>weighted avg</th>\n",
       "      <td>0.792592</td>\n",
       "      <td>0.799328</td>\n",
       "      <td>0.795946</td>\n",
       "      <td>65861.0</td>\n",
       "    </tr>\n",
       "  </tbody>\n",
       "</table>\n",
       "</div>"
      ],
      "text/plain": [
       "             precision    recall  f1-score  support\n",
       "macro avg     0.604499  0.550221  0.576084  65861.0\n",
       "weighted avg  0.792592  0.799328  0.795946  65861.0"
      ]
     },
     "execution_count": 26,
     "metadata": {},
     "output_type": "execute_result"
    }
   ],
   "source": [
    "evaluation_metrics.get_summary(df_report, confusion, S)"
   ]
  },
  {
   "cell_type": "markdown",
   "metadata": {},
   "source": [
    "# Multilabel Evaluation "
   ]
  },
  {
   "cell_type": "code",
   "execution_count": 28,
   "metadata": {},
   "outputs": [],
   "source": [
    "#load data\n",
    "df = pd.read_csv(\"data/foodcategories_3labels.csv.zip\", \n",
    "                 sep = \"\\x01\", compression=\"zip\")\n",
    "df.en_tags = df.en_tags.apply(eval)\n",
    "df = df[df.en_tags.str.len()>0]"
   ]
  },
  {
   "cell_type": "code",
   "execution_count": 29,
   "metadata": {},
   "outputs": [],
   "source": [
    "y = df.en_tags\n",
    "feature_cols = ['product_name', 'generic_name', 'brands']\n",
    "assert(df[df.en_tags.str.len()==0].shape[0]==0)\n",
    "X = df[feature_cols].fillna(\"\").apply(lambda x: \" \".join(x), axis = 1)\n",
    "\n",
    "X_train, X_valid, y_train, y_valid = train_test_split(X, y, test_size=0.2, \n",
    "                                                      random_state=17)\n",
    "X_train, X_test, y_train, y_test = train_test_split(X_train, y_train, \n",
    "                                                    test_size=0.25, random_state=23)\n",
    "\n",
    "dftrain = y_train.apply(lambda x: \" \".join([\"__label__\" + y\n",
    "                    for y in x])) + \" \" + X_train\n",
    "dftest = y_test.apply(lambda x: \" \".join([\"__label__\" + y\n",
    "                    for y in x])) + \" \" + X_test\n",
    "dfvalid = y_valid.apply(lambda x: \" \".join([\"__label__\" + y\n",
    "                    for y in x])) + \" \" + X_valid\n"
   ]
  },
  {
   "cell_type": "code",
   "execution_count": 30,
   "metadata": {},
   "outputs": [],
   "source": [
    "dftrain.to_csv(\n",
    "    \"train_3label.csv\", index = False, sep=\";\")\n",
    "dftest.to_csv(\n",
    "    \"test3label.csv\", index = False, sep=\";\")\n",
    "dfvalid.to_csv(\n",
    "    \"valid3label.csv\", index = False, sep=\";\")"
   ]
  },
  {
   "cell_type": "code",
   "execution_count": 31,
   "metadata": {},
   "outputs": [],
   "source": [
    "model_3label = train_supervised(\"train_3label.csv\",\n",
    "                lr = 0.01,\n",
    "                autotunePredictions = 3,\n",
    "                autotuneValidationFile = \"valid3label.csv\",\n",
    "                autotuneDuration = 1000)\n",
    "model_3label.save_model(\"model_3label.bin\")\n"
   ]
  },
  {
   "cell_type": "code",
   "execution_count": 32,
   "metadata": {},
   "outputs": [
    {
     "name": "stderr",
     "output_type": "stream",
     "text": [
      "\n"
     ]
    }
   ],
   "source": [
    "model_3label = load_model(\"model_3label.bin\")"
   ]
  },
  {
   "cell_type": "code",
   "execution_count": 33,
   "metadata": {},
   "outputs": [
    {
     "data": {
      "text/plain": [
       "(65844, 0.7418241095113703, 0.8264795627724917)"
      ]
     },
     "execution_count": 33,
     "metadata": {},
     "output_type": "execute_result"
    }
   ],
   "source": [
    "model_3label.test(\"test3label.csv\", 3)"
   ]
  },
  {
   "cell_type": "markdown",
   "metadata": {},
   "source": [
    "Let \\{$T_1^{(1)}, ...,T_M^{(1)}$\\},...,\\{$T_1^{(N)}, ...,T_M^{(N)}$\\} be our ground truth, \n",
    "\\{$P_1^{(1)}, ...,P_M^{(1)}$\\},...,\\{$P_1^{(N)}, ...,P_M^{(N)}$\\} the prediction.\n",
    "\n",
    "on diagonal we count the events of truth matching prediction\n",
    "\n",
    "$\\sum_{i=1}^N |\\{T_1^{(i)}, ...,T_M^{(i)}\\}\\cap \\{P_1^{(i)}, ...,P_M^{(i)}\\}|$\n",
    "\n",
    "so for each diagonal entry we count over all data points (N) and all predictions (M) the total amount when truth is matching prediction.\n",
    "\n",
    "$C_{kk} =\\sum_{i=1}^N \\sum_{m=1}^M \\chi{1}\\{T_m^{(i)}=k,P_m^{(i)}=k\\} $\n",
    "\n",
    "in contrast on off-diagonal we count all events where truth was not covered by prediction.\n",
    "For the off-diagonal we take only the difference sets into account. If truth for data point i was for example {fish, curry, rice-dish} and prediction was {fish, curry, soup }, we only count \n",
    "$T^i$ = {rice_dish} and $P^i$ = {soup} for the off-daigonal. Formally we do the following transformation:\n",
    "\n",
    "$\\{\\tilde{T}_m^{(i)}\\}_{q=1,..M1} = \\{T_m^{(i)}\\}_{m=1,..M}\\setminus \\{P_m^{(i)}\\}_{m=1,..M}$ \n",
    "\n",
    "$\\{\\tilde{P}_m^{(i)}\\}_{p=1,..M2} = \\{P_m^{(i)}\\}_{m=1,..M}\\setminus \\{T_m^{(i)}\\}_{m=1,..M}$\n",
    "\n",
    "Eventually we count all events of the ground truth that were not captured in predictions, which results in\n",
    "\n",
    "$C_{kl} =\\sum_{i=1}^N \\sum_{m1=1}^{M1} \\sum_{m2=1}^{M2}\n",
    "\\frac{1}{M1}\\chi{1}\\{\\tilde{T}_{m1}^{(i)}=k,\\tilde{P}_{m2}^{(i)}=l\\} $\n",
    "\n",
    "Once we have computed a multi-class - multi-label confusion matrix the classification report is straight forward.\n",
    "\n",
    "Precision for class k is computed as\n",
    "\n",
    "$Pr_k=\\frac{C_{kk}}{\\sum_j C_{kj}}$\n",
    "\n",
    "and Recall\n",
    "\n",
    "$R_k=\\frac{C_{kk}}{\\sum_j C_{jk}}$\n",
    "\n"
   ]
  },
  {
   "cell_type": "code",
   "execution_count": 34,
   "metadata": {},
   "outputs": [
    {
     "data": {
      "text/plain": [
       "3"
      ]
     },
     "execution_count": 34,
     "metadata": {},
     "output_type": "execute_result"
    }
   ],
   "source": [
    "df_test = X_test.to_frame()\n",
    "df_test.columns = [\"feature\"]\n",
    "\n",
    "# determine number of labels\n",
    "df_test = df_test.join(y_test)\n",
    "\n",
    "K = int(df_test.en_tags.str.len().quantile(0.75))\n",
    "K"
   ]
  },
  {
   "cell_type": "code",
   "execution_count": 35,
   "metadata": {},
   "outputs": [],
   "source": [
    "df_test[\"prediction\"] = df_test.feature.apply(lambda x: model_3label.predict(x, k=K))\n",
    "\n",
    "for k in range(K):\n",
    "    df_test[\"label_predicted%i\" %k] = df_test.prediction.str[0].str[k].str.replace(\"__label__\",\"\")\n",
    "    df_test[\"confidence%i\" %k] = df_test.prediction.str[1].str[k]\n",
    "    df_test[\"truth%i\" %k] = df_test.en_tags.str[k].str.replace(\"__label__\",\"\")\n",
    "\n",
    "\n",
    "truth = list()\n",
    "predictions = list()\n",
    "for k in range(int(K)):\n",
    "    truth.append(\"truth%i\" %k)\n",
    "    predictions.append(\"label_predicted%i\" %k)\n",
    "classes = list(set(np.concatenate(df_test[predictions + truth].apply(tuple).apply(list).values)))\n",
    "classes.remove(\"nan\")\n"
   ]
  },
  {
   "cell_type": "code",
   "execution_count": 36,
   "metadata": {},
   "outputs": [
    {
     "name": "stdout",
     "output_type": "stream",
     "text": [
      "compute diffecence sets\n",
      "compute intersections\n",
      "determine vectors\n",
      "CPU times: user 3min 46s, sys: 4.3 s, total: 3min 50s\n",
      "Wall time: 3min 49s\n"
     ]
    }
   ],
   "source": [
    "%time confusion = evaluation_metrics.get_confusion(df_test, classes, K, truth, predictions)\n",
    "\n",
    "confusion.to_csv(\"confusion_3_label.csv\")"
   ]
  },
  {
   "cell_type": "code",
   "execution_count": 37,
   "metadata": {},
   "outputs": [],
   "source": [
    "confusion = pd.read_csv(\"confusion_3_label.csv\", index_col=0)"
   ]
  },
  {
   "cell_type": "code",
   "execution_count": 38,
   "metadata": {},
   "outputs": [
    {
     "data": {
      "text/html": [
       "<div>\n",
       "<style scoped>\n",
       "    .dataframe tbody tr th:only-of-type {\n",
       "        vertical-align: middle;\n",
       "    }\n",
       "\n",
       "    .dataframe tbody tr th {\n",
       "        vertical-align: top;\n",
       "    }\n",
       "\n",
       "    .dataframe thead th {\n",
       "        text-align: right;\n",
       "    }\n",
       "</style>\n",
       "<table border=\"1\" class=\"dataframe\">\n",
       "  <thead>\n",
       "    <tr style=\"text-align: right;\">\n",
       "      <th></th>\n",
       "      <th>precision</th>\n",
       "      <th>recall</th>\n",
       "      <th>f1score</th>\n",
       "      <th>support</th>\n",
       "    </tr>\n",
       "  </thead>\n",
       "  <tbody>\n",
       "    <tr>\n",
       "      <th>cooked-pressed-cheeses</th>\n",
       "      <td>0.973046</td>\n",
       "      <td>0.950000</td>\n",
       "      <td>0.961385</td>\n",
       "      <td>380.0</td>\n",
       "    </tr>\n",
       "    <tr>\n",
       "      <th>mustards</th>\n",
       "      <td>0.979504</td>\n",
       "      <td>0.928425</td>\n",
       "      <td>0.953281</td>\n",
       "      <td>489.0</td>\n",
       "    </tr>\n",
       "    <tr>\n",
       "      <th>prepared-meats</th>\n",
       "      <td>0.941559</td>\n",
       "      <td>0.943049</td>\n",
       "      <td>0.942303</td>\n",
       "      <td>3582.0</td>\n",
       "    </tr>\n",
       "    <tr>\n",
       "      <th>honeys</th>\n",
       "      <td>0.920375</td>\n",
       "      <td>0.959004</td>\n",
       "      <td>0.939293</td>\n",
       "      <td>683.0</td>\n",
       "    </tr>\n",
       "    <tr>\n",
       "      <th>hams</th>\n",
       "      <td>0.921358</td>\n",
       "      <td>0.953741</td>\n",
       "      <td>0.937270</td>\n",
       "      <td>735.0</td>\n",
       "    </tr>\n",
       "    <tr>\n",
       "      <th>fish-and-meat-and-eggs</th>\n",
       "      <td>0.940775</td>\n",
       "      <td>0.931646</td>\n",
       "      <td>0.936188</td>\n",
       "      <td>395.0</td>\n",
       "    </tr>\n",
       "    <tr>\n",
       "      <th>fermented-milk-products</th>\n",
       "      <td>0.932867</td>\n",
       "      <td>0.935103</td>\n",
       "      <td>0.933984</td>\n",
       "      <td>5424.0</td>\n",
       "    </tr>\n",
       "    <tr>\n",
       "      <th>poultries</th>\n",
       "      <td>0.925694</td>\n",
       "      <td>0.932216</td>\n",
       "      <td>0.928943</td>\n",
       "      <td>1372.0</td>\n",
       "    </tr>\n",
       "    <tr>\n",
       "      <th>sauces</th>\n",
       "      <td>0.920702</td>\n",
       "      <td>0.934432</td>\n",
       "      <td>0.927516</td>\n",
       "      <td>3096.0</td>\n",
       "    </tr>\n",
       "    <tr>\n",
       "      <th>olive-tree-products</th>\n",
       "      <td>0.935105</td>\n",
       "      <td>0.913174</td>\n",
       "      <td>0.924009</td>\n",
       "      <td>668.0</td>\n",
       "    </tr>\n",
       "  </tbody>\n",
       "</table>\n",
       "</div>"
      ],
      "text/plain": [
       "                         precision    recall   f1score  support\n",
       "cooked-pressed-cheeses    0.973046  0.950000  0.961385    380.0\n",
       "mustards                  0.979504  0.928425  0.953281    489.0\n",
       "prepared-meats            0.941559  0.943049  0.942303   3582.0\n",
       "honeys                    0.920375  0.959004  0.939293    683.0\n",
       "hams                      0.921358  0.953741  0.937270    735.0\n",
       "fish-and-meat-and-eggs    0.940775  0.931646  0.936188    395.0\n",
       "fermented-milk-products   0.932867  0.935103  0.933984   5424.0\n",
       "poultries                 0.925694  0.932216  0.928943   1372.0\n",
       "sauces                    0.920702  0.934432  0.927516   3096.0\n",
       "olive-tree-products       0.935105  0.913174  0.924009    668.0"
      ]
     },
     "execution_count": 38,
     "metadata": {},
     "output_type": "execute_result"
    }
   ],
   "source": [
    "df_report = evaluation_metrics.get_report(confusion)\n",
    "df_report.dropna().sort_values(by=\"f1score\", ascending = False)[:10]"
   ]
  },
  {
   "cell_type": "code",
   "execution_count": 39,
   "metadata": {
    "scrolled": true
   },
   "outputs": [
    {
     "data": {
      "text/html": [
       "<div>\n",
       "<style scoped>\n",
       "    .dataframe tbody tr th:only-of-type {\n",
       "        vertical-align: middle;\n",
       "    }\n",
       "\n",
       "    .dataframe tbody tr th {\n",
       "        vertical-align: top;\n",
       "    }\n",
       "\n",
       "    .dataframe thead th {\n",
       "        text-align: right;\n",
       "    }\n",
       "</style>\n",
       "<table border=\"1\" class=\"dataframe\">\n",
       "  <thead>\n",
       "    <tr style=\"text-align: right;\">\n",
       "      <th></th>\n",
       "      <th>precision</th>\n",
       "      <th>recall</th>\n",
       "      <th>f1-score</th>\n",
       "      <th>support</th>\n",
       "    </tr>\n",
       "  </thead>\n",
       "  <tbody>\n",
       "    <tr>\n",
       "      <th>macro avg</th>\n",
       "      <td>0.715043</td>\n",
       "      <td>0.655135</td>\n",
       "      <td>0.683779</td>\n",
       "      <td>177565.0</td>\n",
       "    </tr>\n",
       "    <tr>\n",
       "      <th>weighted avg</th>\n",
       "      <td>0.822135</td>\n",
       "      <td>0.826278</td>\n",
       "      <td>0.824201</td>\n",
       "      <td>177565.0</td>\n",
       "    </tr>\n",
       "  </tbody>\n",
       "</table>\n",
       "</div>"
      ],
      "text/plain": [
       "             precision    recall  f1-score   support\n",
       "macro avg     0.715043  0.655135  0.683779  177565.0\n",
       "weighted avg  0.822135  0.826278  0.824201  177565.0"
      ]
     },
     "execution_count": 39,
     "metadata": {},
     "output_type": "execute_result"
    }
   ],
   "source": [
    "evaluation_metrics.get_summary(df_report, confusion)"
   ]
  },
  {
   "cell_type": "markdown",
   "metadata": {},
   "source": [
    "# Combining Multilabel Classification with Near Accuracy "
   ]
  },
  {
   "cell_type": "code",
   "execution_count": 40,
   "metadata": {
    "scrolled": true
   },
   "outputs": [
    {
     "data": {
      "text/plain": [
       "pastas                                                       dry-pasta\n",
       "milk-chocolates                                      chocolate-candies\n",
       "frozen-foods                                           frozen-desserts\n",
       "plant-based-foods                              dried-plant-based-foods\n",
       "prepared-vegetables                                     vegetable-oils\n",
       "seafood                                                  smoked-fishes\n",
       "fermented-milk-products                                fermented-foods\n",
       "juices-and-nectars                     plant-based-foods-and-beverages\n",
       "fruit-based-beverages                                    hot-beverages\n",
       "fermented-foods                                fermented-milk-products\n",
       "dark-chocolates                                      chocolate-candies\n",
       "olive-tree-products                                       bee-products\n",
       "chickens                                               chicken-breasts\n",
       "fishes                                                    pasta-dishes\n",
       "french-cheeses                                  cooked-pressed-cheeses\n",
       "pizzas-pies-and-quiches                           cereals-and-potatoes\n",
       "plant-based-foods-and-beverages                     juices-and-nectars\n",
       "chicken-breasts                                               chickens\n",
       "poultry-meals                                          meals-with-meat\n",
       "dry-pasta                                                       pastas\n",
       "cereals-and-their-products                  legumes-and-their-products\n",
       "biscuits                                            chocolate-biscuits\n",
       "legumes-and-their-products                  cereals-and-their-products\n",
       "non-alcoholic-beverages                            alcoholic-beverages\n",
       "wines                                                wines-from-france\n",
       "fruits-and-vegetables-based-foods              dried-plant-based-foods\n",
       "spreadable-fats                                         vegetable-fats\n",
       "candies                                              chocolate-candies\n",
       "canned-foods                                  canned-plant-based-foods\n",
       "plant-based-beverages                          non-alcoholic-beverages\n",
       "                                                   ...                \n",
       "microwave-meals                                          poultry-meals\n",
       "sweetened-beverages                              plant-based-beverages\n",
       "meals-with-fish                                        meals-with-meat\n",
       "pasta-dishes                                                    fishes\n",
       "canned-fishes                                                   fishes\n",
       "vegetable-oils                                  vegetables-based-foods\n",
       "alcoholic-beverages                            non-alcoholic-beverages\n",
       "sweet-snacks                                         chocolate-candies\n",
       "smoked-fishes                                                  seafood\n",
       "yogurts                                                  fruit-yogurts\n",
       "wines-from-france                                                wines\n",
       "cereals-and-potatoes                                juices-and-nectars\n",
       "dried-products                         dried-products-to-be-rehydrated\n",
       "cooked-pressed-cheeses                                         cheeses\n",
       "unsweetened-beverages                  plant-based-foods-and-beverages\n",
       "vegetables-based-foods                         dried-plant-based-foods\n",
       "plant-based-pickles                                  plant-based-foods\n",
       "spreads                                                  sweet-spreads\n",
       "frozen-plant-based-foods                        vegetables-based-foods\n",
       "chocolates                                           chocolate-candies\n",
       "chocolate-biscuits                                   chocolate-candies\n",
       "desserts                                                dairy-desserts\n",
       "cheeses                                         cooked-pressed-cheeses\n",
       "dairy-desserts                                                desserts\n",
       "bee-products                                       olive-tree-products\n",
       "sweet-spreads                                             sweet-snacks\n",
       "fruits-based-foods                   fruits-and-vegetables-based-foods\n",
       "artificially-sweetened-beverages                 plant-based-beverages\n",
       "fruit-yogurts                                                  yogurts\n",
       "dried-plant-based-foods                         vegetables-based-foods\n",
       "Length: 74, dtype: object"
      ]
     },
     "execution_count": 40,
     "metadata": {},
     "output_type": "execute_result"
    }
   ],
   "source": [
    "class_vecs = pd.Series({cl:model_emb.get_sentence_vector(cl) for cl in classes})\n",
    "\n",
    "Dst = class_vecs.apply(lambda x: class_vecs.apply(lambda y: sd.euclidean(x,y)))\n",
    "\n",
    "mask = Dst > 0.7\n",
    "Dst[mask]=np.nan\n",
    "# show entries with highest distance <= 0.7 for each class\n",
    "Dst.apply(np.argmax)[Dst.max()>0]"
   ]
  },
  {
   "cell_type": "code",
   "execution_count": 41,
   "metadata": {},
   "outputs": [
    {
     "data": {
      "text/html": [
       "<div>\n",
       "<style scoped>\n",
       "    .dataframe tbody tr th:only-of-type {\n",
       "        vertical-align: middle;\n",
       "    }\n",
       "\n",
       "    .dataframe tbody tr th {\n",
       "        vertical-align: top;\n",
       "    }\n",
       "\n",
       "    .dataframe thead th {\n",
       "        text-align: right;\n",
       "    }\n",
       "</style>\n",
       "<table border=\"1\" class=\"dataframe\">\n",
       "  <thead>\n",
       "    <tr style=\"text-align: right;\">\n",
       "      <th></th>\n",
       "      <th>precision</th>\n",
       "      <th>recall</th>\n",
       "      <th>f1score</th>\n",
       "      <th>support</th>\n",
       "    </tr>\n",
       "  </thead>\n",
       "  <tbody>\n",
       "    <tr>\n",
       "      <th>cooked-pressed-cheeses</th>\n",
       "      <td>0.979032</td>\n",
       "      <td>0.968234</td>\n",
       "      <td>0.973603</td>\n",
       "      <td>380.0</td>\n",
       "    </tr>\n",
       "    <tr>\n",
       "      <th>mustards</th>\n",
       "      <td>0.979504</td>\n",
       "      <td>0.928425</td>\n",
       "      <td>0.953281</td>\n",
       "      <td>489.0</td>\n",
       "    </tr>\n",
       "    <tr>\n",
       "      <th>prepared-meats</th>\n",
       "      <td>0.941559</td>\n",
       "      <td>0.943049</td>\n",
       "      <td>0.942303</td>\n",
       "      <td>3582.0</td>\n",
       "    </tr>\n",
       "    <tr>\n",
       "      <th>honeys</th>\n",
       "      <td>0.920375</td>\n",
       "      <td>0.959004</td>\n",
       "      <td>0.939293</td>\n",
       "      <td>683.0</td>\n",
       "    </tr>\n",
       "    <tr>\n",
       "      <th>hams</th>\n",
       "      <td>0.921358</td>\n",
       "      <td>0.953741</td>\n",
       "      <td>0.937270</td>\n",
       "      <td>735.0</td>\n",
       "    </tr>\n",
       "    <tr>\n",
       "      <th>fish-and-meat-and-eggs</th>\n",
       "      <td>0.940775</td>\n",
       "      <td>0.931646</td>\n",
       "      <td>0.936188</td>\n",
       "      <td>395.0</td>\n",
       "    </tr>\n",
       "    <tr>\n",
       "      <th>fermented-milk-products</th>\n",
       "      <td>0.932909</td>\n",
       "      <td>0.935375</td>\n",
       "      <td>0.934141</td>\n",
       "      <td>5424.0</td>\n",
       "    </tr>\n",
       "    <tr>\n",
       "      <th>poultries</th>\n",
       "      <td>0.930048</td>\n",
       "      <td>0.935996</td>\n",
       "      <td>0.933013</td>\n",
       "      <td>1372.0</td>\n",
       "    </tr>\n",
       "    <tr>\n",
       "      <th>sauces</th>\n",
       "      <td>0.920702</td>\n",
       "      <td>0.934432</td>\n",
       "      <td>0.927516</td>\n",
       "      <td>3096.0</td>\n",
       "    </tr>\n",
       "    <tr>\n",
       "      <th>olive-tree-products</th>\n",
       "      <td>0.935105</td>\n",
       "      <td>0.913174</td>\n",
       "      <td>0.924009</td>\n",
       "      <td>668.0</td>\n",
       "    </tr>\n",
       "  </tbody>\n",
       "</table>\n",
       "</div>"
      ],
      "text/plain": [
       "                         precision    recall   f1score  support\n",
       "cooked-pressed-cheeses    0.979032  0.968234  0.973603    380.0\n",
       "mustards                  0.979504  0.928425  0.953281    489.0\n",
       "prepared-meats            0.941559  0.943049  0.942303   3582.0\n",
       "honeys                    0.920375  0.959004  0.939293    683.0\n",
       "hams                      0.921358  0.953741  0.937270    735.0\n",
       "fish-and-meat-and-eggs    0.940775  0.931646  0.936188    395.0\n",
       "fermented-milk-products   0.932909  0.935375  0.934141   5424.0\n",
       "poultries                 0.930048  0.935996  0.933013   1372.0\n",
       "sauces                    0.920702  0.934432  0.927516   3096.0\n",
       "olive-tree-products       0.935105  0.913174  0.924009    668.0"
      ]
     },
     "execution_count": 41,
     "metadata": {},
     "output_type": "execute_result"
    }
   ],
   "source": [
    "S = np.exp(-Dst**2).fillna(0)\n",
    "df_report = evaluation_metrics.get_report(confusion, S)\n",
    "df_report.dropna().sort_values(by=\"f1score\", ascending = False)[:10]"
   ]
  },
  {
   "cell_type": "code",
   "execution_count": 42,
   "metadata": {},
   "outputs": [
    {
     "data": {
      "text/html": [
       "<div>\n",
       "<style scoped>\n",
       "    .dataframe tbody tr th:only-of-type {\n",
       "        vertical-align: middle;\n",
       "    }\n",
       "\n",
       "    .dataframe tbody tr th {\n",
       "        vertical-align: top;\n",
       "    }\n",
       "\n",
       "    .dataframe thead th {\n",
       "        text-align: right;\n",
       "    }\n",
       "</style>\n",
       "<table border=\"1\" class=\"dataframe\">\n",
       "  <thead>\n",
       "    <tr style=\"text-align: right;\">\n",
       "      <th></th>\n",
       "      <th>precision</th>\n",
       "      <th>recall</th>\n",
       "      <th>f1-score</th>\n",
       "      <th>support</th>\n",
       "    </tr>\n",
       "  </thead>\n",
       "  <tbody>\n",
       "    <tr>\n",
       "      <th>macro avg</th>\n",
       "      <td>0.735391</td>\n",
       "      <td>0.694294</td>\n",
       "      <td>0.714252</td>\n",
       "      <td>177565.0</td>\n",
       "    </tr>\n",
       "    <tr>\n",
       "      <th>weighted avg</th>\n",
       "      <td>0.833269</td>\n",
       "      <td>0.836318</td>\n",
       "      <td>0.834791</td>\n",
       "      <td>177565.0</td>\n",
       "    </tr>\n",
       "  </tbody>\n",
       "</table>\n",
       "</div>"
      ],
      "text/plain": [
       "             precision    recall  f1-score   support\n",
       "macro avg     0.735391  0.694294  0.714252  177565.0\n",
       "weighted avg  0.833269  0.836318  0.834791  177565.0"
      ]
     },
     "execution_count": 42,
     "metadata": {},
     "output_type": "execute_result"
    }
   ],
   "source": [
    "evaluation_metrics.get_summary(df_report, confusion, S)"
   ]
  },
  {
   "cell_type": "code",
   "execution_count": 43,
   "metadata": {},
   "outputs": [
    {
     "data": {
      "text/plain": [
       "177565.0"
      ]
     },
     "execution_count": 43,
     "metadata": {},
     "output_type": "execute_result"
    }
   ],
   "source": [
    "confusion.sum().sum()"
   ]
  },
  {
   "cell_type": "code",
   "execution_count": 44,
   "metadata": {},
   "outputs": [
    {
     "data": {
      "text/plain": [
       "177565"
      ]
     },
     "execution_count": 44,
     "metadata": {},
     "output_type": "execute_result"
    }
   ],
   "source": [
    "df_test.en_tags.apply(len).sum()"
   ]
  },
  {
   "cell_type": "code",
   "execution_count": null,
   "metadata": {},
   "outputs": [],
   "source": []
  }
 ],
 "metadata": {
  "kernelspec": {
   "display_name": "openfoodfact",
   "language": "python",
   "name": "openfoodfact"
  },
  "language_info": {
   "codemirror_mode": {
    "name": "ipython",
    "version": 3
   },
   "file_extension": ".py",
   "mimetype": "text/x-python",
   "name": "python",
   "nbconvert_exporter": "python",
   "pygments_lexer": "ipython3",
   "version": "3.7.3"
  }
 },
 "nbformat": 4,
 "nbformat_minor": 2
}

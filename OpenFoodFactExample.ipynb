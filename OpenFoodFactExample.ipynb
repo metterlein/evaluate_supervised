{
 "cells": [
  {
   "cell_type": "code",
   "execution_count": 1,
   "metadata": {},
   "outputs": [],
   "source": [
    "import pandas as pd\n",
    "import numpy as np\n",
    "from fasttext import *\n",
    "%matplotlib inline\n",
    "import evaluation_metrics\n",
    "\n",
    "from sklearn.model_selection import train_test_split\n",
    "\n",
    "import scipy.spatial.distance as sd\n",
    "import sklearn.metrics.pairwise as pw\n",
    "import re"
   ]
  },
  {
   "cell_type": "code",
   "execution_count": 2,
   "metadata": {},
   "outputs": [],
   "source": [
    "#load data\n",
    "df = pd.read_csv(\"data/foodcategories_3labels.csv\", sep = \"\\x01\")\n",
    "df.en_tags = df.en_tags.apply(eval)\n",
    "df = df[df.en_tags.str.len()>0]"
   ]
  },
  {
   "cell_type": "code",
   "execution_count": 3,
   "metadata": {},
   "outputs": [],
   "source": [
    "label, freq = np.unique(np.concatenate(df.en_tags.values), return_counts = True)\n",
    "sr_labels = pd.Series(index=label, data=freq).sort_values()\n"
   ]
  },
  {
   "cell_type": "code",
   "execution_count": 4,
   "metadata": {},
   "outputs": [
    {
     "data": {
      "text/plain": [
       "3    256401\n",
       "2     47258\n",
       "1     25644\n",
       "Name: en_tags, dtype: int64"
      ]
     },
     "execution_count": 4,
     "metadata": {},
     "output_type": "execute_result"
    }
   ],
   "source": [
    "df.en_tags.str.len().value_counts()"
   ]
  },
  {
   "cell_type": "markdown",
   "metadata": {},
   "source": [
    "# Prepare"
   ]
  },
  {
   "cell_type": "code",
   "execution_count": 5,
   "metadata": {
    "scrolled": true
   },
   "outputs": [
    {
     "name": "stdout",
     "output_type": "stream",
     "text": [
      "Empty DataFrame\n",
      "Columns: [product_name, generic_name, brands, categories, categories_tags, origins, manufacturing_places, labels, emb_codes, countries, main_category, en_tags]\n",
      "Index: []\n"
     ]
    }
   ],
   "source": [
    "#generate features\n",
    "feature_cols = ['product_name', 'generic_name', 'brands']\n",
    "print(df[df.en_tags.str.len()==0])\n",
    "X = df[feature_cols].fillna(\"\").apply(lambda x: \" \".join(x), axis = 1)\n",
    "y = df.en_tags"
   ]
  },
  {
   "cell_type": "code",
   "execution_count": 6,
   "metadata": {},
   "outputs": [],
   "source": [
    "# preprocess and split train and test date\n",
    "X = X.str.lower().apply(lambda x: re.sub(r'[^\\w\\s]','',x))\n",
    "\n",
    "X_train, X_test, y_train, y_test = train_test_split(X, y, test_size=0.33, random_state=42)\n",
    "\n",
    "dftrain = y_train.apply(lambda x: \" \".join([\"__label__\" + y\n",
    "                    for y in x])) + \" \" + X_train\n"
   ]
  },
  {
   "cell_type": "code",
   "execution_count": 7,
   "metadata": {},
   "outputs": [],
   "source": [
    "dftrain_emb = y_train.apply(lambda x: \" \".join(x)) + \" \" + X_train\n",
    "dftrain_emb.to_csv(\n",
    "    \"train_emb.csv\", index = False, sep=\";\")"
   ]
  },
  {
   "cell_type": "code",
   "execution_count": 8,
   "metadata": {},
   "outputs": [],
   "source": [
    "dftest = y_test.apply(lambda x: \" \".join([\"__label__\" + y\n",
    "                    for y in x])) + \" \" + X_test\n"
   ]
  },
  {
   "cell_type": "code",
   "execution_count": 9,
   "metadata": {},
   "outputs": [],
   "source": [
    "dftrain.to_csv(\n",
    "    \"train.csv\", index = False, sep=\";\")\n",
    "dftest.to_csv(\n",
    "    \"test.csv\", index = False, sep=\";\")"
   ]
  },
  {
   "cell_type": "markdown",
   "metadata": {},
   "source": [
    "# Train"
   ]
  },
  {
   "cell_type": "code",
   "execution_count": 10,
   "metadata": {},
   "outputs": [],
   "source": [
    "# train_supervised(\"/Users/evelyn.trautmann/projects/openfood/train.csv\",\n",
    "#                 autotuneValidationFile = \"test.csv\")"
   ]
  },
  {
   "cell_type": "code",
   "execution_count": 11,
   "metadata": {},
   "outputs": [
    {
     "name": "stdout",
     "output_type": "stream",
     "text": [
      "Progress: 100.0% Trials:   21 Best score:  0.473464 ETA:   0h 0m 0s14m25ssm 6s54s23s31s20s2s  0h 5m50s 1m59sm 2sh 0m57s ETA:   0h 0m50sm42s0h 0m18sm 5s\n",
      "Training again with best arguments\n",
      "Read 2M words\n",
      "Number of words:  79212\n",
      "Number of labels: 137\n",
      "Progress: 100.0% words/sec/thread:  155338 lr:  0.000000 avg.loss:  1.339714 ETA:   0h 0m 0s 1s0h 1m55ss  0h 1m40s0h 1m39s 1.728153 ETA:   0h 1m39s  0h 1m28sh 1m25s  0h 1m15s 1m12s  0h 1m 1sh 0m59sm57s57.8% words/sec/thread:  163398 lr:  0.129317 avg.loss:  1.477740 ETA:   0h 0m48s 0m29ss 0m24sm22s 0m18s0m11s 0m 8s1.344346 ETA:   0h 0m 1s\n"
     ]
    }
   ],
   "source": [
    "!/Users/evelyn.trautmann/repos/fasttext3/fastText/fasttext supervised \\\n",
    "    -input \"/Users/evelyn.trautmann/projects/openfood/train.csv\" -output model \\\n",
    "    -autotune-validation \"test.csv\" -autotune-duration 1000"
   ]
  },
  {
   "cell_type": "code",
   "execution_count": 12,
   "metadata": {},
   "outputs": [
    {
     "name": "stdout",
     "output_type": "stream",
     "text": [
      "dim 25\r\n",
      "ws 5\r\n",
      "epoch 100\r\n",
      "minCount 1\r\n",
      "neg 5\r\n",
      "wordNgrams 4\r\n",
      "loss softmax\r\n",
      "model sup\r\n",
      "bucket 1215864\r\n",
      "minn 0\r\n",
      "maxn 0\r\n",
      "lrUpdateRate 100\r\n",
      "t 0.0001\r\n"
     ]
    }
   ],
   "source": [
    "!/Users/evelyn.trautmann/repos/fasttext3/fastText/fasttext dump model.bin args"
   ]
  },
  {
   "cell_type": "code",
   "execution_count": 13,
   "metadata": {},
   "outputs": [
    {
     "name": "stdout",
     "output_type": "stream",
     "text": [
      "N\t108670\r\n",
      "P@3\t0.761\r\n",
      "R@3\t0.846\r\n"
     ]
    }
   ],
   "source": [
    "!/Users/evelyn.trautmann/repos/fasttext3/fastText/fasttext test model.bin test.csv 3"
   ]
  },
  {
   "cell_type": "code",
   "execution_count": 14,
   "metadata": {},
   "outputs": [
    {
     "name": "stderr",
     "output_type": "stream",
     "text": [
      "\n"
     ]
    }
   ],
   "source": [
    "model = load_model(\"model.bin\")"
   ]
  },
  {
   "cell_type": "code",
   "execution_count": 15,
   "metadata": {},
   "outputs": [],
   "source": [
    "model_emb = train_unsupervised(\"/Users/evelyn.trautmann/projects/openfood/train_emb.csv\")"
   ]
  },
  {
   "cell_type": "code",
   "execution_count": null,
   "metadata": {},
   "outputs": [],
   "source": [
    "# model = train_supervised(input=\"/Users/evelyn.trautmann/projects/openfood/train.csv\", \n",
    "#                          autotuneValidationFile=\"test.csv\")"
   ]
  },
  {
   "cell_type": "markdown",
   "metadata": {},
   "source": [
    "# Test"
   ]
  },
  {
   "cell_type": "code",
   "execution_count": 16,
   "metadata": {},
   "outputs": [
    {
     "data": {
      "text/plain": [
       "(108670, 0.7606576485383884, 0.8459420828742287)"
      ]
     },
     "execution_count": 16,
     "metadata": {},
     "output_type": "execute_result"
    }
   ],
   "source": [
    "model.test(\"test.csv\", k=3)"
   ]
  },
  {
   "cell_type": "code",
   "execution_count": 17,
   "metadata": {},
   "outputs": [],
   "source": [
    "df_test = X_test.to_frame()\n",
    "df_test.columns = [\"feature\"]"
   ]
  },
  {
   "cell_type": "code",
   "execution_count": 18,
   "metadata": {},
   "outputs": [
    {
     "data": {
      "text/plain": [
       "3"
      ]
     },
     "execution_count": 18,
     "metadata": {},
     "output_type": "execute_result"
    }
   ],
   "source": [
    "# determine number of labels\n",
    "df_test = df_test.join(y_test)\n",
    "\n",
    "K = int(df_test.en_tags.str.len().quantile(0.75))\n",
    "K"
   ]
  },
  {
   "cell_type": "markdown",
   "metadata": {},
   "source": [
    "# Multilabel Evaluation "
   ]
  },
  {
   "cell_type": "code",
   "execution_count": 19,
   "metadata": {},
   "outputs": [],
   "source": [
    "df_test[\"prediction\"] = df_test.feature.apply(lambda x: model.predict(x, k=K))\n",
    "\n",
    "for k in range(K):\n",
    "    df_test[\"label_predicted%i\" %k] = df_test.prediction.str[0].str[k].str.replace(\"__label__\",\"\")\n",
    "    df_test[\"confidence%i\" %k] = df_test.prediction.str[1].str[k]\n",
    "    df_test[\"truth%i\" %k] = df_test.en_tags.str[k].str.replace(\"__label__\",\"\")\n"
   ]
  },
  {
   "cell_type": "code",
   "execution_count": 20,
   "metadata": {
    "scrolled": true
   },
   "outputs": [
    {
     "data": {
      "text/plain": [
       "feature             108670\n",
       "en_tags             108670\n",
       "prediction          108670\n",
       "label_predicted0    108670\n",
       "confidence0         108670\n",
       "truth0              108670\n",
       "label_predicted1    108670\n",
       "confidence1         108670\n",
       "truth1              100092\n",
       "label_predicted2    108670\n",
       "confidence2         108670\n",
       "truth2               84382\n",
       "dtype: int64"
      ]
     },
     "execution_count": 20,
     "metadata": {},
     "output_type": "execute_result"
    }
   ],
   "source": [
    "df_test.count()"
   ]
  },
  {
   "cell_type": "code",
   "execution_count": 21,
   "metadata": {
    "scrolled": true
   },
   "outputs": [],
   "source": [
    "# assertion no empty tags\n",
    "assert(len(df_test.en_tags[df_test.en_tags.str.len()==0])==0)"
   ]
  },
  {
   "cell_type": "markdown",
   "metadata": {},
   "source": []
  },
  {
   "cell_type": "code",
   "execution_count": 22,
   "metadata": {},
   "outputs": [],
   "source": [
    "classes = sr_labels.index.values\n",
    "#classes = list(set(np.concatenate(df_test.en_tags[df_test.en_tags.str.len()>0].values)))\n",
    "\n",
    "truth = list()\n",
    "predictions = list()\n",
    "for k in range(int(K)):\n",
    "    truth.append(\"truth%i\" %k)\n",
    "    predictions.append(\"label_predicted%i\" %k)"
   ]
  },
  {
   "cell_type": "code",
   "execution_count": 23,
   "metadata": {
    "scrolled": true
   },
   "outputs": [
    {
     "name": "stdout",
     "output_type": "stream",
     "text": [
      "CPU times: user 9min 42s, sys: 15.6 s, total: 9min 58s\n",
      "Wall time: 15min 43s\n"
     ]
    }
   ],
   "source": [
    "%time confusion = evaluation_metrics.get_confusion(df_test, classes, K, truth, predictions)"
   ]
  },
  {
   "cell_type": "code",
   "execution_count": 24,
   "metadata": {},
   "outputs": [
    {
     "name": "stdout",
     "output_type": "stream",
     "text": [
      "247982.0\n",
      "293144.0\n",
      "108670\n",
      "0.8459391971181399\n"
     ]
    }
   ],
   "source": [
    "print(np.diag(confusion).sum())\n",
    "print(confusion.sum().sum())\n",
    "print(df_test.shape[0])\n",
    "\n",
    "print(np.diag(confusion).sum()/confusion.sum().sum())"
   ]
  },
  {
   "cell_type": "code",
   "execution_count": 25,
   "metadata": {},
   "outputs": [],
   "source": [
    "df_report = evaluation_metrics.get_report(confusion)"
   ]
  },
  {
   "cell_type": "code",
   "execution_count": 26,
   "metadata": {},
   "outputs": [
    {
     "data": {
      "text/html": [
       "<div>\n",
       "<style scoped>\n",
       "    .dataframe tbody tr th:only-of-type {\n",
       "        vertical-align: middle;\n",
       "    }\n",
       "\n",
       "    .dataframe tbody tr th {\n",
       "        vertical-align: top;\n",
       "    }\n",
       "\n",
       "    .dataframe thead th {\n",
       "        text-align: right;\n",
       "    }\n",
       "</style>\n",
       "<table border=\"1\" class=\"dataframe\">\n",
       "  <thead>\n",
       "    <tr style=\"text-align: right;\">\n",
       "      <th></th>\n",
       "      <th>precision</th>\n",
       "      <th>recall</th>\n",
       "      <th>f1-score</th>\n",
       "      <th>support</th>\n",
       "    </tr>\n",
       "  </thead>\n",
       "  <tbody>\n",
       "    <tr>\n",
       "      <th>micro avg</th>\n",
       "      <td>0.845939</td>\n",
       "      <td>0.845939</td>\n",
       "      <td>0.845939</td>\n",
       "      <td>293144.0</td>\n",
       "    </tr>\n",
       "    <tr>\n",
       "      <th>macro avg</th>\n",
       "      <td>0.711866</td>\n",
       "      <td>0.791126</td>\n",
       "      <td>0.749406</td>\n",
       "      <td>293144.0</td>\n",
       "    </tr>\n",
       "    <tr>\n",
       "      <th>weighted avg</th>\n",
       "      <td>0.85662</td>\n",
       "      <td>0.845939</td>\n",
       "      <td>0.851246</td>\n",
       "      <td>293144.0</td>\n",
       "    </tr>\n",
       "  </tbody>\n",
       "</table>\n",
       "</div>"
      ],
      "text/plain": [
       "             precision    recall  f1-score   support\n",
       "micro avg     0.845939  0.845939  0.845939  293144.0\n",
       "macro avg     0.711866  0.791126  0.749406  293144.0\n",
       "weighted avg   0.85662  0.845939  0.851246  293144.0"
      ]
     },
     "execution_count": 26,
     "metadata": {},
     "output_type": "execute_result"
    }
   ],
   "source": [
    "evaluation_metrics.get_summary(df_report, confusion)"
   ]
  },
  {
   "cell_type": "markdown",
   "metadata": {},
   "source": [
    "# Similarity"
   ]
  },
  {
   "cell_type": "code",
   "execution_count": 27,
   "metadata": {
    "scrolled": true
   },
   "outputs": [],
   "source": [
    "class_vecs = pd.Series({cl:model_emb.get_sentence_vector(cl) for cl in classes})"
   ]
  },
  {
   "cell_type": "code",
   "execution_count": 28,
   "metadata": {},
   "outputs": [],
   "source": [
    "model_emb.get_sentence_vector??"
   ]
  },
  {
   "cell_type": "code",
   "execution_count": 29,
   "metadata": {},
   "outputs": [],
   "source": [
    "Dst = class_vecs.apply(lambda x: class_vecs.apply(lambda y: sd.euclidean(x,y)))"
   ]
  },
  {
   "cell_type": "code",
   "execution_count": 31,
   "metadata": {
    "collapsed": true
   },
   "outputs": [
    {
     "name": "stderr",
     "output_type": "stream",
     "text": [
      "/usr/local/anaconda3/lib/python3.7/site-packages/numpy/core/fromnumeric.py:56: FutureWarning: 'argmax' is deprecated, use 'idxmax' instead. The behavior of 'argmax'\n",
      "will be corrected to return the positional maximum in the future.\n",
      "Use 'series.values.argmax' to get the position of the maximum now.\n",
      "  return getattr(obj, method)(*args, **kwds)\n"
     ]
    },
    {
     "data": {
      "text/plain": [
       "fruit-juices-and-nectars                            juices-and-nectars\n",
       "plant-based-spreads                                plant-based-spreads\n",
       "crisps                                                          crisps\n",
       "fruit-based-beverages                            plant-based-beverages\n",
       "chicken-breasts                                               chickens\n",
       "yogurts                                                  fruit-yogurts\n",
       "spreadable-fats                                        spreadable-fats\n",
       "legumes                                                        legumes\n",
       "bee-products                                              bee-products\n",
       "vegetable-fats                                          vegetable-fats\n",
       "white-hams                                                  white-hams\n",
       "plant-based-pickles                                plant-based-pickles\n",
       "dried-plant-based-foods                       canned-plant-based-foods\n",
       "chocolate-candies                                    chocolate-candies\n",
       "plant-based-beverages                            fruit-based-beverages\n",
       "fruits-based-foods                                  fruits-based-foods\n",
       "canned-plant-based-foods                       dried-plant-based-foods\n",
       "salmons                                                        salmons\n",
       "cereals-and-potatoes                              cereals-and-potatoes\n",
       "seeds                                                            seeds\n",
       "pasteurized-cheeses                                pasteurized-cheeses\n",
       "dried-products-to-be-rehydrated                         dried-products\n",
       "rillettes                                                    rillettes\n",
       "french-cheeses                                          french-cheeses\n",
       "waters                                                          waters\n",
       "bars                                                              bars\n",
       "microwave-meals                                        microwave-meals\n",
       "canned-foods                                              canned-foods\n",
       "wines-from-france                                                wines\n",
       "pasta-dishes                                              pasta-dishes\n",
       "                                                   ...                \n",
       "salty-snacks                                              salty-snacks\n",
       "spreads                                                        spreads\n",
       "cheeses                                                        cheeses\n",
       "meat-based-products                                meat-based-products\n",
       "breads                                                          breads\n",
       "fishes                                                         seafood\n",
       "condiments                                                  condiments\n",
       "juices-and-nectars                            fruit-juices-and-nectars\n",
       "sweetened-beverages                              unsweetened-beverages\n",
       "confectioneries                                        confectioneries\n",
       "alcoholic-beverages                                alcoholic-beverages\n",
       "seafood                                                         fishes\n",
       "desserts                                                      desserts\n",
       "fermented-foods                                fermented-milk-products\n",
       "non-alcoholic-beverages                            sweetened-beverages\n",
       "groceries                                                       sauces\n",
       "sauces                                                       groceries\n",
       "biscuits-and-cakes                                  biscuits-and-cakes\n",
       "breakfasts                                                  breakfasts\n",
       "prepared-meats                                          prepared-meats\n",
       "meals                                                            meals\n",
       "meats                                                            meats\n",
       "fermented-milk-products                                fermented-foods\n",
       "sweet-snacks                                              sweet-snacks\n",
       "fruits-and-vegetables-based-foods    fruits-and-vegetables-based-foods\n",
       "dairies                                                        dairies\n",
       "beverages                                                    beverages\n",
       "snacks                                                          snacks\n",
       "plant-based-foods-and-beverages                      plant-based-foods\n",
       "plant-based-foods                      plant-based-foods-and-beverages\n",
       "Length: 138, dtype: object"
      ]
     },
     "execution_count": 31,
     "metadata": {},
     "output_type": "execute_result"
    }
   ],
   "source": [
    "mask = Dst > 0.5\n",
    "Dst[mask]=np.nan\n",
    "Dst.apply(np.argmax)"
   ]
  },
  {
   "cell_type": "code",
   "execution_count": 32,
   "metadata": {},
   "outputs": [
    {
     "data": {
      "text/plain": [
       "0    138\n",
       "dtype: int64"
      ]
     },
     "execution_count": 32,
     "metadata": {},
     "output_type": "execute_result"
    }
   ],
   "source": [
    "Dst[mask].count().value_counts()"
   ]
  },
  {
   "cell_type": "code",
   "execution_count": 33,
   "metadata": {},
   "outputs": [],
   "source": [
    "S = np.exp(-Dst**2).fillna(0)"
   ]
  },
  {
   "cell_type": "code",
   "execution_count": 34,
   "metadata": {
    "scrolled": true
   },
   "outputs": [
    {
     "data": {
      "text/plain": [
       "fruit-juices-and-nectars                 1.000000\n",
       "plant-based-spreads                      0.000000\n",
       "crisps                                   0.000000\n",
       "fruit-based-beverages                    0.000000\n",
       "chicken-breasts                          0.000000\n",
       "yogurts                                  2.000000\n",
       "spreadable-fats                          3.000000\n",
       "legumes                                  1.000000\n",
       "bee-products                            19.000000\n",
       "vegetable-fats                          14.666667\n",
       "white-hams                              18.333333\n",
       "plant-based-pickles                     21.666667\n",
       "dried-plant-based-foods                 18.000000\n",
       "chocolate-candies                       30.000000\n",
       "plant-based-beverages                   38.000000\n",
       "fruits-based-foods                      93.000000\n",
       "canned-plant-based-foods               126.666667\n",
       "salmons                                158.666667\n",
       "cereals-and-potatoes                   158.000000\n",
       "seeds                                  176.333333\n",
       "pasteurized-cheeses                     57.166667\n",
       "dried-products-to-be-rehydrated        224.833333\n",
       "rillettes                              311.333333\n",
       "french-cheeses                         337.000000\n",
       "waters                                 356.666667\n",
       "bars                                   364.000000\n",
       "microwave-meals                        267.500000\n",
       "canned-foods                           298.000000\n",
       "wines-from-france                      375.500000\n",
       "pasta-dishes                           476.500000\n",
       "                                         ...     \n",
       "salty-snacks                          2166.333333\n",
       "spreads                               2126.666667\n",
       "cheeses                               2027.000000\n",
       "meat-based-products                   2452.666667\n",
       "breads                                2463.666667\n",
       "fishes                                2676.500000\n",
       "condiments                            2427.500000\n",
       "juices-and-nectars                    2716.000000\n",
       "sweetened-beverages                   2494.000000\n",
       "confectioneries                       3083.000000\n",
       "alcoholic-beverages                   3014.666667\n",
       "seafood                               3514.333333\n",
       "desserts                              3589.333333\n",
       "fermented-foods                       4700.666667\n",
       "non-alcoholic-beverages               4551.666667\n",
       "groceries                             5128.333333\n",
       "sauces                                5077.000000\n",
       "biscuits-and-cakes                    5197.000000\n",
       "breakfasts                            5860.166667\n",
       "prepared-meats                        5955.500000\n",
       "meals                                 8301.000000\n",
       "meats                                 9282.833333\n",
       "fermented-milk-products               9172.000000\n",
       "sweet-snacks                          9405.833333\n",
       "fruits-and-vegetables-based-foods    10616.000000\n",
       "dairies                              10879.333333\n",
       "beverages                            14225.333333\n",
       "snacks                               15648.000000\n",
       "plant-based-foods-and-beverages      29497.000000\n",
       "plant-based-foods                    31418.500000\n",
       "Length: 138, dtype: float64"
      ]
     },
     "execution_count": 34,
     "metadata": {},
     "output_type": "execute_result"
    }
   ],
   "source": [
    "confusion.sum()"
   ]
  },
  {
   "cell_type": "code",
   "execution_count": 35,
   "metadata": {},
   "outputs": [],
   "source": [
    "df_report = evaluation_metrics.get_report(confusion, S)\n",
    "#.dropna()"
   ]
  },
  {
   "cell_type": "code",
   "execution_count": 36,
   "metadata": {},
   "outputs": [
    {
     "data": {
      "text/html": [
       "<div>\n",
       "<style scoped>\n",
       "    .dataframe tbody tr th:only-of-type {\n",
       "        vertical-align: middle;\n",
       "    }\n",
       "\n",
       "    .dataframe tbody tr th {\n",
       "        vertical-align: top;\n",
       "    }\n",
       "\n",
       "    .dataframe thead th {\n",
       "        text-align: right;\n",
       "    }\n",
       "</style>\n",
       "<table border=\"1\" class=\"dataframe\">\n",
       "  <thead>\n",
       "    <tr style=\"text-align: right;\">\n",
       "      <th></th>\n",
       "      <th>precision</th>\n",
       "      <th>recall</th>\n",
       "      <th>f1-score</th>\n",
       "      <th>support</th>\n",
       "    </tr>\n",
       "  </thead>\n",
       "  <tbody>\n",
       "    <tr>\n",
       "      <th>micro avg</th>\n",
       "      <td>0.849167</td>\n",
       "      <td>0.849167</td>\n",
       "      <td>0.849167</td>\n",
       "      <td>293144.0</td>\n",
       "    </tr>\n",
       "    <tr>\n",
       "      <th>macro avg</th>\n",
       "      <td>0.718927</td>\n",
       "      <td>0.797948</td>\n",
       "      <td>0.756379</td>\n",
       "      <td>293144.0</td>\n",
       "    </tr>\n",
       "    <tr>\n",
       "      <th>weighted avg</th>\n",
       "      <td>0.859261</td>\n",
       "      <td>0.849167</td>\n",
       "      <td>0.854184</td>\n",
       "      <td>293144.0</td>\n",
       "    </tr>\n",
       "  </tbody>\n",
       "</table>\n",
       "</div>"
      ],
      "text/plain": [
       "             precision    recall  f1-score   support\n",
       "micro avg     0.849167  0.849167  0.849167  293144.0\n",
       "macro avg     0.718927  0.797948  0.756379  293144.0\n",
       "weighted avg  0.859261  0.849167  0.854184  293144.0"
      ]
     },
     "execution_count": 36,
     "metadata": {},
     "output_type": "execute_result"
    }
   ],
   "source": [
    "evaluation_metrics.get_summary(df_report, confusion, S)"
   ]
  },
  {
   "cell_type": "code",
   "execution_count": 45,
   "metadata": {},
   "outputs": [],
   "source": [
    "df.to_csv(\"data/foodcategories_3labels.csv\", index=False, sep=\"\\x01\")"
   ]
  },
  {
   "cell_type": "code",
   "execution_count": 48,
   "metadata": {},
   "outputs": [
    {
     "name": "stdout",
     "output_type": "stream",
     "text": [
      "total 725328\r\n",
      "-rw-r--r--  1 evelyn.trautmann  666409104    85K Sep 23 22:15 OpenFoodFactExample-Copy1.ipynb\r\n",
      "-rw-r--r--  1 evelyn.trautmann  666409104    27K Sep 23 22:28 OpenFoodFactExample.ipynb\r\n",
      "-rw-r--r--  1 evelyn.trautmann  666409104   103K Sep 18 22:38 PrepareData.ipynb\r\n",
      "-rw-r--r--  1 evelyn.trautmann  666409104   169K Sep 15 13:32 PyDataExample.ipynb\r\n",
      "-rw-r--r--  1 evelyn.trautmann  666409104   1.5K Sep 23 21:32 README.md\r\n",
      "-rw-r--r--  1 evelyn.trautmann  666409104   9.4K Sep 19 21:56 Untitled.ipynb\r\n",
      "drwxr-xr-x  3 evelyn.trautmann  666409104    96B Sep 23 21:27 \u001b[34m__pycache__\u001b[m\u001b[m\r\n",
      "-rw-r--r--@ 1 evelyn.trautmann  666409104    14M Sep  7 14:39 alc_beverages.csv\r\n",
      "-rw-r--r--@ 1 evelyn.trautmann  666409104   2.7M Sep  7 14:40 beef.csv\r\n",
      "-rw-r--r--@ 1 evelyn.trautmann  666409104    18M Sep  7 14:29 biscuits.csv\r\n",
      "-rw-r--r--@ 1 evelyn.trautmann  666409104    13M Sep  7 14:29 cake.csv\r\n",
      "drwxr-xr-x  4 evelyn.trautmann  666409104   128B Sep 23 22:27 \u001b[34mdata\u001b[m\u001b[m\r\n",
      "drwxr-xr-x  5 evelyn.trautmann  666409104   160B Sep 23 22:15 \u001b[34mdata2\u001b[m\u001b[m\r\n",
      "-rw-r--r--  1 evelyn.trautmann  666409104   4.3K Sep 22 21:24 evaluation_metrics.py\r\n",
      "-rw-r--r--@ 1 evelyn.trautmann  666409104    15M Sep  7 14:38 fishes.csv\r\n",
      "-rw-r--r--  1 evelyn.trautmann  666409104   125M Sep 23 21:49 model.bin\r\n",
      "-rw-r--r--  1 evelyn.trautmann  666409104    18M Sep 23 21:49 model.vec\r\n",
      "drwxr-xr-x  6 evelyn.trautmann  666409104   192B Sep 23 21:23 \u001b[34mopenfoodfact\u001b[m\u001b[m\r\n",
      "-rw-r--r--@ 1 evelyn.trautmann  666409104   5.6M Sep  6 20:45 openfoodfacts_search (1).csv\r\n",
      "-rw-r--r--@ 1 evelyn.trautmann  666409104    12M Sep  6 20:46 openfoodfacts_search (2).csv\r\n",
      "-rw-r--r--@ 1 evelyn.trautmann  666409104   456K Sep  6 20:46 openfoodfacts_search (3).csv\r\n",
      "-rw-r--r--@ 1 evelyn.trautmann  666409104   4.9M Sep  6 20:50 openfoodfacts_search (4).csv\r\n",
      "-rw-r--r--@ 1 evelyn.trautmann  666409104   5.4M Sep  6 20:50 openfoodfacts_search (5).csv\r\n",
      "-rw-r--r--@ 1 evelyn.trautmann  666409104    17M Sep  6 20:43 openfoodfacts_search.csv\r\n",
      "-rw-r--r--@ 1 evelyn.trautmann  666409104   2.6M Sep  7 14:43 pork.csv\r\n",
      "-rw-r--r--@ 1 evelyn.trautmann  666409104    10M Sep  7 14:42 poultries.csv\r\n",
      "-rw-r--r--  1 evelyn.trautmann  666409104     9B Sep 19 21:52 requirements.txt\r\n",
      "-rw-r--r--@ 1 evelyn.trautmann  666409104    16M Sep  7 14:37 salty_snacks.csv\r\n",
      "-rw-r--r--  1 evelyn.trautmann  666409104    12M Sep 23 21:30 test.csv\r\n",
      "-rw-r--r--  1 evelyn.trautmann  666409104    24M Sep 23 21:30 train.csv\r\n",
      "-rw-r--r--  1 evelyn.trautmann  666409104   4.0M Sep  8 00:29 train2.csv\r\n",
      "-rw-r--r--  1 evelyn.trautmann  666409104    18M Sep 23 21:30 train_emb.csv\r\n",
      "-rw-r--r--  1 evelyn.trautmann  666409104   5.5M Sep 11 11:22 train_emp.csv\r\n"
     ]
    }
   ],
   "source": [
    "!ls -lh\n"
   ]
  },
  {
   "cell_type": "code",
   "execution_count": null,
   "metadata": {},
   "outputs": [],
   "source": []
  }
 ],
 "metadata": {
  "kernelspec": {
   "display_name": "openfoodfact",
   "language": "python",
   "name": "openfoodfact"
  },
  "language_info": {
   "codemirror_mode": {
    "name": "ipython",
    "version": 3
   },
   "file_extension": ".py",
   "mimetype": "text/x-python",
   "name": "python",
   "nbconvert_exporter": "python",
   "pygments_lexer": "ipython3",
   "version": "3.7.3"
  }
 },
 "nbformat": 4,
 "nbformat_minor": 2
}
